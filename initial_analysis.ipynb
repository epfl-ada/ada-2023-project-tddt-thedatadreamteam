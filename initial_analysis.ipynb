{
 "cells": [
  {
   "cell_type": "code",
   "execution_count": null,
   "metadata": {},
   "outputs": [],
   "source": [
    "import re\n",
    "import os\n",
    "import scipy\n",
    "import numpy as np\n",
    "import pandas as pd\n",
    "import seaborn as sns\n",
    "import plotly.express as px\n",
    "import matplotlib.pyplot as plt\n",
    "import plotly.graph_objects as go\n",
    "import statsmodels.formula.api as smf"
   ]
  },
  {
   "cell_type": "code",
   "execution_count": null,
   "metadata": {},
   "outputs": [],
   "source": [
    "import warnings\n",
    "warnings.simplefilter(action='ignore', category=FutureWarning)"
   ]
  },
  {
   "cell_type": "code",
   "execution_count": null,
   "metadata": {},
   "outputs": [],
   "source": [
    "df_continents = pd.read_csv(os.path.join(\"Data\", \"continents.csv\"))\n",
    "\n",
    "display(df_continents)"
   ]
  },
  {
   "cell_type": "markdown",
   "metadata": {},
   "source": [
    "### Colors for all plots"
   ]
  },
  {
   "cell_type": "code",
   "execution_count": null,
   "metadata": {},
   "outputs": [],
   "source": [
    "continents = df_continents['continent'].unique()\n",
    "random_colors = sns.color_palette('husl', n_colors=len(continents))\n",
    "continents_colors = {}\n",
    "continents_colors_int = {}\n",
    "for i in range(len(continents)):\n",
    "    continents_colors[continents[i]] = random_colors[i]\n",
    "    continents_colors_int[continents[i]] = tuple(map(lambda x: int(255 * x), random_colors[i]))\n",
    "    continents_colors_int[continents[i]] = \"#{0:02x}{1:02x}{2:02x}\".format(*continents_colors_int[continents[i]])\n",
    "print(continents_colors)\n",
    "print(continents_colors_int)\n"
   ]
  },
  {
   "cell_type": "markdown",
   "metadata": {},
   "source": [
    "### Articles per continent"
   ]
  },
  {
   "cell_type": "code",
   "execution_count": null,
   "metadata": {},
   "outputs": [],
   "source": [
    "continents_grouped = df_continents.groupby(['continent']).size()\n",
    "continents_grouped = continents_grouped.sort_values(ascending=False)\n",
    "continents_grouped"
   ]
  },
  {
   "cell_type": "code",
   "execution_count": null,
   "metadata": {},
   "outputs": [],
   "source": [
    "num_categories = len(continents_grouped.keys())\n",
    "ax = plt.bar(continents_grouped.keys(), continents_grouped.values, color=[continents_colors[continent] for continent in continents_grouped.keys()])\n",
    "plt.xticks(rotation=45)\n",
    "\n",
    "fig = px.bar(\n",
    "    x=list(continents_grouped.keys()),\n",
    "    y=list(continents_grouped.values),\n",
    "    labels={\"x\": \"Continent\", \"y\": \"Count\"},\n",
    "    title=\"Count of Categories by Continent\",\n",
    "    color=list(continents_grouped.keys()),\n",
    ")\n",
    "\n",
    "# fig.update_layout(xaxis=dict(tickangle=-45))\n",
    "fig.update_layout(showlegend=False)\n",
    "\n",
    "file_path = os.path.join(plots_path, \"count_of_categories_by_continent.html\")\n",
    "fig.write_html(file_path)\n",
    "\n",
    "fig.show()\n"
   ]
  },
  {
   "cell_type": "code",
   "execution_count": null,
   "metadata": {},
   "outputs": [],
   "source": [
    "plots_path = \"plots\"\n",
    "os.makedirs(plots_path, exist_ok=True)\n",
    "\n",
    "fig = px.bar(\n",
    "    x=list(continents_grouped.keys()),\n",
    "    y=list(continents_grouped.values),\n",
    "    labels={\"x\": \"Continent\", \"y\": \"Count\"},\n",
    "    title=\"Count of Categories by Continent\",\n",
    "    color=[continents_colors_int[continent] for continent in continents_grouped.index],\n",
    "    color_discrete_map=\"identity\"\n",
    ")\n",
    "\n",
    "# fig.update_layout(xaxis=dict(tickangle=-45))\n",
    "fig.update_layout(showlegend=False)\n",
    "\n",
    "file_path = os.path.join(plots_path, \"count_of_categories_by_continent.html\")\n",
    "fig.write_html(file_path)\n",
    "\n",
    "fig.show()"
   ]
  },
  {
   "cell_type": "markdown",
   "metadata": {},
   "source": [
    "## Number of articles by category"
   ]
  },
  {
   "cell_type": "code",
   "execution_count": null,
   "metadata": {},
   "outputs": [],
   "source": [
    "df_categories = pd.read_csv(\n",
    "    os.path.join(\"Data\", \"wikispeedia_paths-and-graph\", \"categories.tsv\"),\n",
    "    delimiter=\"\\t\",\n",
    "    header=None,\n",
    "    names=[\"article\", \"category\"],\n",
    "    skip_blank_lines=True,\n",
    "    comment=\"#\",\n",
    "    encoding=\"UTF-8\"\n",
    ")\n",
    "\n",
    "display(df_categories.head())\n",
    "print(\"Size:\", df_categories.shape)"
   ]
  },
  {
   "cell_type": "code",
   "execution_count": null,
   "metadata": {},
   "outputs": [],
   "source": [
    "df_articles = pd.merge(df_categories, df_continents, on=\"article\", how=\"left\")\n",
    "display(df_articles.head())\n",
    "print(\"Size:\", df_articles.shape, \"Missing values:\", df_articles.isna().any().any())"
   ]
  },
  {
   "cell_type": "code",
   "execution_count": null,
   "metadata": {},
   "outputs": [],
   "source": [
    "main_cats = []\n",
    "for category in df_articles['category'].values:\n",
    "    main_cats.append(category.split('.')[1])\n",
    "\n",
    "df_articles['categoryMain'] = main_cats\n",
    "display(df_articles)\n",
    "print(\"Size:\", df_articles.shape)"
   ]
  },
  {
   "cell_type": "code",
   "execution_count": null,
   "metadata": {},
   "outputs": [],
   "source": [
    "articles_cat_continent = df_articles.groupby(['categoryMain', 'continent']).size()\n",
    "display(articles_cat_continent[('Geography', 'International')])"
   ]
  },
  {
   "cell_type": "code",
   "execution_count": null,
   "metadata": {},
   "outputs": [],
   "source": [
    "display(articles_cat_continent)"
   ]
  },
  {
   "cell_type": "code",
   "execution_count": null,
   "metadata": {},
   "outputs": [],
   "source": [
    "categories = df_articles['categoryMain'].unique()\n",
    "continents = df_articles['continent'].unique()\n",
    "continents.sort()\n",
    "\n",
    "#In case we do not want international\n",
    "mask = (continents != 'International')\n",
    "continents = continents[mask]\n",
    "\n",
    "category_positions = np.arange(len(categories))\n",
    "bar_width = 0.5\n",
    "\n",
    "continents_values = {}\n",
    "for i, continent in enumerate(continents):\n",
    "    frequencies = []\n",
    "    for category in categories:\n",
    "        try:\n",
    "            value = articles_cat_continent[(category, continent)]\n",
    "        except KeyError:\n",
    "            value = 0\n",
    "        frequencies.append(value)\n",
    "    continents_values[continent] = frequencies\n",
    "\n",
    "df_continent_frequencies = pd.DataFrame(continents_values).T\n",
    "df_continent_frequencies.columns = categories\n",
    "display(df_continent_frequencies)\n",
    "print(\"Size:\", df_continent_frequencies.shape)\n",
    "\n",
    "fig = px.bar(\n",
    "    df_continent_frequencies.T,\n",
    "    orientation='h',\n",
    "    title='Frequency of Continents in Each Category',\n",
    "    labels={\"index\": \"Category\", \"value\": \"Frequency\"},\n",
    "    #category_orders={\"index\": categories},\n",
    ")\n",
    "\n",
    "file_path = os.path.join(plots_path, \"frequency_continents_in_each_category.html\")\n",
    "fig.write_html(file_path)\n",
    "\n",
    "for continent in continents:\n",
    "    ax.barh(categories, continents_values[continent], label=continent, color=continents_colors[continent], edgecolor='w', height=0.5, left=bottom)\n",
    "    bottom += continents_values[continent]\n",
    "\n",
    "ax.set_yticks(category_positions)\n",
    "ax.set_yticklabels(categories)\n",
    "ax.set_xlabel('Frequency')\n",
    "ax.set_ylabel('Category')\n",
    "plt.title('Frequency of Continents in Each Category')\n",
    "plt.legend()\n",
    "\n",
    "plt.show()\n"
   ]
  },
  {
   "cell_type": "code",
   "execution_count": null,
   "metadata": {},
   "outputs": [],
   "source": [
    "continent_sorted = df_continent_frequencies.sum(axis=\"columns\").sort_values(ascending=False).index\n",
    "\n",
    "fig = px.bar(\n",
    "    df_continent_frequencies.loc[continent_sorted].T.loc[df_continent_frequencies.sum(axis=\"index\").sort_values().index],\n",
    "    orientation ='h',\n",
    "    title='Frequency of Continents in Each Category',\n",
    "    labels={\"index\": \"Category\", \"value\": \"Frequency\"},\n",
    "    color_discrete_sequence=[continents_colors_int[continent] for continent in continent_sorted],\n",
    ")\n",
    "\n",
    "file_path = os.path.join(plots_path, \"frequency_continents_in_each_category.html\")\n",
    "fig.write_html(file_path)\n",
    "\n",
    "fig.show()"
   ]
  },
  {
   "cell_type": "code",
   "execution_count": null,
   "metadata": {},
   "outputs": [],
   "source": [
    "category_counts = df_articles[\"categoryMain\"].value_counts()\n",
    "\n",
    "display(category_counts)\n",
    "\n",
    "df_articles[\"categoryCounts\"] = df_articles[\"categoryMain\"].replace(category_counts)\n",
    "df_articles = df_articles.sort_values(\"categoryCounts\", ascending=False).drop_duplicates(\"article\")\n",
    "\n",
    "display(df_articles)\n"
   ]
  },
  {
   "cell_type": "markdown",
   "metadata": {},
   "source": [
    "## Length of articles"
   ]
  },
  {
   "cell_type": "code",
   "execution_count": null,
   "metadata": {},
   "outputs": [],
   "source": [
    "all_articles = pd.read_csv(\n",
    "    os.path.join(\"Data\", \"wikispeedia_paths-and-graph\", \"articles.tsv\"),\n",
    "    sep=\"\\t\",\n",
    "    header=None,\n",
    "    names=[\"article\"],\n",
    "    skip_blank_lines=True,\n",
    "    comment=\"#\",\n",
    ").article.tolist()\n",
    "\n",
    "print(\"Number of articles:\", len(all_articles))\n",
    "print(\"Articles without category:\")\n",
    "\n",
    "invalid_articles = set(all_articles) - set(df_articles.article)\n",
    "for article in invalid_articles:\n",
    "    print(article)"
   ]
  },
  {
   "cell_type": "code",
   "execution_count": null,
   "metadata": {},
   "outputs": [],
   "source": [
    "plaintext_path = os.path.join('Data', 'plaintext_articles')\n",
    "\n",
    "word_counts = []\n",
    "for article_name in df_articles.article:\n",
    "    file_path = os.path.join(plaintext_path, article_name + '.txt')\n",
    "\n",
    "    with open(file_path, 'r', encoding='utf-8') as file:\n",
    "\n",
    "        _ = file.readline() # Skip the first line because it contains the word #copyright\n",
    "        content = file.read()\n",
    "\n",
    "    content = content[:re.search(\"Retrieved from\", content).start(0)]\n",
    "    word_count = len(content.split())\n",
    "\n",
    "    word_counts.append(word_count)\n",
    "\n",
    "df_articles['length'] = word_counts\n",
    "\n",
    "display(df_articles.head())\n",
    "print(\"Size:\", df_articles.shape)"
   ]
  },
  {
   "cell_type": "code",
   "execution_count": null,
   "metadata": {},
   "outputs": [],
   "source": [
    "continent_length = df_articles.groupby(['continent']).length.agg(scipy.stats.gmean)\n",
    "continent_length = continent_length.sort_values(ascending=False)\n",
    "\n",
    "display(continent_length)\n",
    "print(\"Size:\", continent_length.shape)"
   ]
  },
  {
   "cell_type": "code",
   "execution_count": null,
   "metadata": {},
   "outputs": [],
   "source": [
    "ax = plt.bar(continent_length.index,continent_length.values.reshape(continent_length.shape[0]), color=[continents_colors[continent] for continent in continent_length.index])\n",
    "plt.xticks(rotation=45)\n",
    "\n",
    "plt.xlabel('Continent')\n",
    "plt.ylabel('Length')\n",
    "plt.title('Length of articles by continent (Geometric mean)')\n",
    "plt.show()"
   ]
  },
  {
   "cell_type": "code",
   "execution_count": null,
   "metadata": {},
   "outputs": [],
   "source": [
    "fig = px.bar(\n",
    "    x=continent_length.index,\n",
    "    y=continent_length.values.reshape(continent_length.shape[0]),\n",
    "    labels={\"x\": \"Continent\", \"y\": \"Length\"},\n",
    "    title=\"Length of articles by continent (Geometric mean)\",\n",
    "    color=[continents_colors_int[continent] for continent in continent_length.index],\n",
    "    color_discrete_map=\"identity\"\n",
    ")\n",
    "\n",
    "fig.update_layout(showlegend=False)\n",
    "\n",
    "file_path = os.path.join(plots_path, \"average_length_of_articles_by_continent.html\")\n",
    "fig.write_html(file_path)\n",
    "\n",
    "fig.show()"
   ]
  },
  {
   "cell_type": "markdown",
   "metadata": {},
   "source": [
    "## Pagerank"
   ]
  },
  {
   "cell_type": "code",
   "execution_count": null,
   "metadata": {},
   "outputs": [],
   "source": [
    "# Load pagerank\n",
    "pagerank_df = pd.read_csv(os.path.join(\"Data\", \"page_rank.csv\"))"
   ]
  },
  {
   "cell_type": "code",
   "execution_count": null,
   "metadata": {},
   "outputs": [],
   "source": [
    "display(pagerank_df.head())\n",
    "print(\"Size:\", pagerank_df.shape)"
   ]
  },
  {
   "cell_type": "code",
   "execution_count": null,
   "metadata": {},
   "outputs": [],
   "source": [
    "df_articles = pd.merge(df_articles, pagerank_df, on=\"article\", how=\"left\").fillna(1e-6)\n",
    "\n",
    "display(df_articles.head())\n",
    "print(\"Size:\", df_articles.shape)"
   ]
  },
  {
   "cell_type": "code",
   "execution_count": null,
   "metadata": {},
   "outputs": [],
   "source": [
    "# Compute mean\n",
    "pagerank_continent_mean = df_articles.groupby(\"continent\")[\"pageRank\"].agg(scipy.stats.gmean)\n",
    "pagerank_continent_mean = pagerank_continent_mean.sort_values(ascending=False)\n",
    "\n",
    "# Compute mean\n",
    "pagerank_continent_median = df_articles.groupby(\"continent\")[\"pageRank\"].median()\n",
    "pagerank_continent_median = pagerank_continent_median.sort_values(ascending=False)"
   ]
  },
  {
   "cell_type": "code",
   "execution_count": null,
   "metadata": {},
   "outputs": [],
   "source": [
    "ax = plt.bar(pagerank_continent_mean.index, pagerank_continent_mean, color=[continents_colors[continent] for continent in pagerank_continent_mean.index])\n",
    "plt.xticks(rotation=45)\n",
    "\n",
    "plt.xlabel('Continent')\n",
    "plt.ylabel('Pagerank')\n",
    "plt.title('PageRank by continent (Geometric Mean)')\n",
    "\n",
    "plt.show()"
   ]
  },
  {
   "cell_type": "code",
   "execution_count": null,
   "metadata": {},
   "outputs": [],
   "source": [
    "pagerank_continent_mean"
   ]
  },
  {
   "cell_type": "code",
   "execution_count": null,
   "metadata": {},
   "outputs": [],
   "source": [
    "fig = px.bar(\n",
    "    x=pagerank_continent_mean.index,\n",
    "    y=pagerank_continent_mean,\n",
    "    labels={\"x\": \"Continent\", \"y\": \"PageRank\"},\n",
    "    title=\"PageRank by continent (Geometric Mean)\",\n",
    "    color=[continents_colors_int[continent] for continent in pagerank_continent_mean.index],\n",
    "    color_discrete_map=\"identity\"\n",
    ")\n",
    "\n",
    "fig.update_layout(showlegend=False)\n",
    "fig.update_yaxes(tickformat=\".1e\")\n",
    "\n",
    "file_path = os.path.join(plots_path, \"pagerank_mean_by_continent.html\")\n",
    "fig.write_html(file_path)\n",
    "\n",
    "fig.show()"
   ]
  },
  {
   "cell_type": "code",
   "execution_count": null,
   "metadata": {},
   "outputs": [],
   "source": [
    "ax = plt.bar(pagerank_continent_median.index, pagerank_continent_median, color=[continents_colors[continent] for continent in pagerank_continent_median.index])\n",
    "plt.xticks(rotation=45)\n",
    "\n",
    "plt.xlabel('Continent')\n",
    "plt.ylabel('Pagerank')\n",
    "plt.title('PageRank by continent (Median)')\n",
    "\n",
    "plt.show()"
   ]
  },
  {
   "cell_type": "code",
   "execution_count": null,
   "metadata": {},
   "outputs": [],
   "source": [
    "fig = px.bar(\n",
    "    x=pagerank_continent_median.index,\n",
    "    y=pagerank_continent_median,\n",
    "    labels={\"x\": \"Continent\", \"y\": \"PageRank\"},\n",
    "    title=\"PageRank by continent (Median)\",\n",
    "    color=[continents_colors_int[continent] for continent in pagerank_continent_median.index],\n",
    "    color_discrete_map=\"identity\"\n",
    ")\n",
    "\n",
    "fig.update_layout(showlegend=False)\n",
    "fig.update_yaxes(tickformat=\".1e\")\n",
    "\n",
    "file_path = os.path.join(plots_path, \"pagerank_median_by_continent.html\")\n",
    "fig.write_html(file_path)\n",
    "\n",
    "fig.show()"
   ]
  },
  {
   "cell_type": "markdown",
   "metadata": {},
   "source": [
    "## Analysis of paths"
   ]
  },
  {
   "cell_type": "markdown",
   "metadata": {},
   "source": [
    "Group paths by continents, one path will be assigned to the continent corresponding to the GOAL article\n",
    "\n",
    "Compute the number of \"backclicks\" in each path\n",
    "\n",
    "Compute the length of each path"
   ]
  },
  {
   "cell_type": "code",
   "execution_count": null,
   "metadata": {},
   "outputs": [],
   "source": [
    "df_paths_finished = pd.read_csv(\n",
    "    os.path.join(\"Data\", \"wikispeedia_paths-and-graph\", \"paths_finished.tsv\"),\n",
    "    sep=\"\\t\",\n",
    "    header=None,\n",
    "    names=[\"hashedIpAddress\", \"timestamp\", \"durationInSec\", \"path\", \"rating\"],\n",
    "    skip_blank_lines=True,\n",
    "    comment=\"#\"\n",
    ")\n",
    "df_paths_unfinished = pd.read_csv(\n",
    "    os.path.join(\"Data\", \"wikispeedia_paths-and-graph\", \"paths_unfinished.tsv\"),\n",
    "    sep=\"\\t\",\n",
    "    header=None,\n",
    "    names=[\"hashedIpAddress\", \"timestamp\", \"durationInSec\", \"path\", \"target\", \"motif\"],\n",
    "    skip_blank_lines=True,\n",
    "    comment=\"#\"\n",
    ")\n",
    "\n",
    "df_paths_finished['backclicks'] = df_paths_finished['path'].apply(lambda x: x.count('<'))\n",
    "df_paths_finished['pathSteps'] = df_paths_finished['path'].apply(lambda x: x.count(';') + 1)\n",
    "df_paths_finished[\"uniqueArticles\"] = df_paths_finished['pathSteps'] - df_paths_finished['backclicks']\n",
    "df_paths_finished[\"path\"] = df_paths_finished['path'].apply(lambda x: x.split(';'))\n",
    "df_paths_finished[\"start\"] = df_paths_finished[\"path\"].str[0]\n",
    "df_paths_finished[\"target\"] = df_paths_finished[\"path\"].str[0]\n",
    "df_paths_finished[\"isFinished\"] = True\n",
    "\n",
    "df_paths_unfinished['backclicks'] = df_paths_unfinished['path'].apply(lambda x: x.count('<'))\n",
    "df_paths_unfinished['pathSteps'] = df_paths_unfinished['path'].apply(lambda x: x.count(';') + 1)\n",
    "df_paths_unfinished[\"uniqueArticles\"] = df_paths_unfinished['pathSteps'] - df_paths_unfinished['backclicks']\n",
    "df_paths_unfinished[\"path\"] = df_paths_unfinished['path'].apply(lambda x: x.split(';'))\n",
    "df_paths_unfinished[\"start\"] = df_paths_unfinished[\"path\"].str[0]\n",
    "df_paths_unfinished[\"isFinished\"] = False\n",
    "\n",
    "display(df_paths_finished.head())\n",
    "display(df_paths_unfinished.head())\n",
    "\n",
    "df_paths = pd.concat([df_paths_finished, df_paths_unfinished])\n",
    "display(df_paths.head())"
   ]
  },
  {
   "cell_type": "code",
   "execution_count": null,
   "metadata": {},
   "outputs": [],
   "source": [
    "\"sdasADfds\".title()"
   ]
  },
  {
   "cell_type": "code",
   "execution_count": null,
   "metadata": {},
   "outputs": [],
   "source": [
    "tmp = df_articles.copy()\n",
    "tmp.columns = [column[0].upper() + column[1:] for column in tmp.columns]\n",
    "tmp = tmp.add_prefix(\"target\")\n",
    "\n",
    "df_analysis = pd.merge(df_paths, tmp, left_on=\"target\", right_on=\"targetArticle\", suffixes=[\"\", ]).drop(columns=\"targetArticle\")\n",
    "\n",
    "tmp = df_articles.copy()\n",
    "tmp.columns = [column[0].upper() + column[1:] for column in tmp.columns]\n",
    "tmp = tmp.add_prefix(\"start\")\n",
    "df_analysis = pd.merge(df_analysis, tmp, left_on=\"start\", right_on=\"startArticle\", suffixes=[\"\", ]).drop(columns=\"startArticle\")\n",
    "\n",
    "display(df_analysis.head())\n",
    "print(\"Size:\", df_analysis.shape)\n"
   ]
  },
  {
   "cell_type": "code",
   "execution_count": null,
   "metadata": {},
   "outputs": [],
   "source": [
    "df_analysis[\"isFinishedInt\"] = df_analysis[\"isFinished\"].astype(int)\n",
    "df_analysis_finished = df_analysis[df_analysis[\"isFinished\"]]\n",
    "df_analysis_unfinished = df_analysis[~df_analysis[\"isFinished\"]]\n",
    "\n",
    "df_analysis_per_continent = pd.DataFrame()\n",
    "for name in [\"start\", \"target\"]:\n",
    "    # Create a column to show the number of articles in each continent\n",
    "    df_analysis_per_continent[f\"{name}Articles\"] = df_analysis.groupby(f\"{name}Continent\").size()\n",
    "\n",
    "    # Create columns for av. backclicks\n",
    "    df_analysis_per_continent[f\"{name}BackcliksFinished\"] =  df_analysis_finished.groupby(f\"{name}Continent\")[\"backclicks\"].agg(scipy.stats.gmean)\n",
    "    df_analysis_per_continent[f\"{name}BackcliksUnfinished\"] =  df_analysis_unfinished.groupby(f\"{name}Continent\")[\"backclicks\"].agg(scipy.stats.gmean)\n",
    "\n",
    "    # Create columns for av. path steps\n",
    "    df_analysis_per_continent[f\"{name}PathStepsFinished\"] =  df_analysis_finished.groupby(f\"{name}Continent\")[\"pathSteps\"].agg(scipy.stats.gmean)\n",
    "    df_analysis_per_continent[f\"{name}PathStepsUnfinished\"] =  df_analysis_unfinished.groupby(f\"{name}Continent\")[\"pathSteps\"].agg(scipy.stats.gmean)\n",
    "\n",
    "    # Create columns for the number of finished and unfinished paths for each continent\n",
    "    df_analysis_per_continent[f\"{name}PathsFinished\"] = df_analysis_finished[f\"{name}Continent\"].value_counts()\n",
    "    df_analysis_per_continent[f\"{name}PathsUnfinished\"] = df_analysis_unfinished[f\"{name}Continent\"].value_counts()\n",
    "    df_analysis_per_continent[f'{name}PathsFinishedPercentage'] = df_analysis.groupby(f\"{name}Continent\")[\"isFinishedInt\"].mean() * 100\n",
    "\n",
    "df_analysis_per_continent.index.name = \"continent\""
   ]
  },
  {
   "cell_type": "code",
   "execution_count": null,
   "metadata": {},
   "outputs": [],
   "source": [
    "continent_data = df_analysis_per_continent.sort_values(by='targetPathsFinishedPercentage',ascending=False)\n",
    "display(continent_data)\n",
    "print(\"Size:\", continent_data.shape)"
   ]
  },
  {
   "cell_type": "code",
   "execution_count": null,
   "metadata": {},
   "outputs": [],
   "source": [
    "continent_data = df_analysis_per_continent.sort_values(by='startPathsFinishedPercentage',ascending=False)\n",
    "display(continent_data)\n",
    "print(\"Size:\", continent_data.shape)"
   ]
  },
  {
   "cell_type": "code",
   "execution_count": null,
   "metadata": {},
   "outputs": [],
   "source": [
    "ax = plt.bar(continent_data.index,continent_data['targetPathsFinishedPercentage'], color=[continents_colors[continent] for continent in continent_data.index])\n",
    "plt.xticks(rotation=45)\n",
    "\n",
    "plt.xlabel('Continent')\n",
    "plt.ylabel('Percentage')\n",
    "plt.title('Percentage of finished paths by continent')\n",
    "plt.show()"
   ]
  },
  {
   "cell_type": "code",
   "execution_count": null,
   "metadata": {},
   "outputs": [],
   "source": [
    "fig = px.bar(\n",
    "    x=continent_data.index,\n",
    "    y=continent_data['targetPathsFinishedPercentage'],\n",
    "    labels={\"x\": \"Continent\", \"y\": \"Percentage\"},\n",
    "    title=\"Percentage of finished paths by continent\",\n",
    "    color=[continents_colors_int[continent] for continent in continent_data.index],\n",
    "    color_discrete_map=\"identity\"\n",
    ")\n",
    "\n",
    "fig.update_layout(showlegend=False)\n",
    "\n",
    "file_path = os.path.join(plots_path, \"percentage_finished_paths_by_continent.html\")\n",
    "fig.write_html(file_path)\n",
    "\n",
    "fig.show()"
   ]
  },
  {
   "cell_type": "code",
   "execution_count": null,
   "metadata": {},
   "outputs": [],
   "source": [
    "ax = plt.bar(continent_data.index,continent_data['targetArticles'], color=[continents_colors[continent] for continent in continent_data.index])\n",
    "plt.xticks(rotation=45)\n",
    "\n",
    "plt.xlabel('Continent')\n",
    "plt.ylabel('Count')\n",
    "plt.title('Target articles by continent')\n",
    "plt.show()"
   ]
  },
  {
   "cell_type": "code",
   "execution_count": null,
   "metadata": {},
   "outputs": [],
   "source": [
    "fig = px.bar(\n",
    "    x=continent_data.index,\n",
    "    y=continent_data['targetArticles'],\n",
    "    labels={\"x\": \"Continent\", \"y\": \"Count\"},\n",
    "    title=\"Number of target articles by continent\",\n",
    "    color=[continents_colors_int[continent] for continent in continent_data.index],\n",
    "    color_discrete_map=\"identity\"\n",
    ")\n",
    "\n",
    "fig.update_layout(showlegend=False)\n",
    "\n",
    "file_path = os.path.join(plots_path, \"count_target_articles_by_continent.html\")\n",
    "fig.write_html(file_path)\n",
    "\n",
    "fig.show()"
   ]
  },
  {
   "cell_type": "code",
   "execution_count": null,
   "metadata": {},
   "outputs": [],
   "source": [
    "ax = plt.bar(continent_data.index,continent_data['startArticles'], color=[continents_colors[continent] for continent in continent_data.index])\n",
    "plt.xticks(rotation=45)\n",
    "\n",
    "plt.xlabel('Continent')\n",
    "plt.ylabel('Count')\n",
    "plt.title('Start articles by continent')\n",
    "plt.show()"
   ]
  },
  {
   "cell_type": "code",
   "execution_count": null,
   "metadata": {},
   "outputs": [],
   "source": [
    "fig = px.bar(\n",
    "    x=continent_data.index,\n",
    "    y=continent_data['startArticles'],\n",
    "    labels={\"x\": \"Continent\", \"y\": \"Count\"},\n",
    "    title=\"Number of start articles by continent\",\n",
    "    color=[continents_colors_int[continent] for continent in continent_data.index],\n",
    "    color_discrete_map=\"identity\"\n",
    ")\n",
    "\n",
    "fig.update_layout(showlegend=False)\n",
    "\n",
    "file_path = os.path.join(plots_path, \"count_start_articles_by_continent.html\")\n",
    "fig.write_html(file_path)\n",
    "\n",
    "fig.show()"
   ]
  },
  {
   "cell_type": "code",
   "execution_count": null,
   "metadata": {},
   "outputs": [],
   "source": [
    "df_articles[\"targetFinished\"] = df_articles[\"article\"].map(df_paths_finished[\"target\"].value_counts()).fillna(0)\n",
    "df_articles[\"targetUnfinished\"] = df_articles[\"article\"].map(df_paths_unfinished[\"target\"].value_counts()).fillna(0)\n",
    "\n",
    "df_articles[\"startFinished\"] = df_articles[\"article\"].map(df_paths_finished[\"start\"].value_counts()).fillna(0)\n",
    "df_articles[\"startUnfinished\"] = df_articles[\"article\"].map(df_paths_unfinished[\"start\"].value_counts()).fillna(0)\n",
    "\n",
    "paths_finished = pd.Series(np.concatenate(df_paths_finished.path.values))\n",
    "paths_unfinished = pd.Series(np.concatenate(df_paths_unfinished.path.values))\n",
    "\n",
    "# Create columns to count the number of times each article appears in general in finished and unfinished paths\n",
    "df_articles[\"anyFinished\"] = df_articles[\"article\"].map(paths_finished.value_counts()).fillna(0)\n",
    "df_articles[\"anyUnfinished\"] = df_articles[\"article\"].map(paths_unfinished.value_counts()).fillna(0)\n",
    "\n",
    "# Let's calculate the probability of finding an article (we can compare this with the pagerank)\n",
    "df_articles[\"anyPercentage\"] = (df_articles[\"anyFinished\"] + df_articles[\"anyUnfinished\"]) / (len(paths_finished) + len(paths_unfinished))"
   ]
  },
  {
   "cell_type": "code",
   "execution_count": null,
   "metadata": {},
   "outputs": [],
   "source": [
    "display(df_articles.sort_values(\"anyPercentage\", ascending=False))\n",
    "print(\"Size:\", df_articles.shape)"
   ]
  },
  {
   "cell_type": "code",
   "execution_count": null,
   "metadata": {},
   "outputs": [],
   "source": [
    "tmp = df_articles.groupby(\"continent\")\n",
    "tmp = tmp.anyPercentage.median()\n",
    "\n",
    "ax = plt.bar(tmp.index, tmp, color=[continents_colors[continent] for continent in tmp.index])\n",
    "plt.xticks(rotation=45)\n",
    "\n",
    "plt.xlabel('Continent')\n",
    "plt.ylabel('Percentage')\n",
    "plt.title('Percentage of visiting article per continent (Median)')\n",
    "plt.show()"
   ]
  },
  {
   "cell_type": "code",
   "execution_count": null,
   "metadata": {},
   "outputs": [],
   "source": [
    "fig = px.bar(\n",
    "    x=tmp.index,\n",
    "    y=tmp,\n",
    "    labels={\"x\": \"Continent\", \"y\": \"Percentage\"},\n",
    "    title=\"Occurrence of article in path\",\n",
    "    color=[continents_colors_int[continent] for continent in tmp.index],\n",
    "    color_discrete_map=\"identity\"\n",
    ")\n",
    "\n",
    "fig.update_layout(showlegend=False)\n",
    "\n",
    "file_path = os.path.join(plots_path, \"article_occurrence_by_continent.html\")\n",
    "fig.write_html(file_path)\n",
    "\n",
    "fig.show()"
   ]
  },
  {
   "cell_type": "markdown",
   "metadata": {},
   "source": [
    "# Testing dependance of variables"
   ]
  },
  {
   "cell_type": "code",
   "execution_count": null,
   "metadata": {},
   "outputs": [],
   "source": [
    "for col in [\"startContinent\", \"startCategory\", \"startCategoryMain\", \"targetContinent\", \"targetCategory\", \"targetCategoryMain\"]:\n",
    "    df_analysis[col + \"Codes\"] = df_analysis[col].astype('category').cat.codes"
   ]
  },
  {
   "cell_type": "code",
   "execution_count": null,
   "metadata": {},
   "outputs": [],
   "source": [
    "corr_cols = [\"backclicks\", \"pathSteps\", \"uniqueArticles\", \"targetLength\", \"targetPageRank\", \"targetContinentCodes\", \"targetCategoryMainCodes\", \"startLength\", \"startPageRank\", \"startContinentCodes\", \"startCategoryMainCodes\", \"isFinished\"]\n",
    "display(df_analysis[corr_cols].corr()[\"isFinished\"])\n",
    "display(df_analysis[corr_cols].corr(\"spearman\")[\"isFinished\"])\n"
   ]
  },
  {
   "cell_type": "code",
   "execution_count": null,
   "metadata": {},
   "outputs": [],
   "source": [
    "sp_lenght = []\n",
    "\n",
    "with open(os.path.join(\"Data\", \"wikispeedia_paths-and-graph\", \"shortest-path-distance-matrix.txt\")) as file:\n",
    "    for line in file:\n",
    "        line = line.strip()\n",
    "        if line == \"\" or line.startswith(\"#\"):\n",
    "            continue\n",
    "    \n",
    "        sp_lenght.append(list(map(lambda x: -1 if x == \"_\" else int(x), list(line))))\n",
    "        \n",
    "sp_lenght = np.array(sp_lenght)\n",
    "\n",
    "print(sp_lenght[:10, :10])"
   ]
  }
 ],
 "metadata": {
  "kernelspec": {
   "display_name": "ada",
   "language": "python",
   "name": "python3"
  },
  "language_info": {
   "codemirror_mode": {
    "name": "ipython",
    "version": 3
   },
   "file_extension": ".py",
   "mimetype": "text/x-python",
   "name": "python",
   "nbconvert_exporter": "python",
   "pygments_lexer": "ipython3",
   "version": "3.11.3"
  }
 },
 "nbformat": 4,
 "nbformat_minor": 2
}
