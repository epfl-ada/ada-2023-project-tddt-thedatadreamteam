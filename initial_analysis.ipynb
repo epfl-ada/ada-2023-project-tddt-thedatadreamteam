{
 "cells": [
  {
   "cell_type": "code",
   "execution_count": null,
   "metadata": {},
   "outputs": [],
   "source": [
    "import pandas as pd\n",
    "import os\n",
    "import matplotlib.pyplot as plt\n",
    "import seaborn as sns\n",
    "import numpy as np\n",
    "import plotly.express as px\n",
    "import plotly.graph_objects as go"
   ]
  },
  {
   "cell_type": "code",
   "execution_count": null,
   "metadata": {},
   "outputs": [],
   "source": [
    "df_continents = pd.read_csv(\n",
    "    os.path.join(\"Data\", \"continents.csv\"), index_col=0\n",
    ")\n",
    "\n",
    "display(df_continents)"
   ]
  },
  {
   "cell_type": "markdown",
   "metadata": {},
   "source": [
    "### Colors for all plots"
   ]
  },
  {
   "cell_type": "code",
   "execution_count": null,
   "metadata": {},
   "outputs": [],
   "source": [
    "continents = df_continents['continent'].unique()\n",
    "random_colors = sns.color_palette('husl', n_colors=len(continents))\n",
    "continents_colors = {}\n",
    "for i in range(len(continents)):\n",
    "    continents_colors[continents[i]] = random_colors[i]\n",
    "print(continents_colors)"
   ]
  },
  {
   "cell_type": "markdown",
   "metadata": {},
   "source": [
    "### Articles per continent"
   ]
  },
  {
   "cell_type": "code",
   "execution_count": null,
   "metadata": {},
   "outputs": [],
   "source": [
    "continents_grouped = df_continents.groupby(['continent']).size()\n",
    "continents_grouped = continents_grouped.sort_values(ascending=False)\n",
    "continents_grouped"
   ]
  },
  {
   "cell_type": "code",
   "execution_count": null,
   "metadata": {},
   "outputs": [],
   "source": [
    "plots_path = \"plots\"\n",
    "\n",
    "fig = px.bar(\n",
    "    x=list(continents_grouped.keys()),\n",
    "    y=list(continents_grouped.values),\n",
    "    labels={\"x\": \"Continent\", \"y\": \"Count\"},\n",
    "    title=\"Count of Categories by Continent\",\n",
    "    color=list(continents_grouped.keys()),\n",
    ")\n",
    "\n",
    "# fig.update_layout(xaxis=dict(tickangle=-45))\n",
    "fig.update_layout(showlegend=False)\n",
    "\n",
    "file_path = os.path.join(plots_path, \"count_of_categories_by_continent.html\")\n",
    "fig.write_html(file_path)\n",
    "\n",
    "fig.show()\n"
   ]
  },
  {
   "cell_type": "markdown",
   "metadata": {},
   "source": [
    "## Number of articles by category"
   ]
  },
  {
   "cell_type": "code",
   "execution_count": null,
   "metadata": {},
   "outputs": [],
   "source": [
    "categories = pd.read_csv(\n",
    "    os.path.join(\"Data\", \"wikispeedia_paths-and-graph\", \"categories.tsv\"),\n",
    "    delimiter=\"\\t\",\n",
    "    header=None,\n",
    "    names=[\"article\", \"category\"],\n",
    "    skip_blank_lines=True,\n",
    "    comment=\"#\",\n",
    "    encoding=\"UTF-8\"\n",
    ")\n",
    "\n",
    "display(categories.head())\n",
    "print(\"Size:\",categories.shape)"
   ]
  },
  {
   "cell_type": "code",
   "execution_count": null,
   "metadata": {},
   "outputs": [],
   "source": [
    "articles = pd.merge(categories, df_continents, on=\"article\", how=\"inner\")\n",
    "articles = articles.fillna(\"\")\n",
    "display(articles.head())\n",
    "print(\"Size:\",articles.shape)"
   ]
  },
  {
   "cell_type": "code",
   "execution_count": null,
   "metadata": {},
   "outputs": [],
   "source": [
    "main_cats = []\n",
    "for category in articles['category'].values:\n",
    "    main_cats.append(category.split('.')[1])\n",
    "\n",
    "articles['main_category'] = main_cats\n",
    "display(articles)\n",
    "print(\"Size:\",articles.shape)"
   ]
  },
  {
   "cell_type": "code",
   "execution_count": null,
   "metadata": {},
   "outputs": [],
   "source": [
    "articles_cat_continent = articles.groupby(['main_category','continent']).size()\n",
    "display(articles_cat_continent[('Geography','International')])"
   ]
  },
  {
   "cell_type": "markdown",
   "metadata": {},
   "source": [
    "I have to check this plot"
   ]
  },
  {
   "cell_type": "code",
   "execution_count": null,
   "metadata": {},
   "outputs": [],
   "source": [
    "articles_cat_continent"
   ]
  },
  {
   "cell_type": "code",
   "execution_count": null,
   "metadata": {},
   "outputs": [],
   "source": [
    "categories = articles['main_category'].unique()\n",
    "continents = articles['continent'].unique()\n",
    "continents.sort()\n",
    "\n",
    "#In case we do not want international\n",
    "mask = (continents != 'International')\n",
    "continents = continents[mask]\n",
    "\n",
    "category_positions = np.arange(len(categories))\n",
    "bar_width = 0.5\n",
    "\n",
    "continents_values = {}\n",
    "for i, continent in enumerate(continents):\n",
    "    frequencies = []\n",
    "    for category in categories:\n",
    "        try:\n",
    "            value = articles_cat_continent[(category, continent)]\n",
    "        except KeyError:\n",
    "            value = 0\n",
    "        frequencies.append(value)\n",
    "    continents_values[continent] = frequencies\n",
    "\n",
    "df_continent_frequencies = pd.DataFrame(continents_values).T\n",
    "df_continent_frequencies.columns = categories\n",
    "display(df_continent_frequencies)\n",
    "print(\"Size:\", df_continent_frequencies.shape)\n",
    "\n",
    "fig = px.bar(\n",
    "    df_continent_frequencies.T,\n",
    "    orientation='h',\n",
    "    title='Frequency of Continents in Each Category',\n",
    "    labels={\"index\": \"Category\", \"value\": \"Frequency\"},\n",
    "    #category_orders={\"index\": categories},\n",
    ")\n",
    "\n",
    "file_path = os.path.join(plots_path, \"frequency_continents_in_each_category.html\")\n",
    "fig.write_html(file_path)\n",
    "\n",
    "fig.show()\n",
    "\n"
   ]
  },
  {
   "cell_type": "markdown",
   "metadata": {},
   "source": [
    "## Length of articles"
   ]
  },
  {
   "cell_type": "code",
   "execution_count": null,
   "metadata": {},
   "outputs": [],
   "source": [
    "articles_df = pd.read_csv(\"Data/wikispeedia_paths-and-graph/articles.tsv\", sep=\"\\t\",header=None, names=[\"article\"], skiprows=11)\n",
    "display(articles_df.head())\n",
    "print(\"Size:\",articles_df.shape)"
   ]
  },
  {
   "cell_type": "code",
   "execution_count": null,
   "metadata": {},
   "outputs": [],
   "source": [
    "# Compute the length and create a new dataframe called analysis_df to be used during the initial analysis\n",
    "\n",
    "analysis_df = articles_df.copy()\n",
    "\n",
    "# Specify the path to the folder containing the .txt files\n",
    "plaintext_path = 'data/plaintext_articles'\n",
    "\n",
    "# Create an empty list to store the results\n",
    "word_counts = []\n",
    "\n",
    "# Iterate through each article in the articles.tsv file\n",
    "for index, row in analysis_df.iterrows():\n",
    "    # Construct the full path to the .txt file\n",
    "    file_path = os.path.join(plaintext_path, row['article'] + '.txt')\n",
    "\n",
    "    # Read the contents of the .txt file\n",
    "    with open(file_path, 'r', encoding='utf-8') as file:\n",
    "\n",
    "        _ = file.readline() # Skip the first line because it contains the word #copyright\n",
    "        content = file.read()\n",
    "\n",
    "    # Count the number of words in the article\n",
    "    word_count = len(content.split())\n",
    "\n",
    "    # Append the result to the list\n",
    "    word_counts.append(word_count)\n",
    "\n",
    "# Add a new column 'WordCount' to the analysis_df\n",
    "analysis_df['length'] = word_counts"
   ]
  },
  {
   "cell_type": "code",
   "execution_count": null,
   "metadata": {},
   "outputs": [],
   "source": [
    "display(analysis_df.head())\n",
    "print(\"Size:\",analysis_df.shape)"
   ]
  },
  {
   "cell_type": "code",
   "execution_count": null,
   "metadata": {},
   "outputs": [],
   "source": [
    "# Merge analysis with continents\n",
    "analysis_df = pd.merge(analysis_df, df_continents, on=[\"article\"])\n",
    "display(analysis_df.head())\n",
    "print(\"Size:\",analysis_df.shape)"
   ]
  },
  {
   "cell_type": "code",
   "execution_count": null,
   "metadata": {},
   "outputs": [],
   "source": [
    "#Compute the average length of article for each continent\n",
    "continent_length = analysis_df.groupby(['continent']).mean('length')\n",
    "continent_length=continent_length.sort_values('length',ascending=False)\n",
    "display(continent_length)\n",
    "print(\"Size:\",continent_length.shape)"
   ]
  },
  {
   "cell_type": "code",
   "execution_count": null,
   "metadata": {},
   "outputs": [],
   "source": [
    "fig = px.bar(\n",
    "    x=continent_length.index,\n",
    "    y=continent_length.values.reshape(8),\n",
    "    color=list(continents_grouped.keys()),\n",
    "    labels={\"x\": \"Continent\", \"y\": \"Length\"},\n",
    "    title=\"Average length of articles by continent\",\n",
    ")\n",
    "\n",
    "fig.update_layout(showlegend=False)\n",
    "\n",
    "file_path = os.path.join(plots_path, \"average_length_of_articles_by_continent.html\")\n",
    "fig.write_html(file_path)\n",
    "\n",
    "fig.show()"
   ]
  },
  {
   "cell_type": "markdown",
   "metadata": {},
   "source": [
    "## Pagerank"
   ]
  },
  {
   "cell_type": "code",
   "execution_count": null,
   "metadata": {},
   "outputs": [],
   "source": [
    "# Load pagerank\n",
    "pagerank_df = pd.read_csv(\"Data/page_rank.csv\")"
   ]
  },
  {
   "cell_type": "code",
   "execution_count": null,
   "metadata": {},
   "outputs": [],
   "source": [
    "display(pagerank_df.head())\n",
    "print(\"Size:\", pagerank_df.shape)\n",
    "print(\"Note that the pageRank has less rows!!\")\n"
   ]
  },
  {
   "cell_type": "code",
   "execution_count": null,
   "metadata": {},
   "outputs": [],
   "source": [
    "analysis_df = pd.merge(analysis_df, pagerank_df, left_on=[\"article\"], right_on=[\"Article\"], how=\"left\").fillna(0)\n",
    "analysis_df = analysis_df.drop([\"Article\"], axis=1)"
   ]
  },
  {
   "cell_type": "code",
   "execution_count": null,
   "metadata": {},
   "outputs": [],
   "source": [
    "display(analysis_df.head())\n",
    "print(\"Size:\", analysis_df.shape)"
   ]
  },
  {
   "cell_type": "code",
   "execution_count": null,
   "metadata": {},
   "outputs": [],
   "source": [
    "# Compute mean\n",
    "mean_pagerank_continent = analysis_df.groupby(\"continent\").mean(\"PageRank\")\n",
    "mean_pagerank_continent =mean_pagerank_continent.sort_values(by='PageRank', ascending = False)"
   ]
  },
  {
   "cell_type": "code",
   "execution_count": null,
   "metadata": {},
   "outputs": [],
   "source": [
    "fig = px.bar(\n",
    "    x=mean_pagerank_continent.index,\n",
    "    y=mean_pagerank_continent['PageRank'],\n",
    "    color=list(continents_grouped.keys()),\n",
    "    labels={\"x\": \"Continent\", \"y\": \"Pagerank\"},\n",
    "    title=\"Average PageRank by continent\",\n",
    ")\n",
    "\n",
    "fig.update_layout(showlegend=False)\n",
    "fig.update_yaxes(tickformat=\".1e\")\n",
    "\n",
    "file_path = os.path.join(plots_path, \"average_pagerank_by_continent.html\")\n",
    "fig.write_html(file_path)\n",
    "\n",
    "fig.show()"
   ]
  },
  {
   "cell_type": "markdown",
   "metadata": {},
   "source": [
    "## Analysis of paths"
   ]
  },
  {
   "cell_type": "markdown",
   "metadata": {},
   "source": [
    "Group paths by continents, one path will be assigned to the continent corresponding to the GOAL article\n",
    "\n",
    "Compute the number of \"backclicks\" in each path\n",
    "\n",
    "Compute the length of each path"
   ]
  },
  {
   "cell_type": "code",
   "execution_count": null,
   "metadata": {},
   "outputs": [],
   "source": [
    "paths_finished_df = pd.read_csv(\"Data/wikispeedia_paths-and-graph/paths_finished.tsv\", sep=\"\\t\", header=None, names = [\"hashedIpAddress\", \"timestamp\", \"durationInSec\", \"path\", \"rating\"], skiprows=16)\n",
    "paths_unfinished_df = pd.read_csv(\"Data/wikispeedia_paths-and-graph/paths_unfinished.tsv\", sep=\"\\t\", header=None, names = [\"hashedIpAddress\",\"timestamp\",\"durationInSec\", \"unf_path\", \"target\",\"motif\"],skiprows=17)\n",
    "\n",
    "# Extract the target article from finished paths\n",
    "paths_finished_df[\"target\"] = paths_finished_df['path'].apply(lambda x: x.split(';')[-1])\n",
    "\n",
    "# Count the number of backclicks\n",
    "paths_finished_df['backclicks'] = paths_finished_df['path'].apply(lambda x: x.count('<'))\n",
    "paths_unfinished_df['backclicks'] = paths_unfinished_df['unf_path'].apply(lambda x: x.count('<'))\n",
    "\n",
    "# Compute the length of each path\n",
    "paths_finished_df['path_steps'] = paths_finished_df['path'].apply(lambda x: x.count(';') + 1 + x.count('<'))\n",
    "paths_unfinished_df['path_steps'] = paths_unfinished_df['unf_path'].apply(lambda x: x.count(';') + 1 + x.count('<'))"
   ]
  },
  {
   "cell_type": "code",
   "execution_count": null,
   "metadata": {},
   "outputs": [],
   "source": [
    "# Merge the paths with the continents\n",
    "\n",
    "analysis_fin_paths = pd.merge(paths_finished_df, df_continents, left_on=\"target\", right_on=\"article\").drop(\"article\", axis=1)\n",
    "analysis_unf_paths = pd.merge(paths_unfinished_df, df_continents, left_on=\"target\", right_on=\"article\").drop(\"article\", axis=1)"
   ]
  },
  {
   "cell_type": "code",
   "execution_count": null,
   "metadata": {},
   "outputs": [],
   "source": [
    "display(analysis_fin_paths.head())\n",
    "print(\"Size:\", analysis_fin_paths.shape)\n",
    "\n",
    "display(analysis_unf_paths.head())\n",
    "print(\"Size:\", analysis_unf_paths.shape)"
   ]
  },
  {
   "cell_type": "code",
   "execution_count": null,
   "metadata": {},
   "outputs": [],
   "source": [
    "continent_data = pd.DataFrame()\n",
    "\n",
    "# Create a column to show the number of articles in each continent\n",
    "continent_data[\"n_articles\"] = analysis_df.groupby(\"continent\")[\"article\"].count()\n",
    "\n",
    "# Create column with the average PageRank\n",
    "continent_data[\"av_pagerank\"] = mean_pagerank_continent['PageRank']\n",
    "\n",
    "# Create columns for av. backclicks\n",
    "continent_data[\"av_fin_backcliks\"] =  analysis_fin_paths.groupby(\"continent\")[\"backclicks\"].mean()\n",
    "continent_data[\"av_unf_backcliks\"] =  analysis_unf_paths.groupby(\"continent\")[\"backclicks\"].mean()\n",
    "\n",
    "# Create columns for av. path steps\n",
    "continent_data[\"av_fin_steps\"] =  analysis_fin_paths.groupby(\"continent\")[\"path_steps\"].mean()\n",
    "continent_data[\"av_unf_steps\"] =  analysis_unf_paths.groupby(\"continent\")[\"path_steps\"].mean()\n",
    "\n",
    "# Create columns for the number of finished and unfinished paths for each continent\n",
    "continent_data[\"fin_paths\"] = analysis_fin_paths[\"continent\"].value_counts()\n",
    "continent_data[\"unf_paths\"] = analysis_unf_paths[\"continent\"].value_counts()\n",
    "continent_data['per_fin_paths'] = (continent_data[\"fin_paths\"]/(continent_data[\"fin_paths\"]+continent_data[\"unf_paths\"]))*100 # I think not multiplying by 100"
   ]
  },
  {
   "cell_type": "code",
   "execution_count": null,
   "metadata": {},
   "outputs": [],
   "source": [
    "continent_data=continent_data.sort_values(by='per_fin_paths',ascending=False)\n",
    "display(continent_data)\n",
    "print(\"Size:\", continent_data.shape)"
   ]
  },
  {
   "cell_type": "code",
   "execution_count": null,
   "metadata": {},
   "outputs": [],
   "source": [
    "fig = px.bar(\n",
    "    x=continent_data.index,\n",
    "    y=continent_data['per_fin_paths'],\n",
    "    color=list(continents_grouped.keys()),\n",
    "    labels={\"x\": \"Continent\", \"y\": \"Percentage\"},\n",
    "    title=\"Percentage of finished paths by continent\",\n",
    ")\n",
    "\n",
    "fig.update_layout(showlegend=False)\n",
    "\n",
    "file_path = os.path.join(plots_path, \"percentage_finished_paths_by_continent.html\")\n",
    "fig.write_html(file_path)\n",
    "\n",
    "fig.show()"
   ]
  },
  {
   "cell_type": "code",
   "execution_count": null,
   "metadata": {},
   "outputs": [],
   "source": [
    "total_paths = len(paths_finished_df) + len(paths_unfinished_df)"
   ]
  },
  {
   "cell_type": "code",
   "execution_count": null,
   "metadata": {},
   "outputs": [],
   "source": [
    "# Create columns to count the number of times each article appears as goal in finished and unfinished paths\n",
    "analysis_df[\"n_as_goal_in_fin\"] = analysis_df[\"article\"].map(analysis_fin_paths[\"target\"].value_counts()).fillna(0)\n",
    "analysis_df[\"n_as_goal_in_unf\"] = analysis_df[\"article\"].map(analysis_unf_paths[\"target\"].value_counts()).fillna(0)\n",
    "\n",
    "# Create columns to count the number of times each article appears in general in finished and unfinished paths\n",
    "analysis_df[\"n_in_fin_paths\"] = analysis_df[\"article\"].map(pd.Series(';'.join(analysis_fin_paths['path']).split(';')).value_counts()).fillna(0)\n",
    "analysis_df[\"n_in_unf_paths\"] = analysis_df[\"article\"].map(pd.Series(';'.join(analysis_unf_paths['unf_path']).split(';')).value_counts()).fillna(0)\n",
    "\n",
    "#Let's calculate the probability of finding an article (we can compare this with the pagerank)\n",
    "analysis_df[\"prob_finding\"] = (analysis_df[\"n_in_fin_paths\"] + analysis_df[\"n_in_unf_paths\"])/total_paths"
   ]
  },
  {
   "cell_type": "code",
   "execution_count": null,
   "metadata": {},
   "outputs": [],
   "source": [
    "display(analysis_df)\n",
    "print(\"Size:\", analysis_df.shape)"
   ]
  },
  {
   "cell_type": "code",
   "execution_count": null,
   "metadata": {},
   "outputs": [],
   "source": [
    "# To do: Some plots\n",
    "# Show the frequency of the articles"
   ]
  }
 ],
 "metadata": {
  "kernelspec": {
   "display_name": "ada",
   "language": "python",
   "name": "python3"
  },
  "language_info": {
   "codemirror_mode": {
    "name": "ipython",
    "version": 3
   },
   "file_extension": ".py",
   "mimetype": "text/x-python",
   "name": "python",
   "nbconvert_exporter": "python",
   "pygments_lexer": "ipython3",
   "version": "3.11.1"
  }
 },
 "nbformat": 4,
 "nbformat_minor": 2
}
