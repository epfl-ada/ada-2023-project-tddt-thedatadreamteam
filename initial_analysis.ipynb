{
 "cells": [
  {
   "cell_type": "markdown",
   "metadata": {},
   "source": [
    "### Imports"
   ]
  },
  {
   "cell_type": "code",
   "execution_count": null,
   "metadata": {},
   "outputs": [],
   "source": [
    "import re\n",
    "import os\n",
    "\n",
    "import seaborn as sns\n",
    "import plotly.subplots\n",
    "import plotly.express as px\n",
    "import matplotlib.pyplot as plt\n",
    "import plotly.graph_objects as go\n",
    "\n",
    "import scipy\n",
    "import numpy as np\n",
    "import pandas as pd\n",
    "import statsmodels.formula.api as smf\n",
    "\n",
    "import networkx as nx"
   ]
  },
  {
   "cell_type": "markdown",
   "metadata": {},
   "source": [
    "### Derfaults"
   ]
  },
  {
   "cell_type": "code",
   "execution_count": null,
   "metadata": {},
   "outputs": [],
   "source": [
    "import warnings\n",
    "warnings.simplefilter(action=\"ignore\", category=FutureWarning)"
   ]
  },
  {
   "cell_type": "code",
   "execution_count": null,
   "metadata": {},
   "outputs": [],
   "source": [
    "REMOVE_INTERNATIONAL = True\n",
    "INTERNATIONAL_LABEL = \"International\"\n",
    "\n",
    "PLOTS_PATH = \"plots\"\n",
    "PLOTS_PATH_PLT = os.path.join(PLOTS_PATH, \"plt\")\n",
    "PLOTS_PATH_PX = os.path.join(PLOTS_PATH, \"px\")\n",
    "PLOTS_PATH_HTML = os.path.join(PLOTS_PATH, \"html\")\n",
    "\n",
    "FIGURE_WIDTH = 800\n",
    "FIGURE_HEIGHT = 600\n",
    "\n",
    "for path in [PLOTS_PATH_PLT, PLOTS_PATH_PX, PLOTS_PATH_HTML]: \n",
    "    os.makedirs(path, exist_ok=True)"
   ]
  },
  {
   "cell_type": "markdown",
   "metadata": {},
   "source": [
    "# Continent Labels\n",
    "\n",
    "Each article has assigned one continent label."
   ]
  },
  {
   "cell_type": "code",
   "execution_count": null,
   "metadata": {},
   "outputs": [],
   "source": [
    "df_continents = pd.read_csv(os.path.join(\"Data\", \"continents.csv\"))\n",
    "\n",
    "if REMOVE_INTERNATIONAL:\n",
    "    labeled_articles_all_count = len(df_continents)\n",
    "    df_continents = df_continents[df_continents.continent != INTERNATIONAL_LABEL]\n",
    "    labeled_articles_count = len(df_continents)\n",
    "    print(f\"Removing articles labeled as {INTERNATIONAL_LABEL}, Removed articles: {labeled_articles_all_count - labeled_articles_count}\")\n",
    "\n",
    "display(df_continents.head())\n",
    "print(\"Size:\", df_continents.shape)"
   ]
  },
  {
   "cell_type": "markdown",
   "metadata": {},
   "source": [
    "### Colors for all plots"
   ]
  },
  {
   "cell_type": "markdown",
   "metadata": {},
   "source": [
    "For consistency, we need to assign some colors to the continents so the plots are clear"
   ]
  },
  {
   "cell_type": "code",
   "execution_count": null,
   "metadata": {},
   "outputs": [],
   "source": [
    "continents = df_continents[\"continent\"].unique()\n",
    "random_colors = sns.color_palette(\"husl\", n_colors=len(continents))\n",
    "continents_colors = {}\n",
    "continents_colors_int = {}\n",
    "for i in range(len(continents)):\n",
    "    continents_colors[continents[i]] = random_colors[i]\n",
    "    continents_colors_int[continents[i]] = tuple(map(lambda x: int(255 * x), random_colors[i]))\n",
    "    continents_colors_int[continents[i]] = \"#{0:02x}{1:02x}{2:02x}\".format(*continents_colors_int[continents[i]])\n",
    "print(continents_colors)\n",
    "print(continents_colors_int)\n",
    "\n",
    "CONTINENTS_NUM = len(continents_colors)"
   ]
  },
  {
   "cell_type": "code",
   "execution_count": null,
   "metadata": {},
   "outputs": [],
   "source": [
    "continents_grouped = df_continents.groupby([\"continent\"]).size()\n",
    "continents_grouped = continents_grouped.sort_values(ascending=False)\n",
    "\n",
    "display(continents_grouped)"
   ]
  },
  {
   "cell_type": "markdown",
   "metadata": {},
   "source": [
    "# Number of articles per continent\n",
    "\n",
    "We are going to see how many articles are for each continent in our dataset"
   ]
  },
  {
   "cell_type": "code",
   "execution_count": null,
   "metadata": {},
   "outputs": [],
   "source": [
    "if False:\n",
    "    fig_name = \"articles_count_per_continent\"\n",
    "\n",
    "    num_categories = len(continents_grouped.keys())\n",
    "    ax = plt.bar(continents_grouped.keys(), continents_grouped.values, color=[continents_colors[continent] for continent in continents_grouped.keys()])\n",
    "    plt.xticks(rotation=45)\n",
    "    plt.title(\"Number of articles per continent\")\n",
    "    plt.ylabel(\"Count\")\n",
    "    plt.xlabel(\"Continent\")\n",
    "    plt.tight_layout()\n",
    "    plt.savefig(os.path.join(PLOTS_PATH_PLT, f\"{fig_name}_bar.pdf\"))\n",
    "    plt.show()\n",
    "\n",
    "\n",
    "    fig = go.Figure(data=[go.Bar(\n",
    "        x=continents_grouped.index,\n",
    "        y=continents_grouped.values,\n",
    "        marker_color=[continents_colors_int[continent] for continent in continents_grouped.index],\n",
    "    )])\n",
    "    fig.update_layout(\n",
    "        title_text=\"Number of articles per continent\",\n",
    "        title_x=0.5,\n",
    "        #xaxis=dict(tickangle=-45),\n",
    "        width=FIGURE_WIDTH,\n",
    "        height=FIGURE_HEIGHT,\n",
    "    )\n",
    "    fig.write_image(os.path.join(PLOTS_PATH_PX, f\"{fig_name}_bar.pdf\"))\n",
    "    fig.write_html(os.path.join(PLOTS_PATH_HTML, f\"{fig_name}_bar.html\"))\n",
    "    fig.show()\n",
    "\n",
    "\n",
    "    fig = go.Figure(data=[go.Pie(\n",
    "        labels=continents_grouped.index,\n",
    "        values=continents_grouped.values,\n",
    "        pull=[0.2] + [0] * (CONTINENTS_NUM - 1),\n",
    "        marker_colors=[continents_colors_int[continent] for continent in continents_grouped.index]\n",
    "    )])\n",
    "\n",
    "    fig.update_layout(\n",
    "        title_text=\"Number of articles per continent\",\n",
    "        title_x=0.5,\n",
    "        width=FIGURE_WIDTH,\n",
    "        height=FIGURE_HEIGHT,\n",
    "    )\n",
    "    fig.write_image(os.path.join(PLOTS_PATH_PX, f\"{fig_name}_pie.pdf\"))\n",
    "    fig.write_html(os.path.join(PLOTS_PATH_HTML, f\"{fig_name}_pie.html\"))\n",
    "    fig.show()\n"
   ]
  },
  {
   "cell_type": "markdown",
   "metadata": {},
   "source": [
    "## Article wikispeedia category\n",
    "\n",
    "In this section we are interested about the distribution of the continents along the categories, i.e, what percentage of articles of a specific category belong to one specific continent.\n",
    "\n",
    "To achieve this we first need to read the categories.tsv file that give us the category of a specific article."
   ]
  },
  {
   "cell_type": "code",
   "execution_count": null,
   "metadata": {},
   "outputs": [],
   "source": [
    "df_categories = pd.read_csv(\n",
    "    os.path.join(\"Data\", \"wikispeedia_paths-and-graph\", \"categories.tsv\"),\n",
    "    delimiter=\"\\t\",\n",
    "    header=None,\n",
    "    names=[\"article\", \"category\"],\n",
    "    skip_blank_lines=True,\n",
    "    comment=\"#\",\n",
    "    encoding=\"UTF-8\"\n",
    ")\n",
    "\n",
    "display(df_categories.head())\n",
    "print(\"Size:\", df_categories.shape)"
   ]
  },
  {
   "cell_type": "markdown",
   "metadata": {},
   "source": [
    "Then we group in one dataframe about articles, the information about its continent and the category. \n",
    "\n",
    "We see that some articles appear in more than one category. This is okey because the analysis in this point is by categories."
   ]
  },
  {
   "cell_type": "code",
   "execution_count": null,
   "metadata": {},
   "outputs": [],
   "source": [
    "df_continents_categories = pd.merge(df_continents, df_categories, on=\"article\")\n",
    "\n",
    "display(df_continents_categories.head())\n",
    "print(\"Size:\", df_continents_categories.shape)"
   ]
  },
  {
   "cell_type": "markdown",
   "metadata": {},
   "source": [
    "The category value for each article starts with 'subject', then main category and then some subcategories. As we are interested for the moment just on the main category, we create a new column for the main category."
   ]
  },
  {
   "cell_type": "code",
   "execution_count": null,
   "metadata": {},
   "outputs": [],
   "source": [
    "main_categories = []\n",
    "for category in df_continents_categories[\"category\"].values:\n",
    "    main_categories.append(category.split(\".\")[1])\n",
    "\n",
    "df_continents_categories[\"categoryMain\"] = main_categories\n",
    "\n",
    "display(df_continents_categories)\n",
    "print(\"Size:\", df_continents_categories.shape)"
   ]
  },
  {
   "cell_type": "markdown",
   "metadata": {},
   "source": [
    "Then we divide the dataset by caetgories and we compute how many articles from each continent are in each of the categories"
   ]
  },
  {
   "cell_type": "code",
   "execution_count": null,
   "metadata": {},
   "outputs": [],
   "source": [
    "continents_categories = df_continents_categories.groupby([\"categoryMain\", \"continent\"]).size()\n",
    "\n",
    "if not REMOVE_INTERNATIONAL:\n",
    "    display(continents_categories[(\"Geography\", \"International\")])\n",
    "\n",
    "display(continents_categories)"
   ]
  },
  {
   "cell_type": "code",
   "execution_count": null,
   "metadata": {},
   "outputs": [],
   "source": [
    "categories = df_continents_categories[\"categoryMain\"].unique()\n",
    "continents = df_continents_categories[\"continent\"].unique()\n",
    "continents.sort()\n",
    "\n",
    "category_positions = np.arange(len(categories))\n",
    "bar_width = 0.5\n",
    "\n",
    "continents_values = {}\n",
    "for i, continent in enumerate(continents):\n",
    "    frequencies = []\n",
    "    for category in categories:\n",
    "        try:\n",
    "            value = continents_categories[(category, continent)]\n",
    "        except KeyError:\n",
    "            value = 0\n",
    "        frequencies.append(value)\n",
    "    continents_values[continent] = frequencies\n",
    "\n",
    "df_continent_frequencies = pd.DataFrame(continents_values).T\n",
    "df_continent_frequencies.columns = categories\n",
    "display(df_continent_frequencies)\n",
    "print(\"Size:\", df_continent_frequencies.shape)"
   ]
  },
  {
   "cell_type": "code",
   "execution_count": null,
   "metadata": {},
   "outputs": [],
   "source": [
    "if False:\n",
    "\n",
    "    fig_name = \"articles_count_per_category\"\n",
    "    fig_title = \"Continent distribution per Category\"\n",
    "    fig_xlabel = \"Article Count\"\n",
    "    fig_ylabel = \"Category\"\n",
    "\n",
    "\n",
    "    ig, ax = plt.subplots()\n",
    "    bottom = np.zeros(len(categories))\n",
    "\n",
    "    for continent in continents:\n",
    "        ax.barh(categories, continents_values[continent], label=continent, color=continents_colors[continent], edgecolor=\"w\", height=0.5, left=bottom)\n",
    "        bottom += continents_values[continent]\n",
    "\n",
    "    ax.set_yticks(category_positions)\n",
    "    ax.set_yticklabels(categories)\n",
    "    ax.set_xlabel(fig_xlabel)\n",
    "    ax.set_ylabel(fig_ylabel)\n",
    "    plt.title(fig_title)\n",
    "    plt.legend()\n",
    "    plt.savefig(os.path.join(PLOTS_PATH_PLT, f\"{fig_name}_bar.pdf\"))\n",
    "    plt.show()\n",
    "\n",
    "\n",
    "    continent_sorted = df_continent_frequencies.sum(axis=\"columns\").sort_values(ascending=False).index\n",
    "\n",
    "    fig = px.bar(\n",
    "        df_continent_frequencies.loc[continent_sorted].T.loc[df_continent_frequencies.sum(axis=\"index\").sort_values().index],\n",
    "        orientation =\"h\",\n",
    "        title=fig_title,\n",
    "        labels={\"index\": fig_ylabel, \"value\": fig_xlabel},\n",
    "        color_discrete_sequence=[continents_colors_int[continent] for continent in continent_sorted],\n",
    "    )\n",
    "    fig.update_layout(\n",
    "        legend_title_text=\"\",\n",
    "        title_x=0.5,\n",
    "        width=FIGURE_WIDTH,\n",
    "        height=FIGURE_HEIGHT    \n",
    "    )\n",
    "    fig.write_html(os.path.join(PLOTS_PATH_HTML, f\"{fig_name}_bar.html\"))\n",
    "    fig.write_image(os.path.join(PLOTS_PATH_PX, f\"{fig_name}_bar.pdf\"))\n",
    "    fig.show()\n",
    "\n",
    "\n",
    "    fig = go.Figure()\n",
    "\n",
    "    annotations = {}\n",
    "    buttons = []\n",
    "    visible = True\n",
    "    mask = [False] * len(categories)\n",
    "    max_name_len = max(len(name) for name in continents)\n",
    "    for category_idx, category in enumerate(categories):\n",
    "        category_data = df_continent_frequencies[category]\n",
    "        category_data = category_data[category_data > 0]\n",
    "\n",
    "        category_name = category.replace(\"_\", \" \")\n",
    "        labels = [f\"{name : <{max_name_len}}\" for name in category_data.index]\n",
    "        fig.add_trace(go.Pie(\n",
    "            labels=labels,\n",
    "            values=category_data.values,\n",
    "            marker_colors=[continents_colors_int[continent] for continent in category_data.index],\n",
    "            visible=visible,\n",
    "            name=category_name\n",
    "        ))\n",
    "\n",
    "        annotation = dict(\n",
    "            text=f\"Category: {category_name}\",\n",
    "            x=0.5,\n",
    "            y=1.1,\n",
    "            showarrow=False\n",
    "        )\n",
    "        if visible:\n",
    "            fig.add_annotation(annotation)\n",
    "\n",
    "        mask[category_idx] = True\n",
    "        buttons.append(dict(\n",
    "            label=category_name,\n",
    "            method=\"update\",\n",
    "            args=[\n",
    "                {\"visible\": list(mask)},\n",
    "                {\"title\": fig_title, \"annotations\": [annotation]}\n",
    "            ]\n",
    "        ))\n",
    "        mask[category_idx] = False\n",
    "        visible=False\n",
    "\n",
    "\n",
    "    fig.update_layout(\n",
    "        title_text=fig_title,\n",
    "        title_x=0.7,\n",
    "        width=FIGURE_WIDTH,\n",
    "        height=FIGURE_HEIGHT,\n",
    "        legend=dict(\n",
    "            x=-0.3,\n",
    "            y=0.1\n",
    "        )\n",
    "    )\n",
    "\n",
    "\n",
    "    fig.update_layout(\n",
    "        updatemenus=[\n",
    "            dict(\n",
    "                active=0,\n",
    "                buttons=buttons\n",
    "            )\n",
    "        ]\n",
    "    )\n",
    "\n",
    "    fig.write_html(os.path.join(PLOTS_PATH_HTML, f\"{fig_name}_pie.html\"))\n",
    "    fig.write_image(os.path.join(PLOTS_PATH_PX, f\"{fig_name}_pie.pdf\"))\n",
    "    fig.show()"
   ]
  },
  {
   "cell_type": "markdown",
   "metadata": {},
   "source": [
    "On the graphs, it can be seen that in most of the categories there is a bigger representation of european articles which makes sense as we saw before that Europe is the continent with the most articles on the game."
   ]
  },
  {
   "cell_type": "markdown",
   "metadata": {},
   "source": [
    "In the following code we show how articles can belong to more than one category"
   ]
  },
  {
   "cell_type": "code",
   "execution_count": null,
   "metadata": {},
   "outputs": [],
   "source": [
    "df_articles = df_continents_categories[[\"article\", \"continent\"]].drop_duplicates()\n",
    "df_articles = pd.merge(df_articles, df_continents_categories.groupby(\"article\")[\"categoryMain\"].apply(list).reset_index(), on=\"article\")\n",
    "\n",
    "display(df_articles.head())\n",
    "print(\"Size:\", df_articles.shape)"
   ]
  },
  {
   "cell_type": "markdown",
   "metadata": {},
   "source": [
    "## Length of articles\n",
    "\n",
    "Now we are going to get how long are the articles and try to show if there is a significant difference depending on the continent "
   ]
  },
  {
   "cell_type": "code",
   "execution_count": null,
   "metadata": {},
   "outputs": [],
   "source": [
    "plaintext_path = os.path.join(\"Data\", \"plaintext_articles\")\n",
    "\n",
    "word_counts = []\n",
    "for article_name in df_articles.article:\n",
    "    file_path = os.path.join(plaintext_path, article_name + \".txt\")\n",
    "\n",
    "    with open(file_path, \"r\", encoding=\"utf-8\") as file:\n",
    "\n",
    "        _ = file.readline() # Skip the first line because it contains the word #copyright\n",
    "        content = file.read()\n",
    "\n",
    "    content = content[:re.search(\"Retrieved from\", content).start(0)]\n",
    "    word_counts.append(len(content.split()))\n",
    "\n",
    "df_articles[\"length\"] = word_counts\n",
    "\n",
    "display(df_articles.head())\n",
    "print(\"Size:\", df_articles.shape)"
   ]
  },
  {
   "cell_type": "code",
   "execution_count": null,
   "metadata": {},
   "outputs": [],
   "source": [
    "continent_length = df_articles.groupby([\"continent\"]).length.agg(scipy.stats.gmean)\n",
    "continent_length = continent_length.sort_values(ascending=False)\n",
    "\n",
    "display(continent_length)\n",
    "print(\"Size:\", continent_length.shape)"
   ]
  },
  {
   "cell_type": "code",
   "execution_count": null,
   "metadata": {},
   "outputs": [],
   "source": [
    "if False:\n",
    "\n",
    "    fig_name = \"gmean_length_of_articles_by_continent\"\n",
    "    fig_title = \"Length of articles by continent (Geometric mean)\"\n",
    "    fig_xlabel = \"Continent\"\n",
    "    fig_ylabel = \"World count\"\n",
    "\n",
    "    ax = plt.bar(\n",
    "        continent_length.index,\n",
    "        continent_length.values.reshape(continent_length.shape[0]),\n",
    "        color=[continents_colors[continent] for continent in continent_length.index]\n",
    "    )\n",
    "    plt.xticks(rotation=45)\n",
    "\n",
    "    plt.xlabel(fig_xlabel)\n",
    "    plt.ylabel(fig_ylabel)\n",
    "    plt.title(fig_title)\n",
    "    plt.savefig(os.path.join(PLOTS_PATH_PLT, f\"{fig_name}_bar.pdf\"))\n",
    "    plt.show()\n",
    "\n",
    "    fig = px.bar(\n",
    "        x=continent_length.index,\n",
    "        y=continent_length.values.reshape(continent_length.shape[0]),\n",
    "        labels={\"x\": fig_xlabel, \"y\": fig_ylabel},\n",
    "        title=\"Length of articles by continent (Geometric mean)\",\n",
    "        color=[continents_colors_int[continent] for continent in continent_length.index],\n",
    "        color_discrete_map=\"identity\",\n",
    "        width=FIGURE_WIDTH,\n",
    "        height=FIGURE_HEIGHT\n",
    "    )\n",
    "\n",
    "    fig.update_layout(\n",
    "        showlegend=False,\n",
    "        title_x=0.5\n",
    "    )\n",
    "    fig.write_html(os.path.join(PLOTS_PATH_HTML, f\"{fig_name}_bar.html\"))\n",
    "    fig.write_image(os.path.join(PLOTS_PATH_PX, f\"{fig_name}_bar.pdf\"))\n",
    "    fig.show()"
   ]
  },
  {
   "cell_type": "markdown",
   "metadata": {},
   "source": [
    "As it can be seen, articles about Europe, North America and Asia are considerably longer than from other continents"
   ]
  },
  {
   "cell_type": "markdown",
   "metadata": {},
   "source": [
    "## Pagerank"
   ]
  },
  {
   "cell_type": "markdown",
   "metadata": {},
   "source": [
    "Pagerank is a centrality measure computed in a recursivity manner where your values is higher if the value of an article pointing to you is higher as well. This means that articles that are more likely to be clicked on will have a higher pagerank value. In our case the most popular article or the one with the highest pagerank is the United States.\n",
    "\n",
    "Now we are going to analyse the PageRank of the articles and try to see if there is one continent with a considerably higher PageRank making it more popular in general."
   ]
  },
  {
   "cell_type": "code",
   "execution_count": null,
   "metadata": {},
   "outputs": [],
   "source": [
    "# Load pagerank\n",
    "df_pagerank = pd.read_csv(os.path.join(\"Data\", \"page_rank.csv\"))\n",
    "\n",
    "display(df_pagerank.head())\n",
    "print(\"Size:\", df_pagerank.shape)"
   ]
  },
  {
   "cell_type": "code",
   "execution_count": null,
   "metadata": {},
   "outputs": [],
   "source": [
    "df_articles = pd.merge(df_articles, df_pagerank, on=\"article\", how=\"left\").fillna(1e-6)\n",
    "\n",
    "display(df_articles.head())\n",
    "print(\"Size:\", df_articles.shape)"
   ]
  },
  {
   "cell_type": "markdown",
   "metadata": {},
   "source": [
    "Here we compute the geometric mean along the different articles of a continent and we plot it"
   ]
  },
  {
   "cell_type": "code",
   "execution_count": null,
   "metadata": {},
   "outputs": [],
   "source": [
    "# Compute mean\n",
    "pagerank_continent_mean = df_articles.groupby(\"continent\")[\"pageRank\"].agg(scipy.stats.gmean)\n",
    "pagerank_continent_mean = pagerank_continent_mean.sort_values(ascending=False)\n",
    "\n",
    "# Compute mean\n",
    "pagerank_continent_median = df_articles.groupby(\"continent\")[\"pageRank\"].median()\n",
    "pagerank_continent_median = pagerank_continent_median.sort_values(ascending=False)"
   ]
  },
  {
   "cell_type": "code",
   "execution_count": null,
   "metadata": {},
   "outputs": [],
   "source": [
    "if False:\n",
    "    fig_name = \"gmean_pagerank_by_continet\"\n",
    "    fig_title = \"PageRank by continent (Geometric Mean)\"\n",
    "    fig_xlabel = \"Continent\"\n",
    "    fig_ylabel = \"PageRank\"\n",
    "\n",
    "    ax = plt.bar(\n",
    "        pagerank_continent_mean.index,\n",
    "        pagerank_continent_mean,\n",
    "        color=[continents_colors[continent] for continent in pagerank_continent_mean.index]\n",
    "    )\n",
    "    plt.xticks(rotation=45)\n",
    "\n",
    "    plt.xlabel(fig_xlabel)\n",
    "    plt.ylabel(fig_ylabel)\n",
    "    plt.title(fig_title)\n",
    "    plt.savefig(os.path.join(PLOTS_PATH_PLT, f\"{fig_name}_bar.pdf\"))\n",
    "    plt.show()\n",
    "\n",
    "    fig = px.bar(\n",
    "        x=pagerank_continent_mean.index,\n",
    "        y=pagerank_continent_mean,\n",
    "        labels={\"x\": fig_xlabel, \"y\": fig_ylabel},\n",
    "        title=fig_title,\n",
    "        color=[continents_colors_int[continent] for continent in pagerank_continent_mean.index],\n",
    "        color_discrete_map=\"identity\",\n",
    "        width=FIGURE_WIDTH,\n",
    "        height=FIGURE_HEIGHT\n",
    "    )\n",
    "    fig.update_layout(\n",
    "        showlegend=False,\n",
    "        title_x=0.5\n",
    "    )\n",
    "    fig.update_yaxes(tickformat=\".1e\")\n",
    "    fig.write_html(os.path.join(PLOTS_PATH_HTML, f\"{fig_name}_bar.html\"))\n",
    "    fig.write_image(os.path.join(PLOTS_PATH_PX, f\"{fig_name}_bar.pdf\"))\n",
    "    fig.show()"
   ]
  },
  {
   "cell_type": "markdown",
   "metadata": {},
   "source": [
    "As it can be seen Asia, Europe and South America have the highes geometric mean of pagerank making their articles more popular in general than other continents.\n",
    "\n",
    "On the next plot, we compute the geometric median which gives a similar result."
   ]
  },
  {
   "cell_type": "code",
   "execution_count": null,
   "metadata": {},
   "outputs": [],
   "source": [
    "if False:\n",
    "    fig_name = \"median_pagerank_by_continet\"\n",
    "    fig_title = \"PageRank by continent (Geometric Median)\"\n",
    "    fig_xlabel = \"Continent\"\n",
    "    fig_ylabel = \"PageRank\"\n",
    "\n",
    "    ax = plt.bar(pagerank_continent_median.index, pagerank_continent_median, color=[continents_colors[continent] for continent in pagerank_continent_median.index])\n",
    "    plt.xticks(rotation=45)\n",
    "\n",
    "    plt.xlabel(fig_xlabel)\n",
    "    plt.ylabel(fig_ylabel)\n",
    "    plt.title(fig_title)\n",
    "    plt.savefig(os.path.join(PLOTS_PATH_PLT, f\"{fig_name}_bar.pdf\"))\n",
    "    plt.show()\n",
    "\n",
    "    fig = px.bar(\n",
    "        x=pagerank_continent_median.index,\n",
    "        y=pagerank_continent_median,\n",
    "        labels={\"x\": fig_xlabel, \"y\": fig_ylabel},\n",
    "        title=fig_title,\n",
    "        color=[continents_colors_int[continent] for continent in pagerank_continent_median.index],\n",
    "        color_discrete_map=\"identity\",\n",
    "        width=FIGURE_WIDTH,\n",
    "        height=FIGURE_HEIGHT\n",
    "    )\n",
    "    fig.update_layout(\n",
    "        showlegend=False,\n",
    "        title_x=0.5\n",
    "    )\n",
    "    fig.update_yaxes(tickformat=\".1e\")\n",
    "    fig.write_html(os.path.join(PLOTS_PATH_HTML, f\"{fig_name}_bar.html\"))\n",
    "    fig.write_image(os.path.join(PLOTS_PATH_PX, f\"{fig_name}_bar.pdf\"))\n",
    "    fig.show()"
   ]
  },
  {
   "cell_type": "markdown",
   "metadata": {},
   "source": [
    "## Analysis of paths\n",
    "\n",
    "In this section we want to compute all the statistics about the paths: \n",
    "- Number of backclicks \n",
    "- Steps taken\n",
    "- Number of unique articles on the path\n",
    "- If it is finished or unfinished\n",
    "- Duration on the path\n",
    "- The rating for each path\n",
    "- The start and target articles and their categories and pagerank\n",
    "- Frequency of each article on all the paths\n"
   ]
  },
  {
   "cell_type": "code",
   "execution_count": null,
   "metadata": {},
   "outputs": [],
   "source": [
    "df_paths_finished = pd.read_csv(\n",
    "    os.path.join(\"Data\", \"wikispeedia_paths-and-graph\", \"paths_finished.tsv\"),\n",
    "    sep=\"\\t\",\n",
    "    header=None,\n",
    "    names=[\"hashedIpAddress\", \"timestamp\", \"durationInSec\", \"path\", \"rating\"],\n",
    "    skip_blank_lines=True,\n",
    "    comment=\"#\"\n",
    ")\n",
    "df_paths_unfinished = pd.read_csv(\n",
    "    os.path.join(\"Data\", \"wikispeedia_paths-and-graph\", \"paths_unfinished.tsv\"),\n",
    "    sep=\"\\t\",\n",
    "    header=None,\n",
    "    names=[\"hashedIpAddress\", \"timestamp\", \"durationInSec\", \"path\", \"target\", \"motif\"],\n",
    "    skip_blank_lines=True,\n",
    "    comment=\"#\"\n",
    ")\n",
    "\n",
    "df_paths_finished[\"backclicks\"] = df_paths_finished[\"path\"].apply(lambda x: x.count(\"<\"))\n",
    "df_paths_finished[\"pathSteps\"] = df_paths_finished[\"path\"].apply(lambda x: x.count(\";\") + 1)\n",
    "df_paths_finished[\"uniqueArticles\"] = df_paths_finished[\"pathSteps\"] - df_paths_finished[\"backclicks\"]\n",
    "df_paths_finished[\"path\"] = df_paths_finished[\"path\"].apply(lambda x: x.split(\";\"))\n",
    "df_paths_finished[\"start\"] = df_paths_finished[\"path\"].str[0]\n",
    "df_paths_finished[\"target\"] = df_paths_finished[\"path\"].str[-1]\n",
    "df_paths_finished[\"isFinished\"] = True\n",
    "\n",
    "df_paths_unfinished[\"backclicks\"] = df_paths_unfinished[\"path\"].apply(lambda x: x.count(\"<\"))\n",
    "df_paths_unfinished[\"pathSteps\"] = df_paths_unfinished[\"path\"].apply(lambda x: x.count(\";\") + 1)\n",
    "df_paths_unfinished[\"uniqueArticles\"] = df_paths_unfinished[\"pathSteps\"] - df_paths_unfinished[\"backclicks\"]\n",
    "df_paths_unfinished[\"path\"] = df_paths_unfinished[\"path\"].apply(lambda x: x.split(\";\"))\n",
    "df_paths_unfinished[\"start\"] = df_paths_unfinished[\"path\"].str[0]\n",
    "df_paths_unfinished[\"isFinished\"] = False\n",
    "\n",
    "display(df_paths_finished.head())\n",
    "display(df_paths_unfinished.head())\n",
    "\n",
    "df_paths = pd.concat([df_paths_finished, df_paths_unfinished])\n",
    "display(df_paths.head())"
   ]
  },
  {
   "cell_type": "code",
   "execution_count": null,
   "metadata": {},
   "outputs": [],
   "source": [
    "tmp = df_articles.copy()\n",
    "tmp.columns = [column[0].upper() + column[1:] for column in tmp.columns]\n",
    "tmp = tmp.add_prefix(\"target\")\n",
    "\n",
    "df_analysis = pd.merge(df_paths, tmp, left_on=\"target\", right_on=\"targetArticle\", suffixes=[\"\", ]).drop(columns=\"targetArticle\")\n",
    "\n",
    "tmp = df_articles.copy()\n",
    "tmp.columns = [column[0].upper() + column[1:] for column in tmp.columns]\n",
    "tmp = tmp.add_prefix(\"start\")\n",
    "df_analysis = pd.merge(df_analysis, tmp, left_on=\"start\", right_on=\"startArticle\", suffixes=[\"\", ]).drop(columns=\"startArticle\")\n",
    "\n",
    "df_analysis[\"isFinishedInt\"] = df_analysis[\"isFinished\"].astype(int)\n",
    "\n",
    "display(df_analysis.head())\n",
    "print(\"Size:\", df_analysis.shape)"
   ]
  },
  {
   "cell_type": "code",
   "execution_count": null,
   "metadata": {},
   "outputs": [],
   "source": [
    "df_analysis_finished = df_analysis[df_analysis[\"isFinished\"]]\n",
    "df_analysis_unfinished = df_analysis[~df_analysis[\"isFinished\"]]\n",
    "\n",
    "df_analysis_per_continent = pd.DataFrame()\n",
    "for name in [\"start\", \"target\"]:\n",
    "    # Create a column to show the number of articles in each continent\n",
    "    df_analysis_per_continent[f\"{name}Articles\"] = df_analysis.groupby(f\"{name}Continent\").size()\n",
    "\n",
    "    # Create columns for av. backclicks\n",
    "    df_analysis_per_continent[f\"{name}BackcliksFinished\"] =  df_analysis_finished.groupby(f\"{name}Continent\")[\"backclicks\"].agg(scipy.stats.gmean)\n",
    "    df_analysis_per_continent[f\"{name}BackcliksUnfinished\"] =  df_analysis_unfinished.groupby(f\"{name}Continent\")[\"backclicks\"].agg(scipy.stats.gmean)\n",
    "\n",
    "    # Create columns for av. path steps\n",
    "    df_analysis_per_continent[f\"{name}PathStepsFinished\"] =  df_analysis_finished.groupby(f\"{name}Continent\")[\"pathSteps\"].agg(scipy.stats.gmean)\n",
    "    df_analysis_per_continent[f\"{name}PathStepsUnfinished\"] =  df_analysis_unfinished.groupby(f\"{name}Continent\")[\"pathSteps\"].agg(scipy.stats.gmean)\n",
    "\n",
    "    # Create columns for the number of finished and unfinished paths for each continent\n",
    "    df_analysis_per_continent[f\"{name}PathsFinished\"] = df_analysis_finished[f\"{name}Continent\"].value_counts()\n",
    "    df_analysis_per_continent[f\"{name}PathsUnfinished\"] = df_analysis_unfinished[f\"{name}Continent\"].value_counts()\n",
    "    df_analysis_per_continent[f\"{name}PathsFinishedPercentage\"] = df_analysis.groupby(f\"{name}Continent\")[\"isFinishedInt\"].mean() * 100\n",
    "\n",
    "df_analysis_per_continent.index.name = \"continent\""
   ]
  },
  {
   "cell_type": "markdown",
   "metadata": {},
   "source": [
    "Let's get know statistics by continent, like the number of target and start articles"
   ]
  },
  {
   "cell_type": "code",
   "execution_count": null,
   "metadata": {},
   "outputs": [],
   "source": [
    "continent_data = df_analysis_per_continent.sort_values(by=\"targetPathsFinishedPercentage\",ascending=False)\n",
    "display(continent_data)\n",
    "print(\"Size:\", continent_data.shape)"
   ]
  },
  {
   "cell_type": "code",
   "execution_count": null,
   "metadata": {},
   "outputs": [],
   "source": [
    "continent_data = df_analysis_per_continent.sort_values(by=\"startPathsFinishedPercentage\",ascending=False)\n",
    "display(continent_data)\n",
    "print(\"Size:\", continent_data.shape)"
   ]
  },
  {
   "cell_type": "code",
   "execution_count": null,
   "metadata": {},
   "outputs": [],
   "source": [
    "if False:\n",
    "    fig_name = \"count_target_by_continet\"\n",
    "    fig_title = \"Target articles by continent\"\n",
    "    fig_xlabel = \"Continent\"\n",
    "    fig_ylabel = \"Count\"\n",
    "\n",
    "    ax = plt.bar(continent_data.index,continent_data[\"targetArticles\"], color=[continents_colors[continent] for continent in continent_data.index])\n",
    "    plt.xticks(rotation=45)\n",
    "\n",
    "    plt.xlabel(fig_xlabel)\n",
    "    plt.ylabel(fig_ylabel)\n",
    "    plt.title(fig_title)\n",
    "    plt.savefig(os.path.join(PLOTS_PATH_PLT, f\"{fig_name}_bar.pdf\"))\n",
    "    plt.show()\n",
    "\n",
    "    fig = px.bar(\n",
    "        x=continent_data.index,\n",
    "        y=continent_data[\"targetArticles\"],\n",
    "        labels={\"x\": fig_xlabel, \"y\": fig_ylabel},\n",
    "        title=fig_title,\n",
    "        color=[continents_colors_int[continent] for continent in continent_data.index],\n",
    "        color_discrete_map=\"identity\"\n",
    "    )\n",
    "\n",
    "    fig.update_layout(\n",
    "        showlegend=False,\n",
    "        title_x=0.5,\n",
    "        width=FIGURE_WIDTH,\n",
    "        height=FIGURE_HEIGHT\n",
    "    )\n",
    "    fig.write_html(os.path.join(PLOTS_PATH_HTML, f\"{fig_name}_bar.html\"))\n",
    "    fig.write_image(os.path.join(PLOTS_PATH_PX, f\"{fig_name}_bar.pdf\"))\n",
    "    fig.show()"
   ]
  },
  {
   "cell_type": "code",
   "execution_count": null,
   "metadata": {},
   "outputs": [],
   "source": [
    "if False:\n",
    "    fig_name = \"count_start_by_continet\"\n",
    "    fig_title = \"Start articles by continent\"\n",
    "    fig_xlabel = \"Continent\"\n",
    "    fig_ylabel = \"Count\"\n",
    "\n",
    "    ax = plt.bar(continent_data.index,continent_data[\"startArticles\"], color=[continents_colors[continent] for continent in continent_data.index])\n",
    "    plt.xticks(rotation=45)\n",
    "\n",
    "    plt.xlabel(fig_xlabel)\n",
    "    plt.ylabel(fig_ylabel)\n",
    "    plt.title(fig_title)\n",
    "    plt.savefig(os.path.join(PLOTS_PATH_PLT, f\"{fig_name}_bar.pdf\"))\n",
    "    plt.show()\n",
    "\n",
    "    fig = px.bar(\n",
    "        x=continent_data.index,\n",
    "        y=continent_data[\"startArticles\"],\n",
    "        labels={\"x\": fig_xlabel, \"y\": fig_ylabel},\n",
    "        title=fig_title,\n",
    "        color=[continents_colors_int[continent] for continent in continent_data.index],\n",
    "        color_discrete_map=\"identity\"\n",
    "    )\n",
    "\n",
    "    fig.update_layout(\n",
    "        showlegend=False,\n",
    "        title_x=0.5,\n",
    "        width=FIGURE_WIDTH,\n",
    "        height=FIGURE_HEIGHT\n",
    "    )\n",
    "    fig.write_html(os.path.join(PLOTS_PATH_HTML, f\"{fig_name}_bar.html\"))\n",
    "    fig.write_image(os.path.join(PLOTS_PATH_PX, f\"{fig_name}_bar.pdf\"))\n",
    "    fig.show()"
   ]
  },
  {
   "cell_type": "markdown",
   "metadata": {},
   "source": [
    "Now we want to compare frequency of articles in the paths. "
   ]
  },
  {
   "cell_type": "code",
   "execution_count": null,
   "metadata": {},
   "outputs": [],
   "source": [
    "df_article_path_stats = pd.DataFrame()\n",
    "\n",
    "df_article_path_stats[\"article\"] = df_articles[\"article\"]\n",
    "df_article_path_stats[\"continent\"] = df_articles[\"continent\"]\n",
    "df_article_path_stats[\"targetFinished\"] = df_articles[\"article\"].map(df_paths_finished[\"target\"].value_counts()).fillna(0)\n",
    "df_article_path_stats[\"targetUnfinished\"] = df_articles[\"article\"].map(df_paths_unfinished[\"target\"].value_counts()).fillna(0)\n",
    "\n",
    "df_article_path_stats[\"startFinished\"] = df_articles[\"article\"].map(df_paths_finished[\"start\"].value_counts()).fillna(0)\n",
    "df_article_path_stats[\"startUnfinished\"] = df_articles[\"article\"].map(df_paths_unfinished[\"start\"].value_counts()).fillna(0)\n",
    "\n",
    "paths_finished = pd.Series(np.concatenate(df_paths_finished.path.values))\n",
    "paths_unfinished = pd.Series(np.concatenate(df_paths_unfinished.path.values))\n",
    "\n",
    "# Create columns to count the number of times each article appears in general in finished and unfinished paths\n",
    "df_article_path_stats[\"anyFinished\"] = df_articles[\"article\"].map(paths_finished.value_counts()).fillna(0)\n",
    "df_article_path_stats[\"anyUnfinished\"] = df_articles[\"article\"].map(paths_unfinished.value_counts()).fillna(0)\n",
    "df_article_path_stats[\"totalOccurrences\"] = df_article_path_stats[\"anyFinished\"] + df_article_path_stats[\"anyUnfinished\"]\n",
    "\n",
    "# Let\"s calculate the probability of finding an article (we can compare this with the pagerank)\n",
    "df_article_path_stats[\"anyPercentage\"] = (df_article_path_stats[\"anyFinished\"] + df_article_path_stats[\"anyUnfinished\"]) / (len(paths_finished) + len(paths_unfinished))\n",
    "\n",
    "#Let's joing with pagerank\n",
    "df_article_path_stats = pd.merge(df_article_path_stats,df_pagerank,on='article',how='left')\n",
    "\n",
    "\n",
    "#Finally we compute the difference between anyPercentage and pagerank\n",
    "df_article_path_stats['diffOccPageRank'] = df_article_path_stats[\"anyPercentage\"] - df_article_path_stats['pageRank']\n"
   ]
  },
  {
   "cell_type": "code",
   "execution_count": null,
   "metadata": {},
   "outputs": [],
   "source": [
    "display(df_article_path_stats.sort_values(\"anyPercentage\", ascending=False).head())\n",
    "print(\"Size:\", df_article_path_stats.shape)"
   ]
  },
  {
   "cell_type": "code",
   "execution_count": null,
   "metadata": {},
   "outputs": [],
   "source": [
    "if False:\n",
    "    fig_name = \"article_occurrence_by_continet\"\n",
    "    fig_title = \"Occurrence of article in path per continent (Median)\"\n",
    "    fig_xlabel = \"Continent\"\n",
    "    fig_ylabel = \"Percentage\"\n",
    "\n",
    "\n",
    "    tmp = df_article_path_stats.groupby(\"continent\")\n",
    "    tmp = tmp.anyPercentage.median()\n",
    "\n",
    "    ax = plt.bar(tmp.index, tmp, color=[continents_colors[continent] for continent in tmp.index])\n",
    "    plt.xticks(rotation=45)\n",
    "\n",
    "    plt.xlabel(fig_xlabel)\n",
    "    plt.ylabel(fig_ylabel)\n",
    "    plt.title(fig_title)\n",
    "    plt.show()\n",
    "\n",
    "    fig = px.bar(\n",
    "        x=tmp.index,\n",
    "        y=tmp,\n",
    "        labels={\"x\": fig_xlabel, \"y\": fig_ylabel},\n",
    "        title=fig_title,\n",
    "        color=[continents_colors_int[continent] for continent in tmp.index],\n",
    "        color_discrete_map=\"identity\"\n",
    "    )\n",
    "\n",
    "    fig.update_layout(\n",
    "        showlegend=False,\n",
    "        title_x=0.5,\n",
    "        width=FIGURE_WIDTH,\n",
    "        height=FIGURE_HEIGHT\n",
    "    )\n",
    "    fig.write_html(os.path.join(PLOTS_PATH_HTML, f\"{fig_name}_bar.html\"))\n",
    "    fig.write_image(os.path.join(PLOTS_PATH_PX, f\"{fig_name}_bar.pdf\"))\n",
    "    fig.show()"
   ]
  },
  {
   "cell_type": "code",
   "execution_count": null,
   "metadata": {},
   "outputs": [],
   "source": [
    "if False:\n",
    "    fig_name = \"article_occurrence_by_continet\"\n",
    "    fig_title = \"Occurrence of article in path per continent Total\"\n",
    "    fig_xlabel = \"Continent\"\n",
    "    fig_ylabel = \"Total\"\n",
    "\n",
    "\n",
    "    tmp = df_article_path_stats.groupby(\"continent\")\n",
    "    tmp = tmp.totalOccurrences.sum()\n",
    "\n",
    "    ax = plt.bar(tmp.index, tmp, color=[continents_colors[continent] for continent in tmp.index])\n",
    "    plt.xticks(rotation=45)\n",
    "\n",
    "    plt.xlabel(fig_xlabel)\n",
    "    plt.ylabel(fig_ylabel)\n",
    "    plt.title(fig_title)\n",
    "    plt.show()\n",
    "\n",
    "    fig = px.bar(\n",
    "        x=tmp.index,\n",
    "        y=tmp,\n",
    "        labels={\"x\": fig_xlabel, \"y\": fig_ylabel},\n",
    "        title=fig_title,\n",
    "        color=[continents_colors_int[continent] for continent in tmp.index],\n",
    "        color_discrete_map=\"identity\"\n",
    "    )\n",
    "\n",
    "    fig.update_layout(\n",
    "        showlegend=False,\n",
    "        title_x=0.5,\n",
    "        width=FIGURE_WIDTH,\n",
    "        height=FIGURE_HEIGHT\n",
    "    )\n",
    "    fig.write_html(os.path.join(PLOTS_PATH_HTML, f\"{fig_name}_bar.html\"))\n",
    "    fig.write_image(os.path.join(PLOTS_PATH_PX, f\"{fig_name}_bar.pdf\"))\n",
    "    fig.show()"
   ]
  },
  {
   "cell_type": "markdown",
   "metadata": {},
   "source": [
    "As we can see in the previous plot, European articles are more widely chosen. However, this is as well because most of the articles are european"
   ]
  },
  {
   "cell_type": "code",
   "execution_count": null,
   "metadata": {},
   "outputs": [],
   "source": [
    "if False:\n",
    "    fig_name = \"median_pagerank_by_continet\"\n",
    "    fig_title = \"Percentage of finished paths by continent\"\n",
    "    fig_xlabel = \"Continent\"\n",
    "    fig_ylabel = \"Percentage\"\n",
    "\n",
    "    ax = plt.bar(continent_data.index, continent_data[\"targetPathsFinishedPercentage\"], color=[continents_colors[continent] for continent in continent_data.index])\n",
    "    plt.xticks(rotation=45)\n",
    "    plt.xlabel(fig_xlabel)\n",
    "    plt.ylabel(fig_ylabel)\n",
    "    plt.title(fig_title)\n",
    "    plt.savefig(os.path.join(PLOTS_PATH_PLT, f\"{fig_name}_bar.pdf\"))\n",
    "    plt.show()\n",
    "\n",
    "    fig = px.bar(\n",
    "        x=continent_data.index,\n",
    "        y=continent_data[\"targetPathsFinishedPercentage\"],\n",
    "        labels={\"x\": fig_xlabel, \"y\": fig_ylabel},\n",
    "        title=fig_title,\n",
    "        color=[continents_colors_int[continent] for continent in continent_data.index],\n",
    "        color_discrete_map=\"identity\"\n",
    "    )\n",
    "    fig.update_layout(\n",
    "        showlegend=False,\n",
    "        title_x=0.5,\n",
    "        width=FIGURE_WIDTH,\n",
    "        height=FIGURE_HEIGHT\n",
    "    )\n",
    "    fig.write_html(os.path.join(PLOTS_PATH_HTML, f\"{fig_name}_bar.html\"))\n",
    "    fig.write_image(os.path.join(PLOTS_PATH_PX, f\"{fig_name}_bar.pdf\"))\n",
    "    fig.show()"
   ]
  },
  {
   "cell_type": "markdown",
   "metadata": {},
   "source": [
    "Now we are going to do a statistical test to show if there is a statistical difference on the number of articles finished of Europe versus the rest of the world."
   ]
  },
  {
   "cell_type": "code",
   "execution_count": null,
   "metadata": {},
   "outputs": [],
   "source": [
    "df_analysis[\"treatment\"] = df_analysis.targetContinent == \"Europe\""
   ]
  },
  {
   "cell_type": "code",
   "execution_count": null,
   "metadata": {},
   "outputs": [],
   "source": [
    "scipy.stats.ttest_ind(df_analysis[df_analysis.treatment][\"isFinishedInt\"], df_analysis[~df_analysis.treatment][\"isFinishedInt\"], equal_var=False)"
   ]
  },
  {
   "cell_type": "markdown",
   "metadata": {},
   "source": [
    "As it can be seen, the p-value is lower than 0.05. Therefore, we reject the hypothesis that the number of articles finished is the same for Europe than for the rest of the world"
   ]
  },
  {
   "cell_type": "code",
   "execution_count": null,
   "metadata": {},
   "outputs": [],
   "source": [
    "cross_tab = pd.crosstab(df_analysis['treatment'], df_analysis['isFinished'], margins=True, margins_name='Total')\n",
    "proportions = cross_tab.div(cross_tab['Total'], axis=0).iloc[:-1, :-1]\n",
    "standard_errors = proportions.apply(lambda x: x**0.5 * ((1 - x) / x / cross_tab['Total'][:-1])**0.5, axis=0)\n",
    "\n",
    "print(proportions, standard_errors)\n",
    "\n",
    "\n",
    "if False:\n",
    "    fig = go.Figure()\n",
    "    fig.add_trace(go.Bar(\n",
    "        x=[f'Treatment {group}' for group in proportions.index],\n",
    "        y=proportions[True],\n",
    "        error_y=dict(type='data', array=standard_errors[True]),\n",
    "    ))\n",
    "\n",
    "    fig.update_layout(\n",
    "        title='Proportion of Finished Samples',\n",
    "        xaxis=dict(title='Treatment'),\n",
    "        yaxis=dict(title='Proportion'),\n",
    "        barmode='group',\n",
    "    )\n",
    "\n",
    "    fig.show()\n"
   ]
  },
  {
   "cell_type": "markdown",
   "metadata": {},
   "source": [
    "# Testing dependance of variables"
   ]
  },
  {
   "cell_type": "code",
   "execution_count": null,
   "metadata": {},
   "outputs": [],
   "source": [
    "df_articles_all = pd.read_csv(\n",
    "    os.path.join(\"Data\", \"wikispeedia_paths-and-graph\", \"articles.tsv\"),\n",
    "    delimiter=\"\\t\",\n",
    "    header=None,\n",
    "    names=[\"name\"],\n",
    "    skip_blank_lines=True,\n",
    "    comment=\"#\",\n",
    "    encoding=\"UTF-8\"\n",
    ")\n",
    "\n",
    "name_to_index = dict(zip(df_articles_all[\"name\"], df_articles_all.index))\n",
    "\n",
    "display(df_articles_all.head())\n",
    "print(\"Size:\", df_articles_all.shape)"
   ]
  },
  {
   "cell_type": "code",
   "execution_count": null,
   "metadata": {},
   "outputs": [],
   "source": [
    "sp_lenght = []\n",
    "s = []\n",
    "with open(os.path.join(\"Data\", \"wikispeedia_paths-and-graph\", \"shortest-path-distance-matrix.txt\")) as file:\n",
    "    for line in file:\n",
    "        line = line.strip()\n",
    "        if line == \"\" or line.startswith(\"#\"):\n",
    "            continue\n",
    "        s.append(line)\n",
    "        sp_lenght.append(list(map(lambda x: -1 if x == \"_\" else int(x), list(line))))\n",
    "        \n",
    "sp_lenght = np.array(sp_lenght)\n",
    "\n",
    "print(sp_lenght[:10, :10])"
   ]
  },
  {
   "cell_type": "code",
   "execution_count": null,
   "metadata": {},
   "outputs": [],
   "source": [
    "df_analysis[\"startIdx\"] = df_analysis[\"start\"].replace(name_to_index)\n",
    "df_analysis[\"targetIdx\"] = df_analysis[\"target\"].replace(name_to_index)\n",
    "\n",
    "df_analysis[\"shortestPath\"] = df_analysis.apply(lambda x: sp_lenght[x[\"startIdx\"]][x[\"targetIdx\"]], axis=\"columns\")"
   ]
  },
  {
   "cell_type": "code",
   "execution_count": null,
   "metadata": {},
   "outputs": [],
   "source": [
    "df_analysis.head()"
   ]
  },
  {
   "cell_type": "code",
   "execution_count": null,
   "metadata": {},
   "outputs": [],
   "source": [
    "df_analysis_onehot = df_analysis.copy()\n",
    "\n",
    "for col in [\"startContinent\", \"startCategoryMain\", \"targetContinent\", \"targetCategoryMain\"]:\n",
    "    one_hot = pd.get_dummies(df_analysis[col].explode()).groupby(level=0).sum()\n",
    "    one_hot = one_hot.add_prefix(f\"{col}OneHot\")\n",
    "\n",
    "    df_analysis_onehot = pd.concat((df_analysis_onehot, one_hot), axis=\"columns\")\n",
    "\n",
    "df_analysis_onehot.columns = [col.replace(\" \", \"_\") for col in df_analysis_onehot.columns]"
   ]
  },
  {
   "cell_type": "code",
   "execution_count": null,
   "metadata": {},
   "outputs": [],
   "source": [
    "corr_cols = [\"backclicks\", \"pathSteps\", \"uniqueArticles\", \"targetLength\", \"targetPageRank\", \"startLength\", \"startPageRank\", \"isFinished\", \"shortestPath\"] + [col for col in df_analysis_onehot.columns if \"OneHot\" in col]\n",
    "display(df_analysis_onehot[corr_cols].corr()[\"isFinished\"])\n",
    "display(df_analysis_onehot[corr_cols].corr(\"spearman\")[\"isFinished\"])\n"
   ]
  },
  {
   "cell_type": "code",
   "execution_count": null,
   "metadata": {},
   "outputs": [],
   "source": [
    "features = [col for col in df_analysis_onehot.columns if \"CategoryMainOneHot\" in col] + [\"startLength\", \"startPageRank\", \"targetLength\", \"targetPageRank\", \"shortestPath\"]\n",
    "eq = \"isFinishedInt ~ \" + \" + \".join(features)\n",
    "\n",
    "model = smf.logit(eq, df_analysis_onehot).fit()\n",
    "print(model.summary())"
   ]
  },
  {
   "cell_type": "code",
   "execution_count": null,
   "metadata": {},
   "outputs": [],
   "source": [
    "pvalues = model.pvalues\n",
    "print(pvalues[pvalues < 0.05])"
   ]
  },
  {
   "cell_type": "code",
   "execution_count": null,
   "metadata": {},
   "outputs": [],
   "source": [
    "eq = \"isFinishedInt ~ \" + \" + \".join(x for x in pvalues[pvalues < 0.05].index if x != \"Intercept\")\n",
    "\n",
    "model = smf.logit(eq, df_analysis_onehot).fit()\n",
    "print(model.summary())"
   ]
  },
  {
   "cell_type": "code",
   "execution_count": null,
   "metadata": {},
   "outputs": [],
   "source": [
    "fig, axes = plt.subplots(nrows=1, ncols=2, figsize=(15, 5))\n",
    "\n",
    "ax = sns.histplot(df_analysis[df_analysis.treatment][\"startLength\"], stat='probability', color='blue', label='treated', element=\"step\", ax=axes[0])\n",
    "ax = sns.histplot(df_analysis[~df_analysis.treatment][\"startLength\"], stat='probability', color='orange', label='control', element=\"step\", ax=axes[0])\n",
    "\n",
    "\n",
    "bx = sns.boxplot(data=df_analysis, y=\"startLength\", x=\"treatment\", ax=axes[1], width=0.3, palette=[\"orange\", \"blue\"])\n",
    "\n",
    "ax.set(title='Start Length distribution comparison', xlabel=\"Start Length\", ylabel='Start Length probability')\n",
    "bx.set(title='Start Length boxplot', xlabel=\"Treatment\", ylabel='Start Length')\n",
    "ax.legend()\n",
    "bx.set_label([\"treated\",\"control\"])\n",
    "bx.legend(labels=[\"treated\",\"control\"])\n",
    "plt.show()\n",
    "\n",
    "fig_name = \"start_length_distribution\"\n",
    "\n",
    "fig = px.histogram(\n",
    "    df_analysis,\n",
    "    x=\"startLength\",\n",
    "    color=\"treatment\",\n",
    "    labels={\"startLength\": \"Start Length\", \"count\": \"Count\", \"treatment\": \"Treatment\"},\n",
    "    histnorm=\"probability\",\n",
    "    #nbins=30,\n",
    "    barmode='overlay',\n",
    ")\n",
    "\n",
    "fig.update_layout(\n",
    "    title_text=\"Start Length Distribution Comparison\",\n",
    "    title_x=0.5,\n",
    "    width=FIGURE_WIDTH,\n",
    "    height=FIGURE_HEIGHT,\n",
    ")\n",
    "\n",
    "fig.write_image(os.path.join(PLOTS_PATH_PX, f\"{fig_name}_hist.pdf\"))\n",
    "fig.write_html(os.path.join(PLOTS_PATH_HTML, f\"{fig_name}_hist.html\"))\n",
    "fig.show()\n",
    "\n",
    "fig = px.box(\n",
    "    df_analysis,\n",
    "    x=\"treatment\",\n",
    "    y=\"startLength\",\n",
    "    color=\"treatment\",\n",
    "    labels={\"startLength\": \"Start Length\", \"treatment\": \"Treatment\"},\n",
    "    points=\"all\"\n",
    ")\n",
    "\n",
    "fig.update_layout(\n",
    "    title_text=\"Start Length Boxplot\",\n",
    "    showlegend=False,\n",
    "    title_x=0.5,\n",
    "    width=FIGURE_WIDTH,\n",
    "    height=FIGURE_HEIGHT\n",
    ")\n",
    "\n",
    "fig.write_image(os.path.join(PLOTS_PATH_PX, f\"{fig_name}_box.pdf\"))\n",
    "fig.write_html(os.path.join(PLOTS_PATH_HTML, f\"{fig_name}_box.html\"))\n",
    "fig.show()\n"
   ]
  },
  {
   "cell_type": "code",
   "execution_count": null,
   "metadata": {},
   "outputs": [],
   "source": []
  },
  {
   "cell_type": "code",
   "execution_count": null,
   "metadata": {},
   "outputs": [],
   "source": [
    "\n",
    "fig, axes = plt.subplots(nrows=1, ncols=2, figsize=(15, 5))\n",
    "\n",
    "ax = sns.histplot(df_analysis[df_analysis.treatment][\"targetLength\"], stat='probability', color='blue', label='treated', element=\"step\", ax=axes[0])\n",
    "ax = sns.histplot(df_analysis[~df_analysis.treatment][\"targetLength\"], stat='probability', color='orange', label='control', element=\"step\", ax=axes[0])\n",
    "\n",
    "bx = sns.boxplot(x=\"treatment\", y=\"startLength\", data=df_analysis, ax=axes[1], palette=[\"orange\", \"blue\"], width=0.3)\n",
    "\n",
    "ax.set(title='Target Length distribution comparison', xlabel=\"Target Length\", ylabel='Target Length probability')\n",
    "bx.set(title='Target Length boxplot', xlabel=\"Treatment\", ylabel='Target Length')\n",
    "\n",
    "ax.legend()\n",
    "bx.legend()\n",
    "plt.show()\n",
    "\n",
    "fig_name = \"target_length_distribution\"\n",
    "\n",
    "fig = px.histogram(\n",
    "    df_analysis,\n",
    "    x=\"targetLength\",\n",
    "    color=\"treatment\",\n",
    "    labels={\"targetLength\": \"Target Length\", \"count\": \"Count\", \"treatment\": \"Treatment\"},\n",
    "    histnorm=\"probability\",\n",
    "    #nbins=30,\n",
    "    barmode='overlay',\n",
    ")\n",
    "\n",
    "fig.update_layout(\n",
    "    title_text=\"Target Length Distribution Comparison\",\n",
    "    title_x=0.5,\n",
    "    width=FIGURE_WIDTH,\n",
    "    height=FIGURE_HEIGHT,\n",
    ")\n",
    "\n",
    "fig.write_image(os.path.join(PLOTS_PATH_PX, f\"{fig_name}_hist.pdf\"))\n",
    "fig.write_html(os.path.join(PLOTS_PATH_HTML, f\"{fig_name}_hist.html\"))\n",
    "fig.show()\n",
    "\n",
    "fig = px.box(\n",
    "    df_analysis,\n",
    "    x=\"treatment\",\n",
    "    y=\"targetLength\",\n",
    "    color=\"treatment\",\n",
    "    labels={\"targetLength\": \"Target Length\", \"treatment\": \"Treatment\"},\n",
    "    points=\"all\"\n",
    ")\n",
    "\n",
    "fig.update_layout(\n",
    "    title_text=\"Target Length Boxplot\",\n",
    "    showlegend=False,\n",
    "    title_x=0.5,\n",
    "    width=FIGURE_WIDTH,\n",
    "    height=FIGURE_HEIGHT\n",
    ")\n",
    "\n",
    "fig.write_image(os.path.join(PLOTS_PATH_PX, f\"{fig_name}_box.pdf\"))\n",
    "fig.write_html(os.path.join(PLOTS_PATH_HTML, f\"{fig_name}_box.html\"))\n",
    "fig.show()"
   ]
  },
  {
   "cell_type": "code",
   "execution_count": null,
   "metadata": {},
   "outputs": [],
   "source": [
    "cols = [\"startLength\", \"targetLength\"]\n",
    "names = [\"Start Length\", \"Target Length\"]\n",
    "\n",
    "fig, axes = plt.subplots(nrows=2, ncols=len(cols), figsize=(15, 10), sharey=\"row\")\n",
    "\n",
    "\n",
    "for i, col in enumerate(cols):\n",
    "    ax = sns.histplot(df_analysis[df_analysis.treatment][col], stat='probability', color='blue', label='treated', element=\"step\", ax=axes[0,i],) # treatment\n",
    "    ax = sns.histplot(df_analysis[~df_analysis.treatment][col], stat='probability', color='orange', label='control', element=\"step\", ax=axes[0,i]) # control\n",
    "    ax.set(title=f'{names[i]} distribution comparison', xlabel=names[i], ylabel=f'{names[i]} probability')\n",
    "    ax.legend()\n",
    "    \n",
    "    ax = sns.boxplot(x=\"treatment\", y=col, data=df_analysis, ax=axes[1,i], palette=[\"orange\", \"blue\"], width=0.3)\n",
    "    ax.set(title=f'{names[i]} Boxplot', xlabel='Treatment', ylabel=names[i])\n",
    "\n",
    "\n",
    "plt.show()"
   ]
  },
  {
   "cell_type": "code",
   "execution_count": null,
   "metadata": {},
   "outputs": [],
   "source": [
    "\n",
    "fig, axes = plt.subplots(nrows=1, ncols=2, figsize=(15, 5))\n",
    "\n",
    "ax = sns.histplot(df_analysis[df_analysis.treatment][\"startPageRank\"], stat='density', color='blue', label='treated', element=\"step\", ax=axes[0], log_scale=True)\n",
    "ax = sns.histplot(df_analysis[~df_analysis.treatment][\"startPageRank\"], stat='density', color='orange', label='control', element=\"step\", ax=axes[0],log_scale=True)\n",
    "\n",
    "bx = sns.boxplot(x=\"treatment\", y=\"startPageRank\", data=df_analysis, ax=axes[1], palette=[\"orange\", \"blue\"], width=0.3)\n",
    "\n",
    "ax.set(title='Start PageRank distribution comparison', xlabel=\"Start PageRank\", ylabel='Start PageRank probability')\n",
    "bx.set(title='Start PageRank boxplot', xlabel=\"Treatment\", ylabel='Start PageRank Length')\n",
    "plt.legend()\n",
    "plt.show()\n",
    "\n"
   ]
  },
  {
   "cell_type": "code",
   "execution_count": null,
   "metadata": {},
   "outputs": [],
   "source": [
    "fig, axes =  plt.subplots(nrows=1, ncols=2, figsize=(15, 5))\n",
    "\n",
    "ax = sns.histplot(df_analysis[df_analysis.treatment][\"targetPageRank\"], stat='probability', color='blue', label='treated', element=\"step\", ax=axes[0],log_scale=True)\n",
    "ax = sns.histplot(df_analysis[~df_analysis.treatment][\"targetPageRank\"], stat='probability', color='orange', label='control', element=\"step\", ax=axes[0], log_scale=True)\n",
    "\n",
    "bx = sns.boxplot(x=\"treatment\", y=\"startPageRank\", data=df_analysis, ax=axes[1], palette=[\"orange\", \"blue\"], width=0.3)\n",
    "\n",
    "ax.set(title='Target PageRank distribution comparison', xlabel=\"Target PageRank\", ylabel='Target PageRank probability')\n",
    "bx.set(title='Target PageRank boxplot', xlabel=\"Treatment\", ylabel='Target PageRank Length')\n",
    "plt.legend()\n",
    "plt.show()\n"
   ]
  },
  {
   "cell_type": "code",
   "execution_count": null,
   "metadata": {},
   "outputs": [],
   "source": [
    "cols = [\"startPageRank\", \"targetPageRank\"]\n",
    "names = [\"Start PageRank\", \"Target PageRank\"]\n",
    "\n",
    "fig, axes = plt.subplots(nrows=2, ncols=2, figsize=(15, 10), sharey=\"row\")\n",
    "\n",
    "\n",
    "for i, col in enumerate(cols):\n",
    "    ax = sns.histplot(df_analysis[df_analysis.treatment][col], stat='probability', color='blue', label='treated', element=\"step\", ax=axes[0,i], log_scale=(True, False))\n",
    "    ax = sns.histplot(df_analysis[~df_analysis.treatment][col], stat='probability', color='orange', label='control', element=\"step\", ax=axes[0,i], log_scale=(True, False))\n",
    "    ax.set(title=f'{names[i]} distribution comparison', xlabel=names[i], ylabel=f'{names[i]} probability')\n",
    "    ax.legend()\n",
    "\n",
    "    ax = sns.boxplot(x=\"treatment\", y=col, data=df_analysis, ax=axes[1,i], palette=[\"orange\", \"blue\"], width=0.3)\n",
    "    ax.set(title=f'{names[i]} Boxplot', xlabel='Treatment', ylabel=names[i])\n",
    "\n",
    "plt.show()"
   ]
  },
  {
   "cell_type": "code",
   "execution_count": null,
   "metadata": {},
   "outputs": [],
   "source": [
    "fig, axes = plt.subplots(nrows=1, ncols=2, figsize=(15, 5))\n",
    "\n",
    "\n",
    "ax = sns.histplot(df_analysis[df_analysis.treatment][\"shortestPath\"], stat='probability', color='blue', label='treated', element=\"step\", ax=axes[0], binwidth=0.8)\n",
    "ax = sns.histplot(df_analysis[~df_analysis.treatment][\"shortestPath\"], stat='probability', color='orange', label='control', element=\"step\", ax=axes[0], binwidth=0.8)\n",
    "ax.set(title='Shortest Path distribution comparison', xlabel=\"Shortest Path\", ylabel='Shortest Path probability')\n",
    "\n",
    "bx = sns.boxplot(x=\"treatment\", y=\"shortestPath\", data=df_analysis, ax=axes[1], palette=[\"orange\", \"blue\"], width=0.3)\n",
    "ax.legend()"
   ]
  },
  {
   "cell_type": "code",
   "execution_count": null,
   "metadata": {},
   "outputs": [],
   "source": [
    "df_analysis.shortestPath.value_counts()"
   ]
  },
  {
   "cell_type": "code",
   "execution_count": null,
   "metadata": {},
   "outputs": [],
   "source": [
    "#ANOTHER EASIER WAY TO COMPUTE BUT THE COLORS AND BARS ARE NOT POSITIONED IN THE SAME WAY\n",
    "\n",
    "cols=[\"startLength\",\"targetLength\",\"startPageRank\",\"targetPageRank\",\"shortestPath\"]\n",
    "for i, col in enumerate(cols):\n",
    "    ax = sns.histplot(data=df_analysis, \n",
    "                      x=col, \n",
    "                      hue=\"treatment\", \n",
    "                      stat='proportion',\n",
    "                      element=\"step\",\n",
    "                      bins=10,\n",
    "                      log_scale=True if col in [\"startPageRank\", \"targetPageRank\"] else None,\n",
    "                      common_norm=False\n",
    "                      )\n",
    "    plt.show()"
   ]
  },
  {
   "cell_type": "code",
   "execution_count": null,
   "metadata": {},
   "outputs": [],
   "source": [
    "df_analysis[cols]"
   ]
  },
  {
   "cell_type": "code",
   "execution_count": null,
   "metadata": {},
   "outputs": [],
   "source": [
    "geom_mean_sLen = df_analysis.groupby(\"treatment\").startLength.agg(scipy.stats.gmean)\n",
    "geom_mean_tLen = df_analysis.groupby(\"treatment\").targetLength.agg(scipy.stats.gmean)\n",
    "geom_mean_sPG = df_analysis.groupby(\"treatment\").startPageRank.agg(scipy.stats.gmean)\n",
    "geom_mean_tPG = df_analysis.groupby(\"treatment\").targetPageRank.agg(scipy.stats.gmean)\n",
    "geom_mean_sPath = df_analysis.groupby(\"treatment\").shortestPath.agg(scipy.stats.gmean)\n",
    "print(geom_mean_sLen, geom_mean_tLen, geom_mean_sPG, geom_mean_tPG, geom_mean_sPath)\n"
   ]
  },
  {
   "cell_type": "code",
   "execution_count": null,
   "metadata": {},
   "outputs": [],
   "source": [
    "# CHATGPT:\n",
    "\n",
    "# Calculate geometric means with confidence intervals\n",
    "geom_means_ci_1 = df_analysis.groupby('treatment').agg(\n",
    "    startLength=('startLength', scipy.stats.gmean),\n",
    "    targetLength=('targetLength', scipy.stats.gmean),\n",
    ")\n",
    "\n",
    "geom_means_ci_2 = df_analysis.groupby('treatment').agg(\n",
    "    startPageRank=('startPageRank', scipy.stats.gmean),\n",
    "    targetPageRank=('targetPageRank', scipy.stats.gmean),\n",
    ")\n",
    "\n",
    "\n",
    "# Reshape the DataFrame for plotting\n",
    "geom_means_ci_1 = geom_means_ci_1.stack().reset_index().rename(columns={0: 'Geometric Mean', 'level_1': 'Variable'})\n",
    "geom_means_ci_2 = geom_means_ci_2.stack().reset_index().rename(columns={0: 'Geometric Mean', 'level_1': 'Variable'})\n",
    "\n",
    "display(geom_means_ci_1, geom_means_ci_2)\n",
    "\n",
    "# Plot using Seaborn\n",
    "sns.barplot(\n",
    "    x='Variable',\n",
    "    y='Geometric Mean',\n",
    "    hue='treatment',\n",
    "    data=geom_means_ci_1,\n",
    "    capsize=0.1,\n",
    "    estimator=scipy.stats.gmean,  # Specify the estimator\n",
    "    errorbar='ci',  # Set the method for confidence interval\n",
    "    n_boot=10000,  # Number of bootstrap samples\n",
    "    palette=[\"orange\",\"blue\"]\n",
    ")\n",
    "\n",
    "plt.title('Geometric Means with 95% Confidence Intervals')\n",
    "plt.xlabel('Variable')\n",
    "plt.ylabel('Geometric Mean')\n",
    "plt.legend(title='Treatment')\n",
    "plt.show()\n",
    "\n",
    "sns.barplot(x='Variable', y='Geometric Mean', hue='treatment', data=geom_means_ci_2, errorbar=(\"ci\", 95), capsize=0.1, palette=[\"orange\", \"blue\"])\n",
    "\n",
    "plt.title('Geometric Means with 95% Confidence Intervals')\n",
    "plt.xlabel('Variable')\n",
    "plt.ylabel('Geometric Mean')\n",
    "plt.legend(title='Treatment')\n",
    "plt.show()\n"
   ]
  },
  {
   "cell_type": "code",
   "execution_count": null,
   "metadata": {},
   "outputs": [],
   "source": [
    "import matplotlib.pyplot as plt\n",
    "import numpy as np\n",
    "import scipy.stats\n",
    "\n",
    "# Generate random data\n",
    "np.random.seed(42)\n",
    "data = np.random.lognormal(mean=0, sigma=0.1, size=100)\n",
    "\n",
    "# Calculate the sample standard deviation of the log-transformed data\n",
    "log_data = np.log(data)\n",
    "s = np.std(log_data, ddof=1)\n",
    "\n",
    "# Calculate the standard error\n",
    "se = s / np.sqrt(len(data))\n",
    "\n",
    "# Calculate the geometric mean\n",
    "geometric_mean = np.exp(np.mean(log_data))\n",
    "\n",
    "# Set the desired confidence level\n",
    "confidence_level = 0.95\n",
    "\n",
    "# Calculate the z-score corresponding to the confidence level\n",
    "z_score = scipy.stats.norm.ppf(1 - (1 - confidence_level) / 2)\n",
    "\n",
    "# Calculate the confidence interval for the geometric mean\n",
    "confidence_interval = np.exp((np.log(geometric_mean) - z_score * se, np.log(geometric_mean) + z_score * se))\n",
    "\n",
    "# Plotting\n",
    "fig, ax = plt.subplots()\n",
    "\n",
    "# Bar for the geometric mean\n",
    "ax.bar(x='Geometric Mean', height=geometric_mean, color='blue', alpha=0.7, label='Geometric Mean')\n",
    "\n",
    "# Line for the confidence interval\n",
    "ax.plot(['Geometric Mean', 'Geometric Mean'], confidence_interval, color='red', linewidth=2, label='95% Confidence Interval')\n",
    "\n",
    "# Set labels and title\n",
    "ax.set_ylabel('Value')\n",
    "ax.set_title('Geometric Mean with 95% Confidence Interval')\n",
    "ax.legend()\n",
    "\n",
    "plt.show()\n"
   ]
  },
  {
   "cell_type": "code",
   "execution_count": null,
   "metadata": {},
   "outputs": [],
   "source": [
    "eq = \"isFinishedInt ~ startLength + startPageRank + targetLength + targetPageRank\"\n",
    "\n",
    "model = smf.logit(eq, df_analysis).fit()\n",
    "\n",
    "df_analysis[\"propensityScore\"] = model.predict()\n",
    "\n",
    "model.summary()"
   ]
  },
  {
   "cell_type": "code",
   "execution_count": null,
   "metadata": {},
   "outputs": [],
   "source": [
    "def get_similarity(propensity_score1, propensity_score2):\n",
    "    '''Calculate similarity for instances with given propensity scores'''\n",
    "    return 1 - np.abs(propensity_score1 - propensity_score2)"
   ]
  },
  {
   "cell_type": "code",
   "execution_count": null,
   "metadata": {},
   "outputs": [],
   "source": [
    "df_analysis[df_analysis[\"treatment\"]].shape\n",
    "df_analysis[~df_analysis[\"treatment\"]].shape"
   ]
  },
  {
   "cell_type": "code",
   "execution_count": null,
   "metadata": {},
   "outputs": [],
   "source": [
    "treatment_df = df_analysis[df_analysis[\"treatment\"]].head(500)\n",
    "control_df = df_analysis[~df_analysis[\"treatment\"]].head(500)\n",
    "\n",
    "display(treatment_df.head())\n",
    "\n",
    "G = nx.Graph()\n",
    "for control_id, control_row in control_df.iterrows():\n",
    "    for treatment_id, treatment_row in treatment_df.iterrows():\n",
    "\n",
    "        if len(set(treatment_row['startCategoryMain']) & set(control_row['startCategoryMain'])) \\\n",
    "        and len(set(treatment_row['targetCategoryMain']) & set(control_row['targetCategoryMain'])) \\\n",
    "        and treatment_row[\"shortestPath\"] == control_row[\"shortestPath\"]:\n",
    "            weight = get_similarity(treatment_row[\"propensityScore\"], control_row[\"propensityScore\"])\n",
    "            G.add_weighted_edges_from([(treatment_id, control_id, weight)])\n",
    "\n",
    "matching = nx.max_weight_matching(G)"
   ]
  },
  {
   "cell_type": "code",
   "execution_count": null,
   "metadata": {},
   "outputs": [],
   "source": [
    "matched = [i[0] for i in list(matching)] + [i[1] for i in list(matching)]\n",
    "df_balanced = df_analysis.iloc[matched]"
   ]
  },
  {
   "cell_type": "code",
   "execution_count": null,
   "metadata": {},
   "outputs": [],
   "source": [
    "cols=[\"startLength\",\"targetLength\",\"startPageRank\",\"targetPageRank\",\"shortestPath\"]\n",
    "for i, col in enumerate(cols):\n",
    "    ax = sns.histplot(data=df_balanced, \n",
    "                      x=col, \n",
    "                      hue=\"treatment\", \n",
    "                      stat='proportion',\n",
    "                      element=\"step\",\n",
    "                      bins=10,\n",
    "                      log_scale=True if col in [\"startPageRank\", \"targetPageRank\"] else None,\n",
    "                      common_norm=False\n",
    "                      )\n",
    "    plt.show()"
   ]
  },
  {
   "cell_type": "code",
   "execution_count": null,
   "metadata": {},
   "outputs": [],
   "source": [
    "len(df_balanced.treatment)"
   ]
  },
  {
   "cell_type": "code",
   "execution_count": null,
   "metadata": {},
   "outputs": [],
   "source": [
    "scipy.stats.ttest_ind(df_balanced[df_balanced.treatment][\"isFinishedInt\"], df_balanced[~df_balanced.treatment][\"isFinishedInt\"], equal_var=False)\n"
   ]
  }
 ],
 "metadata": {
  "kernelspec": {
   "display_name": "ada",
   "language": "python",
   "name": "python3"
  },
  "language_info": {
   "codemirror_mode": {
    "name": "ipython",
    "version": 3
   },
   "file_extension": ".py",
   "mimetype": "text/x-python",
   "name": "python",
   "nbconvert_exporter": "python",
   "pygments_lexer": "ipython3",
   "version": "3.11.4"
  }
 },
 "nbformat": 4,
 "nbformat_minor": 2
}
