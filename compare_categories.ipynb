{
 "cells": [
  {
   "cell_type": "code",
   "execution_count": null,
   "metadata": {},
   "outputs": [],
   "source": [
    "import pandas as pd\n",
    "import os"
   ]
  },
  {
   "cell_type": "code",
   "execution_count": null,
   "metadata": {},
   "outputs": [],
   "source": [
    "continents = pd.read_csv(\n",
    "    os.path.join(\"Data\", \"continents.csv\"),\n",
    ")\n",
    "continents[\"continent\"] = continents[\"continent\"].str.replace(\"_\", \" \")\n",
    "continents[\"continent\"] = continents[\"continent\"].replace({\"Oceania\": \"Australia\"})\n",
    "\n",
    "display(continents)"
   ]
  },
  {
   "cell_type": "code",
   "execution_count": null,
   "metadata": {},
   "outputs": [],
   "source": [
    "categories = pd.read_csv(\n",
    "    os.path.join(\"Data\", \"wikispeedia_paths-and-graph\", \"categories.tsv\"),\n",
    "    delimiter=\"\\t\",\n",
    "    header=None,\n",
    "    names=[\"article\", \"category\"],\n",
    "    skip_blank_lines=True,\n",
    "    comment=\"#\",\n",
    "    encoding=\"UTF-8\"\n",
    ")\n",
    "\n",
    "categories.head()"
   ]
  },
  {
   "cell_type": "code",
   "execution_count": null,
   "metadata": {},
   "outputs": [],
   "source": [
    "articles = pd.merge(categories, continents, on=\"article\", how=\"inner\")\n",
    "articles = articles.fillna(\"\")\n",
    "articles.head()"
   ]
  },
  {
   "cell_type": "code",
   "execution_count": null,
   "metadata": {},
   "outputs": [],
   "source": [
    "articles[articles[\"category\"].str.lower().str.contains(\"north_america\") & (~articles[\"continent\"].str.lower().str.contains(\"north america\"))].head(100)"
   ]
  },
  {
   "cell_type": "code",
   "execution_count": null,
   "metadata": {},
   "outputs": [],
   "source": [
    "category_counts = categories.category.value_counts().reset_index().rename(columns={\"count\": \"total\"})"
   ]
  },
  {
   "cell_type": "code",
   "execution_count": null,
   "metadata": {},
   "outputs": [],
   "source": [
    "continents_categories = articles.groupby(\"continent\").value_counts([\"category\"]).reset_index()\n",
    "continents_categories = pd.merge(continents_categories, category_counts, on=\"category\", how=\"left\")\n",
    "\n",
    "continents_categories[\"percentage\"] = continents_categories[\"count\"] / continents_categories[\"total\"]\n",
    "\n",
    "display(continents_categories.sort_values(\"percentage\", ascending=False))"
   ]
  },
  {
   "cell_type": "code",
   "execution_count": null,
   "metadata": {},
   "outputs": [],
   "source": [
    "categories_continents = articles.groupby(\"category\").value_counts([\"continent\"]).groupby(level=0).head(3).reset_index()\n",
    "categories_continents = pd.merge(categories_continents, category_counts, on=\"category\", how=\"left\")\n",
    "\n",
    "categories_continents[\"percentage\"] = categories_continents[\"count\"] / categories_continents[\"total\"]\n",
    "\n",
    "categories_continents.sort_values([\"category\", \"percentage\"], ascending=False)"
   ]
  }
 ],
 "metadata": {
  "kernelspec": {
   "display_name": "ada",
   "language": "python",
   "name": "python3"
  },
  "language_info": {
   "codemirror_mode": {
    "name": "ipython",
    "version": 3
   },
   "file_extension": ".py",
   "mimetype": "text/x-python",
   "name": "python",
   "nbconvert_exporter": "python",
   "pygments_lexer": "ipython3",
   "version": "3.9.18"
  }
 },
 "nbformat": 4,
 "nbformat_minor": 2
}
