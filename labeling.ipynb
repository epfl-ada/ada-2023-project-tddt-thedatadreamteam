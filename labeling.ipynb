{
 "cells": [
  {
   "cell_type": "code",
   "execution_count": null,
   "metadata": {},
   "outputs": [],
   "source": [
    "import pandas as pd\n",
    "import os\n",
    "import numpy as np\n",
    "import matplotlib.pyplot as plt"
   ]
  },
  {
   "cell_type": "code",
   "execution_count": null,
   "metadata": {},
   "outputs": [],
   "source": [
    "categories = pd.read_csv(\n",
    "    os.path.join(\"Data\", \"wikispeedia_paths-and-graph\", \"categories.tsv\"),\n",
    "    delimiter=\"\\t\",\n",
    "    header=None,\n",
    "    names=[\"article\", \"category\"],\n",
    "    skip_blank_lines=True,\n",
    "    comment=\"#\",\n",
    "    encoding=\"UTF-8\"\n",
    ")\n",
    "\n",
    "categories.head()"
   ]
  },
  {
   "cell_type": "code",
   "execution_count": null,
   "metadata": {},
   "outputs": [],
   "source": [
    "articles = pd.read_csv(\n",
    "    os.path.join(\"Data\", \"wikispeedia_paths-and-graph\", \"articles.tsv\"),\n",
    "    delimiter=\"\\t\",\n",
    "    header=None,\n",
    "    names=[\"name\"],\n",
    "    skip_blank_lines=True,\n",
    "    comment=\"#\",\n",
    "    encoding=\"UTF-8\"\n",
    ")\n",
    "\n",
    "articles.head()"
   ]
  },
  {
   "cell_type": "code",
   "execution_count": null,
   "metadata": {},
   "outputs": [],
   "source": [
    "links = pd.read_csv(\n",
    "    os.path.join(\"Data\", \"wikispeedia_paths-and-graph\", \"links.tsv\"),\n",
    "    delimiter=\"\\t\",\n",
    "    header=None,\n",
    "    names=[\"from\", \"to\"],\n",
    "    skip_blank_lines=True,\n",
    "    comment=\"#\",\n",
    "    encoding=\"UTF-8\"\n",
    ")\n",
    "\n",
    "links = links[links[\"from\"] != links[\"to\"]]\n",
    "display(links.head())\n",
    "\n",
    "name_to_index = dict(zip(articles[\"name\"], articles.index))\n",
    "links[\"from_index\"] = links[\"from\"].replace(name_to_index)\n",
    "links[\"to_index\"] = links[\"to\"].replace(name_to_index)\n",
    "\n",
    "display(links.head())\n",
    "\n",
    "adjacency_list = links.groupby(\"to_index\")[\"from_index\"].agg(list).sort_index()\n",
    "display(adjacency_list.head())\n"
   ]
  },
  {
   "cell_type": "code",
   "execution_count": null,
   "metadata": {},
   "outputs": [],
   "source": [
    "matrix = []\n",
    "\n",
    "with open(os.path.join(\"Data\", \"wikispeedia_paths-and-graph\", \"shortest-path-distance-matrix.txt\")) as file:\n",
    "    for line in file:\n",
    "        line = line.strip()\n",
    "        if line == \"\" or line.startswith(\"#\"):\n",
    "            continue\n",
    "    \n",
    "        matrix.append(list(map(lambda x: -1 if x == \"_\" else int(x), list(line))))\n",
    "        \n",
    "matrix = np.array(matrix)\n",
    "\n",
    "print(matrix[:10, :10])\n",
    "    "
   ]
  },
  {
   "cell_type": "code",
   "execution_count": null,
   "metadata": {},
   "outputs": [],
   "source": [
    "names = [\"Europe\", \"North America\", \"South America\", \"Africa\", \"Asia\", \"Australia\", \"Antarctica\", \"Middle East\"]\n",
    "ids = [articles.index[articles.name == name.replace(\" \", \"_\")].tolist()[0] for name in names]\n",
    "\n",
    "print(ids)"
   ]
  },
  {
   "cell_type": "code",
   "execution_count": null,
   "metadata": {},
   "outputs": [],
   "source": [
    "continet_rows = matrix[ids]\n",
    "\n",
    "article_distances = pd.DataFrame(continet_rows.T, columns=names, index=articles.name)\n",
    "\n",
    "non_reachable_articles = (article_distances == -1).any(axis=\"columns\")\n",
    "print(\"Number of non-reachable articles:\", non_reachable_articles.sum())\n",
    "print(\"Number of reachable articles:\", len(non_reachable_articles) - non_reachable_articles.sum())\n",
    "\n",
    "reachable_articles = article_distances[~non_reachable_articles]\n",
    "reachable_articles.head()\n"
   ]
  },
  {
   "cell_type": "code",
   "execution_count": null,
   "metadata": {},
   "outputs": [],
   "source": [
    "possible_best = sum(reachable_articles[continent] == reachable_articles.min(axis=\"columns\") for continent in names)\n",
    "possible_best.value_counts()"
   ]
  },
  {
   "cell_type": "code",
   "execution_count": null,
   "metadata": {},
   "outputs": [],
   "source": [
    "for name in names:\n",
    "    print(reachable_articles[name].value_counts())"
   ]
  },
  {
   "cell_type": "code",
   "execution_count": null,
   "metadata": {},
   "outputs": [],
   "source": [
    "reachable_articles[possible_best == 1].idxmin(axis=\"columns\").value_counts()"
   ]
  },
  {
   "cell_type": "code",
   "execution_count": null,
   "metadata": {},
   "outputs": [],
   "source": [
    "def softmax(x):\n",
    "    e_x = np.exp(x - np.max(x, axis=-1, keepdims=True))\n",
    "    return e_x / np.sum(e_x, axis=-1, keepdims=True)"
   ]
  },
  {
   "cell_type": "code",
   "execution_count": null,
   "metadata": {},
   "outputs": [],
   "source": [
    "article_weights = np.zeros((len(articles), len(names)))\n",
    "\n",
    "for index, id_ in enumerate(ids):\n",
    "    article_weights[id_, index] = 1\n",
    "\n",
    "for _ in range(100):\n",
    "    new_weights = article_weights.copy()\n",
    "    for idx in np.random.permutation(adjacency_list.index):\n",
    "        if idx in ids:\n",
    "            continue\n",
    "        \n",
    "        weight = article_weights[adjacency_list[idx]].sum(axis=0)\n",
    "        if weight.sum() > 0:\n",
    "            new_weights[idx] = softmax(weight)\n",
    "    article_weights = new_weights.copy()"
   ]
  },
  {
   "cell_type": "code",
   "execution_count": null,
   "metadata": {},
   "outputs": [],
   "source": [
    "from sklearn.decomposition import PCA\n",
    "\n",
    "pca = PCA(n_components=2)\n",
    "x = pca.fit_transform(article_weights)\n",
    "\n",
    "plt.scatter(x[:, 0], x[:, 1], alpha=0.5)\n",
    "plt.show()"
   ]
  },
  {
   "cell_type": "code",
   "execution_count": null,
   "metadata": {},
   "outputs": [],
   "source": [
    "for i, name in enumerate(names):\n",
    "    plt.hist(article_weights[:, i], label=name)\n",
    "    plt.legend()\n",
    "    plt.show()"
   ]
  }
 ],
 "metadata": {
  "kernelspec": {
   "display_name": "ada",
   "language": "python",
   "name": "python3"
  },
  "language_info": {
   "codemirror_mode": {
    "name": "ipython",
    "version": 3
   },
   "file_extension": ".py",
   "mimetype": "text/x-python",
   "name": "python",
   "nbconvert_exporter": "python",
   "pygments_lexer": "ipython3",
   "version": "3.9.18"
  }
 },
 "nbformat": 4,
 "nbformat_minor": 2
}
