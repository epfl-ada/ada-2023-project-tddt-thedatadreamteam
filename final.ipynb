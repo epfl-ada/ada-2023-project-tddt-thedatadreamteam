{
 "cells": [
  {
   "cell_type": "markdown",
   "metadata": {},
   "source": [
    "# Europe in Wikispeedia: Unmasking Geographic Bias\n",
    "\n",
    "*TheDataDreamTeam*\n",
    "\n",
    "This project focuses on investigating geographical biases in the Wikispeedia game and player behavior, using the 2007 Wikipedia Selection for schools dataset as the data source. Our goal is to explore if players fare better when navigating through articles related to Europe, highlighting potential geographic bias."
   ]
  },
  {
   "cell_type": "markdown",
   "metadata": {},
   "source": [
    "# Imports"
   ]
  },
  {
   "cell_type": "code",
   "execution_count": 28,
   "metadata": {},
   "outputs": [],
   "source": [
    "import re\n",
    "import os\n",
    "import copy\n",
    "import pickle\n",
    "\n",
    "import seaborn as sns\n",
    "import plotly.subplots\n",
    "import plotly.express as px\n",
    "import matplotlib.pyplot as plt\n",
    "import plotly.graph_objects as go\n",
    "import plotly.figure_factory as ff\n",
    "\n",
    "import scipy\n",
    "import numpy as np\n",
    "import pandas as pd\n",
    "import statsmodels.formula.api as smf\n",
    "\n",
    "import networkx as nx"
   ]
  },
  {
   "cell_type": "markdown",
   "metadata": {},
   "source": [
    "# Setting "
   ]
  },
  {
   "cell_type": "code",
   "execution_count": 29,
   "metadata": {},
   "outputs": [],
   "source": [
    "import warnings\n",
    "warnings.simplefilter(action=\"ignore\", category=FutureWarning)\n",
    "\n",
    "REMOVE_INTERNATIONAL = True\n",
    "INTERNATIONAL_LABEL = \"International\"\n",
    "EUROPE_LABEL = \"Europe\"\n",
    "\n",
    "\n",
    "PLOTS_PATH = \"plots\"\n",
    "PLOTS_PATH_PLT = os.path.join(PLOTS_PATH, \"plt\")\n",
    "PLOTS_PATH_PX = os.path.join(PLOTS_PATH, \"px\")\n",
    "PLOTS_PATH_HTML = os.path.join(PLOTS_PATH, \"html\")\n",
    "\n",
    "FIGURE_WIDTH = 800\n",
    "FIGURE_HEIGHT = 600\n",
    "\n",
    "for path in [PLOTS_PATH_PLT, PLOTS_PATH_PX, PLOTS_PATH_HTML]: \n",
    "    os.makedirs(path, exist_ok=True)"
   ]
  },
  {
   "cell_type": "markdown",
   "metadata": {},
   "source": [
    "# Data loading"
   ]
  },
  {
   "cell_type": "markdown",
   "metadata": {},
   "source": [
    "## All articles\n",
    "\n",
    "To begin our analysis, we load the dataset containing information about all articles from the Wikispeedia game. The dataset is stored in the file `articles.tsv`.\n",
    "\n",
    "This dataset provides valuable information about all articles in the Wikispeedia game, setting the foundation for further exploration and analysis."
   ]
  },
  {
   "cell_type": "code",
   "execution_count": 30,
   "metadata": {},
   "outputs": [
    {
     "data": {
      "text/html": [
       "<div>\n",
       "<style scoped>\n",
       "    .dataframe tbody tr th:only-of-type {\n",
       "        vertical-align: middle;\n",
       "    }\n",
       "\n",
       "    .dataframe tbody tr th {\n",
       "        vertical-align: top;\n",
       "    }\n",
       "\n",
       "    .dataframe thead th {\n",
       "        text-align: right;\n",
       "    }\n",
       "</style>\n",
       "<table border=\"1\" class=\"dataframe\">\n",
       "  <thead>\n",
       "    <tr style=\"text-align: right;\">\n",
       "      <th></th>\n",
       "      <th>name</th>\n",
       "    </tr>\n",
       "  </thead>\n",
       "  <tbody>\n",
       "    <tr>\n",
       "      <th>0</th>\n",
       "      <td>%C3%81ed%C3%A1n_mac_Gabr%C3%A1in</td>\n",
       "    </tr>\n",
       "    <tr>\n",
       "      <th>1</th>\n",
       "      <td>%C3%85land</td>\n",
       "    </tr>\n",
       "    <tr>\n",
       "      <th>2</th>\n",
       "      <td>%C3%89douard_Manet</td>\n",
       "    </tr>\n",
       "    <tr>\n",
       "      <th>3</th>\n",
       "      <td>%C3%89ire</td>\n",
       "    </tr>\n",
       "    <tr>\n",
       "      <th>4</th>\n",
       "      <td>%C3%93engus_I_of_the_Picts</td>\n",
       "    </tr>\n",
       "  </tbody>\n",
       "</table>\n",
       "</div>"
      ],
      "text/plain": [
       "                               name\n",
       "0  %C3%81ed%C3%A1n_mac_Gabr%C3%A1in\n",
       "1                        %C3%85land\n",
       "2                %C3%89douard_Manet\n",
       "3                         %C3%89ire\n",
       "4        %C3%93engus_I_of_the_Picts"
      ]
     },
     "metadata": {},
     "output_type": "display_data"
    },
    {
     "name": "stdout",
     "output_type": "stream",
     "text": [
      "Size: (4604, 1)\n"
     ]
    }
   ],
   "source": [
    "df_articles_all = pd.read_csv(\n",
    "    os.path.join(\"Data\", \"wikispeedia_paths-and-graph\", \"articles.tsv\"),\n",
    "    delimiter=\"\\t\",\n",
    "    header=None,\n",
    "    names=[\"name\"],\n",
    "    skip_blank_lines=True,\n",
    "    comment=\"#\"\n",
    ")\n",
    "\n",
    "display(df_articles_all.head())\n",
    "print(\"Size:\", df_articles_all.shape)"
   ]
  },
  {
   "cell_type": "markdown",
   "metadata": {},
   "source": [
    "## Article continent labels\n",
    "\n",
    "Next, we label the articles with their respective continents using information stored in the `continents.csv` file."
   ]
  },
  {
   "cell_type": "code",
   "execution_count": 31,
   "metadata": {},
   "outputs": [
    {
     "name": "stdout",
     "output_type": "stream",
     "text": [
      "Removing articles labeled as International, Removed articles: 1870\n"
     ]
    },
    {
     "data": {
      "text/html": [
       "<div>\n",
       "<style scoped>\n",
       "    .dataframe tbody tr th:only-of-type {\n",
       "        vertical-align: middle;\n",
       "    }\n",
       "\n",
       "    .dataframe tbody tr th {\n",
       "        vertical-align: top;\n",
       "    }\n",
       "\n",
       "    .dataframe thead th {\n",
       "        text-align: right;\n",
       "    }\n",
       "</style>\n",
       "<table border=\"1\" class=\"dataframe\">\n",
       "  <thead>\n",
       "    <tr style=\"text-align: right;\">\n",
       "      <th></th>\n",
       "      <th>article</th>\n",
       "      <th>continent</th>\n",
       "    </tr>\n",
       "  </thead>\n",
       "  <tbody>\n",
       "    <tr>\n",
       "      <th>0</th>\n",
       "      <td>%C3%81ed%C3%A1n_mac_Gabr%C3%A1in</td>\n",
       "      <td>Europe</td>\n",
       "    </tr>\n",
       "    <tr>\n",
       "      <th>1</th>\n",
       "      <td>%C3%85land</td>\n",
       "      <td>Europe</td>\n",
       "    </tr>\n",
       "    <tr>\n",
       "      <th>2</th>\n",
       "      <td>%C3%89douard_Manet</td>\n",
       "      <td>Europe</td>\n",
       "    </tr>\n",
       "    <tr>\n",
       "      <th>3</th>\n",
       "      <td>%C3%89ire</td>\n",
       "      <td>Europe</td>\n",
       "    </tr>\n",
       "    <tr>\n",
       "      <th>4</th>\n",
       "      <td>%C3%93engus_I_of_the_Picts</td>\n",
       "      <td>Europe</td>\n",
       "    </tr>\n",
       "  </tbody>\n",
       "</table>\n",
       "</div>"
      ],
      "text/plain": [
       "                            article continent\n",
       "0  %C3%81ed%C3%A1n_mac_Gabr%C3%A1in    Europe\n",
       "1                        %C3%85land    Europe\n",
       "2                %C3%89douard_Manet    Europe\n",
       "3                         %C3%89ire    Europe\n",
       "4        %C3%93engus_I_of_the_Picts    Europe"
      ]
     },
     "metadata": {},
     "output_type": "display_data"
    },
    {
     "name": "stdout",
     "output_type": "stream",
     "text": [
      "Size: (2734, 2)\n"
     ]
    }
   ],
   "source": [
    "df_continents = pd.read_csv(os.path.join(\"Data\", \"continents.csv\"))\n",
    "\n",
    "if REMOVE_INTERNATIONAL:\n",
    "    labeled_articles_all_count = len(df_continents)\n",
    "    df_continents = df_continents[df_continents.continent != INTERNATIONAL_LABEL]\n",
    "    labeled_articles_count = len(df_continents)\n",
    "    print(f\"Removing articles labeled as {INTERNATIONAL_LABEL}, Removed articles: {labeled_articles_all_count - labeled_articles_count}\")\n",
    "\n",
    "display(df_continents.head())\n",
    "print(\"Size:\", df_continents.shape)"
   ]
  },
  {
   "cell_type": "markdown",
   "metadata": {},
   "source": [
    "This dataset, now labeled with continents, is essential for our geographical analysis. The removal of articles labeled as \"International\" is done as a data preprocessing step. This decision is made to focus the analysis on articles that are distinctly associated with specific continents, making it easier to investigate geographical biases in the Wikispeedia game.\n",
    "\n",
    "The continent labels enable us to explore geographical biases in the Wikispeedia game."
   ]
  },
  {
   "cell_type": "markdown",
   "metadata": {},
   "source": [
    "## Article categories\n",
    "\n",
    "We start by loading information about article categories from the dataset."
   ]
  },
  {
   "cell_type": "code",
   "execution_count": 32,
   "metadata": {},
   "outputs": [
    {
     "data": {
      "text/html": [
       "<div>\n",
       "<style scoped>\n",
       "    .dataframe tbody tr th:only-of-type {\n",
       "        vertical-align: middle;\n",
       "    }\n",
       "\n",
       "    .dataframe tbody tr th {\n",
       "        vertical-align: top;\n",
       "    }\n",
       "\n",
       "    .dataframe thead th {\n",
       "        text-align: right;\n",
       "    }\n",
       "</style>\n",
       "<table border=\"1\" class=\"dataframe\">\n",
       "  <thead>\n",
       "    <tr style=\"text-align: right;\">\n",
       "      <th></th>\n",
       "      <th>article</th>\n",
       "      <th>category</th>\n",
       "      <th>categoryMain</th>\n",
       "    </tr>\n",
       "  </thead>\n",
       "  <tbody>\n",
       "    <tr>\n",
       "      <th>0</th>\n",
       "      <td>%C3%81ed%C3%A1n_mac_Gabr%C3%A1in</td>\n",
       "      <td>subject.History.British_History.British_Histor...</td>\n",
       "      <td>History</td>\n",
       "    </tr>\n",
       "    <tr>\n",
       "      <th>1</th>\n",
       "      <td>%C3%81ed%C3%A1n_mac_Gabr%C3%A1in</td>\n",
       "      <td>subject.People.Historical_figures</td>\n",
       "      <td>People</td>\n",
       "    </tr>\n",
       "    <tr>\n",
       "      <th>2</th>\n",
       "      <td>%C3%85land</td>\n",
       "      <td>subject.Countries</td>\n",
       "      <td>Countries</td>\n",
       "    </tr>\n",
       "    <tr>\n",
       "      <th>3</th>\n",
       "      <td>%C3%85land</td>\n",
       "      <td>subject.Geography.European_Geography.European_...</td>\n",
       "      <td>Geography</td>\n",
       "    </tr>\n",
       "    <tr>\n",
       "      <th>4</th>\n",
       "      <td>%C3%89douard_Manet</td>\n",
       "      <td>subject.People.Artists</td>\n",
       "      <td>People</td>\n",
       "    </tr>\n",
       "  </tbody>\n",
       "</table>\n",
       "</div>"
      ],
      "text/plain": [
       "                            article  \\\n",
       "0  %C3%81ed%C3%A1n_mac_Gabr%C3%A1in   \n",
       "1  %C3%81ed%C3%A1n_mac_Gabr%C3%A1in   \n",
       "2                        %C3%85land   \n",
       "3                        %C3%85land   \n",
       "4                %C3%89douard_Manet   \n",
       "\n",
       "                                            category categoryMain  \n",
       "0  subject.History.British_History.British_Histor...      History  \n",
       "1                  subject.People.Historical_figures       People  \n",
       "2                                  subject.Countries    Countries  \n",
       "3  subject.Geography.European_Geography.European_...    Geography  \n",
       "4                             subject.People.Artists       People  "
      ]
     },
     "metadata": {},
     "output_type": "display_data"
    },
    {
     "name": "stdout",
     "output_type": "stream",
     "text": [
      "Size: (5204, 3)\n"
     ]
    }
   ],
   "source": [
    "df_categories = pd.read_csv(\n",
    "    os.path.join(\"Data\", \"wikispeedia_paths-and-graph\", \"categories.tsv\"),\n",
    "    delimiter=\"\\t\",\n",
    "    header=None,\n",
    "    names=[\"article\", \"category\"],\n",
    "    skip_blank_lines=True,\n",
    "    comment=\"#\"\n",
    ")\n",
    "\n",
    "main_categories = []\n",
    "for category in df_categories[\"category\"].values:\n",
    "    main_categories.append(category.split(\".\")[1])\n",
    "\n",
    "df_categories[\"categoryMain\"] = main_categories\n",
    "\n",
    "display(df_categories.head())\n",
    "print(\"Size:\", df_categories.shape)"
   ]
  },
  {
   "cell_type": "markdown",
   "metadata": {},
   "source": [
    "Now, let's merge the continent labels with the article categories."
   ]
  },
  {
   "cell_type": "code",
   "execution_count": 33,
   "metadata": {},
   "outputs": [
    {
     "data": {
      "text/html": [
       "<div>\n",
       "<style scoped>\n",
       "    .dataframe tbody tr th:only-of-type {\n",
       "        vertical-align: middle;\n",
       "    }\n",
       "\n",
       "    .dataframe tbody tr th {\n",
       "        vertical-align: top;\n",
       "    }\n",
       "\n",
       "    .dataframe thead th {\n",
       "        text-align: right;\n",
       "    }\n",
       "</style>\n",
       "<table border=\"1\" class=\"dataframe\">\n",
       "  <thead>\n",
       "    <tr style=\"text-align: right;\">\n",
       "      <th></th>\n",
       "      <th>article</th>\n",
       "      <th>continent</th>\n",
       "      <th>category</th>\n",
       "      <th>categoryMain</th>\n",
       "    </tr>\n",
       "  </thead>\n",
       "  <tbody>\n",
       "    <tr>\n",
       "      <th>0</th>\n",
       "      <td>%C3%81ed%C3%A1n_mac_Gabr%C3%A1in</td>\n",
       "      <td>Europe</td>\n",
       "      <td>subject.History.British_History.British_Histor...</td>\n",
       "      <td>History</td>\n",
       "    </tr>\n",
       "    <tr>\n",
       "      <th>1</th>\n",
       "      <td>%C3%81ed%C3%A1n_mac_Gabr%C3%A1in</td>\n",
       "      <td>Europe</td>\n",
       "      <td>subject.People.Historical_figures</td>\n",
       "      <td>People</td>\n",
       "    </tr>\n",
       "    <tr>\n",
       "      <th>2</th>\n",
       "      <td>%C3%85land</td>\n",
       "      <td>Europe</td>\n",
       "      <td>subject.Countries</td>\n",
       "      <td>Countries</td>\n",
       "    </tr>\n",
       "    <tr>\n",
       "      <th>3</th>\n",
       "      <td>%C3%85land</td>\n",
       "      <td>Europe</td>\n",
       "      <td>subject.Geography.European_Geography.European_...</td>\n",
       "      <td>Geography</td>\n",
       "    </tr>\n",
       "    <tr>\n",
       "      <th>4</th>\n",
       "      <td>%C3%89douard_Manet</td>\n",
       "      <td>Europe</td>\n",
       "      <td>subject.People.Artists</td>\n",
       "      <td>People</td>\n",
       "    </tr>\n",
       "  </tbody>\n",
       "</table>\n",
       "</div>"
      ],
      "text/plain": [
       "                            article continent  \\\n",
       "0  %C3%81ed%C3%A1n_mac_Gabr%C3%A1in    Europe   \n",
       "1  %C3%81ed%C3%A1n_mac_Gabr%C3%A1in    Europe   \n",
       "2                        %C3%85land    Europe   \n",
       "3                        %C3%85land    Europe   \n",
       "4                %C3%89douard_Manet    Europe   \n",
       "\n",
       "                                            category categoryMain  \n",
       "0  subject.History.British_History.British_Histor...      History  \n",
       "1                  subject.People.Historical_figures       People  \n",
       "2                                  subject.Countries    Countries  \n",
       "3  subject.Geography.European_Geography.European_...    Geography  \n",
       "4                             subject.People.Artists       People  "
      ]
     },
     "metadata": {},
     "output_type": "display_data"
    },
    {
     "name": "stdout",
     "output_type": "stream",
     "text": [
      "Size: (3177, 4)\n"
     ]
    }
   ],
   "source": [
    "df_continents_categories = pd.merge(df_continents, df_categories, on=\"article\", how=\"left\")\n",
    "\n",
    "display(df_continents_categories.head())\n",
    "print(\"Size:\", df_continents_categories.shape)"
   ]
  },
  {
   "cell_type": "markdown",
   "metadata": {},
   "source": [
    "Finally, let's create a dataset with unique articles, their associated continents, and lists of main and subcategories."
   ]
  },
  {
   "cell_type": "code",
   "execution_count": 34,
   "metadata": {},
   "outputs": [
    {
     "data": {
      "text/html": [
       "<div>\n",
       "<style scoped>\n",
       "    .dataframe tbody tr th:only-of-type {\n",
       "        vertical-align: middle;\n",
       "    }\n",
       "\n",
       "    .dataframe tbody tr th {\n",
       "        vertical-align: top;\n",
       "    }\n",
       "\n",
       "    .dataframe thead th {\n",
       "        text-align: right;\n",
       "    }\n",
       "</style>\n",
       "<table border=\"1\" class=\"dataframe\">\n",
       "  <thead>\n",
       "    <tr style=\"text-align: right;\">\n",
       "      <th></th>\n",
       "      <th>article</th>\n",
       "      <th>continent</th>\n",
       "      <th>categoryMain</th>\n",
       "      <th>category</th>\n",
       "    </tr>\n",
       "  </thead>\n",
       "  <tbody>\n",
       "    <tr>\n",
       "      <th>0</th>\n",
       "      <td>%C3%81ed%C3%A1n_mac_Gabr%C3%A1in</td>\n",
       "      <td>Europe</td>\n",
       "      <td>[History, People]</td>\n",
       "      <td>[subject.History.British_History.British_Histo...</td>\n",
       "    </tr>\n",
       "    <tr>\n",
       "      <th>1</th>\n",
       "      <td>%C3%85land</td>\n",
       "      <td>Europe</td>\n",
       "      <td>[Countries, Geography]</td>\n",
       "      <td>[subject.Countries, subject.Geography.European...</td>\n",
       "    </tr>\n",
       "    <tr>\n",
       "      <th>2</th>\n",
       "      <td>%C3%89douard_Manet</td>\n",
       "      <td>Europe</td>\n",
       "      <td>[People]</td>\n",
       "      <td>[subject.People.Artists]</td>\n",
       "    </tr>\n",
       "    <tr>\n",
       "      <th>3</th>\n",
       "      <td>%C3%89ire</td>\n",
       "      <td>Europe</td>\n",
       "      <td>[Countries, Geography]</td>\n",
       "      <td>[subject.Countries, subject.Geography.European...</td>\n",
       "    </tr>\n",
       "    <tr>\n",
       "      <th>4</th>\n",
       "      <td>%C3%93engus_I_of_the_Picts</td>\n",
       "      <td>Europe</td>\n",
       "      <td>[History, People]</td>\n",
       "      <td>[subject.History.British_History.British_Histo...</td>\n",
       "    </tr>\n",
       "  </tbody>\n",
       "</table>\n",
       "</div>"
      ],
      "text/plain": [
       "                            article continent            categoryMain  \\\n",
       "0  %C3%81ed%C3%A1n_mac_Gabr%C3%A1in    Europe       [History, People]   \n",
       "1                        %C3%85land    Europe  [Countries, Geography]   \n",
       "2                %C3%89douard_Manet    Europe                [People]   \n",
       "3                         %C3%89ire    Europe  [Countries, Geography]   \n",
       "4        %C3%93engus_I_of_the_Picts    Europe       [History, People]   \n",
       "\n",
       "                                            category  \n",
       "0  [subject.History.British_History.British_Histo...  \n",
       "1  [subject.Countries, subject.Geography.European...  \n",
       "2                           [subject.People.Artists]  \n",
       "3  [subject.Countries, subject.Geography.European...  \n",
       "4  [subject.History.British_History.British_Histo...  "
      ]
     },
     "metadata": {},
     "output_type": "display_data"
    },
    {
     "name": "stdout",
     "output_type": "stream",
     "text": [
      "Size: (2734, 4)\n"
     ]
    }
   ],
   "source": [
    "df_articles = df_continents_categories[[\"article\", \"continent\"]].drop_duplicates()\n",
    "df_articles = pd.merge(df_articles, df_continents_categories.groupby(\"article\")[\"categoryMain\"].apply(list).reset_index(), on=\"article\")\n",
    "df_articles = pd.merge(df_articles, df_continents_categories.groupby(\"article\")[\"category\"].apply(list).reset_index(), on=\"article\")\n",
    "\n",
    "display(df_articles.head())\n",
    "print(\"Size:\", df_articles.shape)"
   ]
  },
  {
   "cell_type": "markdown",
   "metadata": {},
   "source": [
    "## Article word count\n",
    "\n",
    "Now, we explore the word count of each article in our dataset. We retrieve this information from the plaintext versions of the articles.\n",
    "\n",
    "The resulting dataset includes a new column, `length` representing the word count of each article"
   ]
  },
  {
   "cell_type": "code",
   "execution_count": 35,
   "metadata": {},
   "outputs": [
    {
     "data": {
      "text/html": [
       "<div>\n",
       "<style scoped>\n",
       "    .dataframe tbody tr th:only-of-type {\n",
       "        vertical-align: middle;\n",
       "    }\n",
       "\n",
       "    .dataframe tbody tr th {\n",
       "        vertical-align: top;\n",
       "    }\n",
       "\n",
       "    .dataframe thead th {\n",
       "        text-align: right;\n",
       "    }\n",
       "</style>\n",
       "<table border=\"1\" class=\"dataframe\">\n",
       "  <thead>\n",
       "    <tr style=\"text-align: right;\">\n",
       "      <th></th>\n",
       "      <th>article</th>\n",
       "      <th>continent</th>\n",
       "      <th>categoryMain</th>\n",
       "      <th>category</th>\n",
       "      <th>length</th>\n",
       "    </tr>\n",
       "  </thead>\n",
       "  <tbody>\n",
       "    <tr>\n",
       "      <th>0</th>\n",
       "      <td>%C3%81ed%C3%A1n_mac_Gabr%C3%A1in</td>\n",
       "      <td>Europe</td>\n",
       "      <td>[History, People]</td>\n",
       "      <td>[subject.History.British_History.British_Histo...</td>\n",
       "      <td>1836</td>\n",
       "    </tr>\n",
       "    <tr>\n",
       "      <th>1</th>\n",
       "      <td>%C3%85land</td>\n",
       "      <td>Europe</td>\n",
       "      <td>[Countries, Geography]</td>\n",
       "      <td>[subject.Countries, subject.Geography.European...</td>\n",
       "      <td>2412</td>\n",
       "    </tr>\n",
       "    <tr>\n",
       "      <th>2</th>\n",
       "      <td>%C3%89douard_Manet</td>\n",
       "      <td>Europe</td>\n",
       "      <td>[People]</td>\n",
       "      <td>[subject.People.Artists]</td>\n",
       "      <td>2887</td>\n",
       "    </tr>\n",
       "    <tr>\n",
       "      <th>3</th>\n",
       "      <td>%C3%89ire</td>\n",
       "      <td>Europe</td>\n",
       "      <td>[Countries, Geography]</td>\n",
       "      <td>[subject.Countries, subject.Geography.European...</td>\n",
       "      <td>2026</td>\n",
       "    </tr>\n",
       "    <tr>\n",
       "      <th>4</th>\n",
       "      <td>%C3%93engus_I_of_the_Picts</td>\n",
       "      <td>Europe</td>\n",
       "      <td>[History, People]</td>\n",
       "      <td>[subject.History.British_History.British_Histo...</td>\n",
       "      <td>2029</td>\n",
       "    </tr>\n",
       "  </tbody>\n",
       "</table>\n",
       "</div>"
      ],
      "text/plain": [
       "                            article continent            categoryMain  \\\n",
       "0  %C3%81ed%C3%A1n_mac_Gabr%C3%A1in    Europe       [History, People]   \n",
       "1                        %C3%85land    Europe  [Countries, Geography]   \n",
       "2                %C3%89douard_Manet    Europe                [People]   \n",
       "3                         %C3%89ire    Europe  [Countries, Geography]   \n",
       "4        %C3%93engus_I_of_the_Picts    Europe       [History, People]   \n",
       "\n",
       "                                            category  length  \n",
       "0  [subject.History.British_History.British_Histo...    1836  \n",
       "1  [subject.Countries, subject.Geography.European...    2412  \n",
       "2                           [subject.People.Artists]    2887  \n",
       "3  [subject.Countries, subject.Geography.European...    2026  \n",
       "4  [subject.History.British_History.British_Histo...    2029  "
      ]
     },
     "metadata": {},
     "output_type": "display_data"
    },
    {
     "name": "stdout",
     "output_type": "stream",
     "text": [
      "Size: (2734, 5)\n"
     ]
    }
   ],
   "source": [
    "plaintext_path = os.path.join(\"Data\", \"plaintext_articles\")\n",
    "\n",
    "word_counts = []\n",
    "for article_name in df_articles.article:\n",
    "    file_path = os.path.join(plaintext_path, article_name + \".txt\")\n",
    "\n",
    "    with open(file_path, \"r\", encoding=\"utf-8\") as file:\n",
    "\n",
    "        _ = file.readline() # Skip the first line because it contains the word #copyright\n",
    "        content = file.read()\n",
    "\n",
    "    content = content[:re.search(\"Retrieved from\", content).start(0)]\n",
    "    word_counts.append(len(content.split()))\n",
    "\n",
    "df_articles[\"length\"] = word_counts\n",
    "\n",
    "display(df_articles.head())\n",
    "print(\"Size:\", df_articles.shape)"
   ]
  },
  {
   "cell_type": "markdown",
   "metadata": {},
   "source": [
    "## Page Rank\n",
    "\n",
    "In this step, we load the Page Rank data from the `page_rank.csv` file and merge it with our existing dataset. The resulting dataset now includes information about the Page Rank of each article. Page Rank can offer insights into the importance or centrality of an article within the Wikispeedia network.\n",
    "\n",
    "This information will be valuable for our analysis, allowing us to consider the influence and significance of articles when exploring geographical biases in the Wikispeedia game."
   ]
  },
  {
   "cell_type": "code",
   "execution_count": 36,
   "metadata": {},
   "outputs": [
    {
     "data": {
      "text/html": [
       "<div>\n",
       "<style scoped>\n",
       "    .dataframe tbody tr th:only-of-type {\n",
       "        vertical-align: middle;\n",
       "    }\n",
       "\n",
       "    .dataframe tbody tr th {\n",
       "        vertical-align: top;\n",
       "    }\n",
       "\n",
       "    .dataframe thead th {\n",
       "        text-align: right;\n",
       "    }\n",
       "</style>\n",
       "<table border=\"1\" class=\"dataframe\">\n",
       "  <thead>\n",
       "    <tr style=\"text-align: right;\">\n",
       "      <th></th>\n",
       "      <th>article</th>\n",
       "      <th>continent</th>\n",
       "      <th>categoryMain</th>\n",
       "      <th>category</th>\n",
       "      <th>length</th>\n",
       "      <th>pageRank</th>\n",
       "    </tr>\n",
       "  </thead>\n",
       "  <tbody>\n",
       "    <tr>\n",
       "      <th>0</th>\n",
       "      <td>%C3%81ed%C3%A1n_mac_Gabr%C3%A1in</td>\n",
       "      <td>Europe</td>\n",
       "      <td>[History, People]</td>\n",
       "      <td>[subject.History.British_History.British_Histo...</td>\n",
       "      <td>1836</td>\n",
       "      <td>0.000033</td>\n",
       "    </tr>\n",
       "    <tr>\n",
       "      <th>1</th>\n",
       "      <td>%C3%85land</td>\n",
       "      <td>Europe</td>\n",
       "      <td>[Countries, Geography]</td>\n",
       "      <td>[subject.Countries, subject.Geography.European...</td>\n",
       "      <td>2412</td>\n",
       "      <td>0.000033</td>\n",
       "    </tr>\n",
       "    <tr>\n",
       "      <th>2</th>\n",
       "      <td>%C3%89douard_Manet</td>\n",
       "      <td>Europe</td>\n",
       "      <td>[People]</td>\n",
       "      <td>[subject.People.Artists]</td>\n",
       "      <td>2887</td>\n",
       "      <td>0.000033</td>\n",
       "    </tr>\n",
       "    <tr>\n",
       "      <th>3</th>\n",
       "      <td>%C3%89ire</td>\n",
       "      <td>Europe</td>\n",
       "      <td>[Countries, Geography]</td>\n",
       "      <td>[subject.Countries, subject.Geography.European...</td>\n",
       "      <td>2026</td>\n",
       "      <td>0.000033</td>\n",
       "    </tr>\n",
       "    <tr>\n",
       "      <th>4</th>\n",
       "      <td>%C3%93engus_I_of_the_Picts</td>\n",
       "      <td>Europe</td>\n",
       "      <td>[History, People]</td>\n",
       "      <td>[subject.History.British_History.British_Histo...</td>\n",
       "      <td>2029</td>\n",
       "      <td>0.000033</td>\n",
       "    </tr>\n",
       "  </tbody>\n",
       "</table>\n",
       "</div>"
      ],
      "text/plain": [
       "                            article continent            categoryMain  \\\n",
       "0  %C3%81ed%C3%A1n_mac_Gabr%C3%A1in    Europe       [History, People]   \n",
       "1                        %C3%85land    Europe  [Countries, Geography]   \n",
       "2                %C3%89douard_Manet    Europe                [People]   \n",
       "3                         %C3%89ire    Europe  [Countries, Geography]   \n",
       "4        %C3%93engus_I_of_the_Picts    Europe       [History, People]   \n",
       "\n",
       "                                            category  length  pageRank  \n",
       "0  [subject.History.British_History.British_Histo...    1836  0.000033  \n",
       "1  [subject.Countries, subject.Geography.European...    2412  0.000033  \n",
       "2                           [subject.People.Artists]    2887  0.000033  \n",
       "3  [subject.Countries, subject.Geography.European...    2026  0.000033  \n",
       "4  [subject.History.British_History.British_Histo...    2029  0.000033  "
      ]
     },
     "metadata": {},
     "output_type": "display_data"
    },
    {
     "name": "stdout",
     "output_type": "stream",
     "text": [
      "Size: (2734, 6)\n"
     ]
    }
   ],
   "source": [
    "df_pagerank = pd.read_csv(os.path.join(\"Data\", \"page_rank.csv\"))\n",
    "df_articles = pd.merge(df_articles, df_pagerank, on=\"article\", how=\"left\").fillna(0)\n",
    "\n",
    "display(df_articles.head())\n",
    "print(\"Size:\", df_articles.shape)"
   ]
  },
  {
   "cell_type": "markdown",
   "metadata": {},
   "source": [
    "## Paths\n",
    "\n",
    "In this section, we load information about both finished and unfinished paths from the Wikispeedia game. Additional columns are added to facilitate analysis, including the number of backclicks, total path steps, unique articles visited, and whether the path is completed or not."
   ]
  },
  {
   "cell_type": "code",
   "execution_count": 37,
   "metadata": {},
   "outputs": [
    {
     "data": {
      "text/html": [
       "<div>\n",
       "<style scoped>\n",
       "    .dataframe tbody tr th:only-of-type {\n",
       "        vertical-align: middle;\n",
       "    }\n",
       "\n",
       "    .dataframe tbody tr th {\n",
       "        vertical-align: top;\n",
       "    }\n",
       "\n",
       "    .dataframe thead th {\n",
       "        text-align: right;\n",
       "    }\n",
       "</style>\n",
       "<table border=\"1\" class=\"dataframe\">\n",
       "  <thead>\n",
       "    <tr style=\"text-align: right;\">\n",
       "      <th></th>\n",
       "      <th>hashedIpAddress</th>\n",
       "      <th>timestamp</th>\n",
       "      <th>durationInSec</th>\n",
       "      <th>path</th>\n",
       "      <th>rating</th>\n",
       "      <th>backclicks</th>\n",
       "      <th>pathSteps</th>\n",
       "      <th>uniqueArticles</th>\n",
       "      <th>start</th>\n",
       "      <th>target</th>\n",
       "      <th>isFinished</th>\n",
       "      <th>motif</th>\n",
       "      <th>durationInMin</th>\n",
       "    </tr>\n",
       "  </thead>\n",
       "  <tbody>\n",
       "    <tr>\n",
       "      <th>0</th>\n",
       "      <td>6a3701d319fc3754</td>\n",
       "      <td>1297740409</td>\n",
       "      <td>166</td>\n",
       "      <td>[14th_century, 15th_century, 16th_century, Pac...</td>\n",
       "      <td>NaN</td>\n",
       "      <td>0</td>\n",
       "      <td>9</td>\n",
       "      <td>9</td>\n",
       "      <td>14th_century</td>\n",
       "      <td>African_slave_trade</td>\n",
       "      <td>True</td>\n",
       "      <td>NaN</td>\n",
       "      <td>2.766667</td>\n",
       "    </tr>\n",
       "    <tr>\n",
       "      <th>1</th>\n",
       "      <td>3824310e536af032</td>\n",
       "      <td>1344753412</td>\n",
       "      <td>88</td>\n",
       "      <td>[14th_century, Europe, Africa, Atlantic_slave_...</td>\n",
       "      <td>3.0</td>\n",
       "      <td>0</td>\n",
       "      <td>5</td>\n",
       "      <td>5</td>\n",
       "      <td>14th_century</td>\n",
       "      <td>African_slave_trade</td>\n",
       "      <td>True</td>\n",
       "      <td>NaN</td>\n",
       "      <td>1.466667</td>\n",
       "    </tr>\n",
       "    <tr>\n",
       "      <th>2</th>\n",
       "      <td>415612e93584d30e</td>\n",
       "      <td>1349298640</td>\n",
       "      <td>138</td>\n",
       "      <td>[14th_century, Niger, Nigeria, British_Empire,...</td>\n",
       "      <td>NaN</td>\n",
       "      <td>0</td>\n",
       "      <td>8</td>\n",
       "      <td>8</td>\n",
       "      <td>14th_century</td>\n",
       "      <td>African_slave_trade</td>\n",
       "      <td>True</td>\n",
       "      <td>NaN</td>\n",
       "      <td>2.300000</td>\n",
       "    </tr>\n",
       "    <tr>\n",
       "      <th>3</th>\n",
       "      <td>64dd5cd342e3780c</td>\n",
       "      <td>1265613925</td>\n",
       "      <td>37</td>\n",
       "      <td>[14th_century, Renaissance, Ancient_Greece, Gr...</td>\n",
       "      <td>NaN</td>\n",
       "      <td>0</td>\n",
       "      <td>4</td>\n",
       "      <td>4</td>\n",
       "      <td>14th_century</td>\n",
       "      <td>Greece</td>\n",
       "      <td>True</td>\n",
       "      <td>NaN</td>\n",
       "      <td>0.616667</td>\n",
       "    </tr>\n",
       "    <tr>\n",
       "      <th>4</th>\n",
       "      <td>015245d773376aab</td>\n",
       "      <td>1366730828</td>\n",
       "      <td>175</td>\n",
       "      <td>[14th_century, Italy, Roman_Catholic_Church, H...</td>\n",
       "      <td>3.0</td>\n",
       "      <td>0</td>\n",
       "      <td>7</td>\n",
       "      <td>7</td>\n",
       "      <td>14th_century</td>\n",
       "      <td>John_F._Kennedy</td>\n",
       "      <td>True</td>\n",
       "      <td>NaN</td>\n",
       "      <td>2.916667</td>\n",
       "    </tr>\n",
       "  </tbody>\n",
       "</table>\n",
       "</div>"
      ],
      "text/plain": [
       "    hashedIpAddress   timestamp  durationInSec  \\\n",
       "0  6a3701d319fc3754  1297740409            166   \n",
       "1  3824310e536af032  1344753412             88   \n",
       "2  415612e93584d30e  1349298640            138   \n",
       "3  64dd5cd342e3780c  1265613925             37   \n",
       "4  015245d773376aab  1366730828            175   \n",
       "\n",
       "                                                path  rating  backclicks  \\\n",
       "0  [14th_century, 15th_century, 16th_century, Pac...     NaN           0   \n",
       "1  [14th_century, Europe, Africa, Atlantic_slave_...     3.0           0   \n",
       "2  [14th_century, Niger, Nigeria, British_Empire,...     NaN           0   \n",
       "3  [14th_century, Renaissance, Ancient_Greece, Gr...     NaN           0   \n",
       "4  [14th_century, Italy, Roman_Catholic_Church, H...     3.0           0   \n",
       "\n",
       "   pathSteps  uniqueArticles         start               target  isFinished  \\\n",
       "0          9               9  14th_century  African_slave_trade        True   \n",
       "1          5               5  14th_century  African_slave_trade        True   \n",
       "2          8               8  14th_century  African_slave_trade        True   \n",
       "3          4               4  14th_century               Greece        True   \n",
       "4          7               7  14th_century      John_F._Kennedy        True   \n",
       "\n",
       "  motif  durationInMin  \n",
       "0   NaN       2.766667  \n",
       "1   NaN       1.466667  \n",
       "2   NaN       2.300000  \n",
       "3   NaN       0.616667  \n",
       "4   NaN       2.916667  "
      ]
     },
     "metadata": {},
     "output_type": "display_data"
    },
    {
     "name": "stdout",
     "output_type": "stream",
     "text": [
      "Size: (76164, 13)\n"
     ]
    }
   ],
   "source": [
    "df_paths_finished = pd.read_csv(\n",
    "    os.path.join(\"Data\", \"wikispeedia_paths-and-graph\", \"paths_finished.tsv\"),\n",
    "    sep=\"\\t\",\n",
    "    header=None,\n",
    "    names=[\"hashedIpAddress\", \"timestamp\", \"durationInSec\", \"path\", \"rating\"],\n",
    "    skip_blank_lines=True,\n",
    "    comment=\"#\"\n",
    ")\n",
    "df_paths_unfinished = pd.read_csv(\n",
    "    os.path.join(\"Data\", \"wikispeedia_paths-and-graph\", \"paths_unfinished.tsv\"),\n",
    "    sep=\"\\t\",\n",
    "    header=None,\n",
    "    names=[\"hashedIpAddress\", \"timestamp\", \"durationInSec\", \"path\", \"target\", \"motif\"],\n",
    "    skip_blank_lines=True,\n",
    "    comment=\"#\"\n",
    ")\n",
    "\n",
    "df_paths_finished[\"backclicks\"] = df_paths_finished[\"path\"].apply(lambda x: x.count(\"<\"))\n",
    "df_paths_finished[\"pathSteps\"] = df_paths_finished[\"path\"].apply(lambda x: x.count(\";\") + 1)\n",
    "df_paths_finished[\"uniqueArticles\"] = df_paths_finished[\"pathSteps\"] - df_paths_finished[\"backclicks\"]\n",
    "df_paths_finished[\"path\"] = df_paths_finished[\"path\"].apply(lambda x: x.split(\";\"))\n",
    "df_paths_finished[\"start\"] = df_paths_finished[\"path\"].str[0]\n",
    "df_paths_finished[\"target\"] = df_paths_finished[\"path\"].str[-1]\n",
    "df_paths_finished[\"isFinished\"] = True\n",
    "\n",
    "df_paths_unfinished[\"backclicks\"] = df_paths_unfinished[\"path\"].apply(lambda x: x.count(\"<\"))\n",
    "df_paths_unfinished[\"pathSteps\"] = df_paths_unfinished[\"path\"].apply(lambda x: x.count(\";\") + 1)\n",
    "df_paths_unfinished[\"uniqueArticles\"] = df_paths_unfinished[\"pathSteps\"] - df_paths_unfinished[\"backclicks\"]\n",
    "df_paths_unfinished[\"path\"] = df_paths_unfinished[\"path\"].apply(lambda x: x.split(\";\"))\n",
    "df_paths_unfinished[\"start\"] = df_paths_unfinished[\"path\"].str[0]\n",
    "df_paths_unfinished[\"isFinished\"] = False\n",
    "\n",
    "df_paths = pd.concat([df_paths_finished, df_paths_unfinished])\n",
    "df_paths = df_paths[df_paths[\"start\"].isin(df_articles_all.name) & df_paths[\"target\"].isin(df_articles_all.name)]\n",
    "df_paths[\"durationInMin\"] = df_paths[\"durationInSec\"] / 60\n",
    "\n",
    "display(df_paths.head())\n",
    "print(\"Size:\", df_paths.shape)\n"
   ]
  },
  {
   "cell_type": "markdown",
   "metadata": {},
   "source": [
    "## Shortest Paths\n",
    "\n",
    "Here, we extract information about the shortest paths between articles from the provided file. The resulting dataset, `df_shortest_paths`, is then merged with the existing paths dataset, `df_paths`."
   ]
  },
  {
   "cell_type": "code",
   "execution_count": 38,
   "metadata": {},
   "outputs": [
    {
     "data": {
      "text/html": [
       "<div>\n",
       "<style scoped>\n",
       "    .dataframe tbody tr th:only-of-type {\n",
       "        vertical-align: middle;\n",
       "    }\n",
       "\n",
       "    .dataframe tbody tr th {\n",
       "        vertical-align: top;\n",
       "    }\n",
       "\n",
       "    .dataframe thead th {\n",
       "        text-align: right;\n",
       "    }\n",
       "</style>\n",
       "<table border=\"1\" class=\"dataframe\">\n",
       "  <thead>\n",
       "    <tr style=\"text-align: right;\">\n",
       "      <th></th>\n",
       "      <th>hashedIpAddress</th>\n",
       "      <th>timestamp</th>\n",
       "      <th>durationInSec</th>\n",
       "      <th>path</th>\n",
       "      <th>rating</th>\n",
       "      <th>backclicks</th>\n",
       "      <th>pathSteps</th>\n",
       "      <th>uniqueArticles</th>\n",
       "      <th>start</th>\n",
       "      <th>target</th>\n",
       "      <th>isFinished</th>\n",
       "      <th>motif</th>\n",
       "      <th>durationInMin</th>\n",
       "      <th>shortestPath</th>\n",
       "    </tr>\n",
       "  </thead>\n",
       "  <tbody>\n",
       "    <tr>\n",
       "      <th>0</th>\n",
       "      <td>6a3701d319fc3754</td>\n",
       "      <td>1297740409</td>\n",
       "      <td>166</td>\n",
       "      <td>[14th_century, 15th_century, 16th_century, Pac...</td>\n",
       "      <td>NaN</td>\n",
       "      <td>0</td>\n",
       "      <td>9</td>\n",
       "      <td>9</td>\n",
       "      <td>14th_century</td>\n",
       "      <td>African_slave_trade</td>\n",
       "      <td>True</td>\n",
       "      <td>NaN</td>\n",
       "      <td>2.766667</td>\n",
       "      <td>3</td>\n",
       "    </tr>\n",
       "    <tr>\n",
       "      <th>1</th>\n",
       "      <td>3824310e536af032</td>\n",
       "      <td>1344753412</td>\n",
       "      <td>88</td>\n",
       "      <td>[14th_century, Europe, Africa, Atlantic_slave_...</td>\n",
       "      <td>3.0</td>\n",
       "      <td>0</td>\n",
       "      <td>5</td>\n",
       "      <td>5</td>\n",
       "      <td>14th_century</td>\n",
       "      <td>African_slave_trade</td>\n",
       "      <td>True</td>\n",
       "      <td>NaN</td>\n",
       "      <td>1.466667</td>\n",
       "      <td>3</td>\n",
       "    </tr>\n",
       "    <tr>\n",
       "      <th>2</th>\n",
       "      <td>415612e93584d30e</td>\n",
       "      <td>1349298640</td>\n",
       "      <td>138</td>\n",
       "      <td>[14th_century, Niger, Nigeria, British_Empire,...</td>\n",
       "      <td>NaN</td>\n",
       "      <td>0</td>\n",
       "      <td>8</td>\n",
       "      <td>8</td>\n",
       "      <td>14th_century</td>\n",
       "      <td>African_slave_trade</td>\n",
       "      <td>True</td>\n",
       "      <td>NaN</td>\n",
       "      <td>2.300000</td>\n",
       "      <td>3</td>\n",
       "    </tr>\n",
       "    <tr>\n",
       "      <th>3</th>\n",
       "      <td>64dd5cd342e3780c</td>\n",
       "      <td>1265613925</td>\n",
       "      <td>37</td>\n",
       "      <td>[14th_century, Renaissance, Ancient_Greece, Gr...</td>\n",
       "      <td>NaN</td>\n",
       "      <td>0</td>\n",
       "      <td>4</td>\n",
       "      <td>4</td>\n",
       "      <td>14th_century</td>\n",
       "      <td>Greece</td>\n",
       "      <td>True</td>\n",
       "      <td>NaN</td>\n",
       "      <td>0.616667</td>\n",
       "      <td>2</td>\n",
       "    </tr>\n",
       "    <tr>\n",
       "      <th>4</th>\n",
       "      <td>015245d773376aab</td>\n",
       "      <td>1366730828</td>\n",
       "      <td>175</td>\n",
       "      <td>[14th_century, Italy, Roman_Catholic_Church, H...</td>\n",
       "      <td>3.0</td>\n",
       "      <td>0</td>\n",
       "      <td>7</td>\n",
       "      <td>7</td>\n",
       "      <td>14th_century</td>\n",
       "      <td>John_F._Kennedy</td>\n",
       "      <td>True</td>\n",
       "      <td>NaN</td>\n",
       "      <td>2.916667</td>\n",
       "      <td>3</td>\n",
       "    </tr>\n",
       "  </tbody>\n",
       "</table>\n",
       "</div>"
      ],
      "text/plain": [
       "    hashedIpAddress   timestamp  durationInSec  \\\n",
       "0  6a3701d319fc3754  1297740409            166   \n",
       "1  3824310e536af032  1344753412             88   \n",
       "2  415612e93584d30e  1349298640            138   \n",
       "3  64dd5cd342e3780c  1265613925             37   \n",
       "4  015245d773376aab  1366730828            175   \n",
       "\n",
       "                                                path  rating  backclicks  \\\n",
       "0  [14th_century, 15th_century, 16th_century, Pac...     NaN           0   \n",
       "1  [14th_century, Europe, Africa, Atlantic_slave_...     3.0           0   \n",
       "2  [14th_century, Niger, Nigeria, British_Empire,...     NaN           0   \n",
       "3  [14th_century, Renaissance, Ancient_Greece, Gr...     NaN           0   \n",
       "4  [14th_century, Italy, Roman_Catholic_Church, H...     3.0           0   \n",
       "\n",
       "   pathSteps  uniqueArticles         start               target  isFinished  \\\n",
       "0          9               9  14th_century  African_slave_trade        True   \n",
       "1          5               5  14th_century  African_slave_trade        True   \n",
       "2          8               8  14th_century  African_slave_trade        True   \n",
       "3          4               4  14th_century               Greece        True   \n",
       "4          7               7  14th_century      John_F._Kennedy        True   \n",
       "\n",
       "  motif  durationInMin  shortestPath  \n",
       "0   NaN       2.766667             3  \n",
       "1   NaN       1.466667             3  \n",
       "2   NaN       2.300000             3  \n",
       "3   NaN       0.616667             2  \n",
       "4   NaN       2.916667             3  "
      ]
     },
     "metadata": {},
     "output_type": "display_data"
    },
    {
     "name": "stdout",
     "output_type": "stream",
     "text": [
      "Size: (76155, 14)\n"
     ]
    }
   ],
   "source": [
    "shortest_paths = []\n",
    "with open(os.path.join(\"Data\", \"wikispeedia_paths-and-graph\", \"shortest-path-distance-matrix.txt\")) as file:\n",
    "    for line in file:\n",
    "        line = line.strip()\n",
    "        if line == \"\" or line.startswith(\"#\"):\n",
    "            continue\n",
    "        shortest_paths.append(list(map(lambda x: -1 if x == \"_\" else int(x), list(line))))\n",
    "        \n",
    "shortest_paths = np.array(shortest_paths)\n",
    "\n",
    "df_shortest_paths = pd.DataFrame(shortest_paths, index=df_articles_all.name, columns=df_articles_all.name)\n",
    "df_paths[\"shortestPath\"] = df_paths.apply(lambda row: df_shortest_paths.loc[row[\"start\"], row[\"target\"]], axis=\"columns\")\n",
    "df_paths = df_paths[df_paths[\"shortestPath\"] >= 0]\n",
    "\n",
    "display(df_paths.head())\n",
    "print(\"Size:\", df_paths.shape)"
   ]
  },
  {
   "cell_type": "markdown",
   "metadata": {},
   "source": [
    "# Data Exploration\n",
    "\n",
    "In this section, we explore the distribution of articles across different continents. The `article_count_per_continent` DataFrame provides a summary of the number of articles in each continent."
   ]
  },
  {
   "cell_type": "code",
   "execution_count": 39,
   "metadata": {},
   "outputs": [
    {
     "data": {
      "text/plain": [
       "continent\n",
       "Africa            265\n",
       "Antarctica          9\n",
       "Asia              377\n",
       "Australia         122\n",
       "Europe           1245\n",
       "North America     593\n",
       "South America     123\n",
       "dtype: int64"
      ]
     },
     "metadata": {},
     "output_type": "display_data"
    }
   ],
   "source": [
    "article_count_per_continent = df_continents.groupby(\"continent\").size().sort_index()\n",
    "\n",
    "display(article_count_per_continent)"
   ]
  },
  {
   "cell_type": "markdown",
   "metadata": {},
   "source": [
    "Next, we examine the distribution of articles in various main categories within each continent."
   ]
  },
  {
   "cell_type": "code",
   "execution_count": 40,
   "metadata": {},
   "outputs": [
    {
     "data": {
      "text/html": [
       "<div>\n",
       "<style scoped>\n",
       "    .dataframe tbody tr th:only-of-type {\n",
       "        vertical-align: middle;\n",
       "    }\n",
       "\n",
       "    .dataframe tbody tr th {\n",
       "        vertical-align: top;\n",
       "    }\n",
       "\n",
       "    .dataframe thead th {\n",
       "        text-align: right;\n",
       "    }\n",
       "</style>\n",
       "<table border=\"1\" class=\"dataframe\">\n",
       "  <thead>\n",
       "    <tr style=\"text-align: right;\">\n",
       "      <th>categoryMain</th>\n",
       "      <th>Art</th>\n",
       "      <th>Business_Studies</th>\n",
       "      <th>Citizenship</th>\n",
       "      <th>Countries</th>\n",
       "      <th>Design_and_Technology</th>\n",
       "      <th>Everyday_life</th>\n",
       "      <th>Geography</th>\n",
       "      <th>History</th>\n",
       "      <th>IT</th>\n",
       "      <th>Language_and_literature</th>\n",
       "      <th>Mathematics</th>\n",
       "      <th>Music</th>\n",
       "      <th>People</th>\n",
       "      <th>Religion</th>\n",
       "      <th>Science</th>\n",
       "    </tr>\n",
       "    <tr>\n",
       "      <th>continent</th>\n",
       "      <th></th>\n",
       "      <th></th>\n",
       "      <th></th>\n",
       "      <th></th>\n",
       "      <th></th>\n",
       "      <th></th>\n",
       "      <th></th>\n",
       "      <th></th>\n",
       "      <th></th>\n",
       "      <th></th>\n",
       "      <th></th>\n",
       "      <th></th>\n",
       "      <th></th>\n",
       "      <th></th>\n",
       "      <th></th>\n",
       "    </tr>\n",
       "  </thead>\n",
       "  <tbody>\n",
       "    <tr>\n",
       "      <th>Africa</th>\n",
       "      <td>0</td>\n",
       "      <td>1</td>\n",
       "      <td>4</td>\n",
       "      <td>52</td>\n",
       "      <td>4</td>\n",
       "      <td>2</td>\n",
       "      <td>143</td>\n",
       "      <td>30</td>\n",
       "      <td>0</td>\n",
       "      <td>9</td>\n",
       "      <td>0</td>\n",
       "      <td>2</td>\n",
       "      <td>17</td>\n",
       "      <td>1</td>\n",
       "      <td>61</td>\n",
       "    </tr>\n",
       "    <tr>\n",
       "      <th>Antarctica</th>\n",
       "      <td>0</td>\n",
       "      <td>0</td>\n",
       "      <td>0</td>\n",
       "      <td>0</td>\n",
       "      <td>0</td>\n",
       "      <td>0</td>\n",
       "      <td>7</td>\n",
       "      <td>0</td>\n",
       "      <td>0</td>\n",
       "      <td>0</td>\n",
       "      <td>0</td>\n",
       "      <td>0</td>\n",
       "      <td>0</td>\n",
       "      <td>0</td>\n",
       "      <td>3</td>\n",
       "    </tr>\n",
       "    <tr>\n",
       "      <th>Asia</th>\n",
       "      <td>1</td>\n",
       "      <td>6</td>\n",
       "      <td>15</td>\n",
       "      <td>55</td>\n",
       "      <td>11</td>\n",
       "      <td>19</td>\n",
       "      <td>169</td>\n",
       "      <td>53</td>\n",
       "      <td>0</td>\n",
       "      <td>14</td>\n",
       "      <td>1</td>\n",
       "      <td>3</td>\n",
       "      <td>51</td>\n",
       "      <td>29</td>\n",
       "      <td>17</td>\n",
       "    </tr>\n",
       "    <tr>\n",
       "      <th>Australia</th>\n",
       "      <td>0</td>\n",
       "      <td>0</td>\n",
       "      <td>1</td>\n",
       "      <td>15</td>\n",
       "      <td>3</td>\n",
       "      <td>5</td>\n",
       "      <td>64</td>\n",
       "      <td>10</td>\n",
       "      <td>0</td>\n",
       "      <td>1</td>\n",
       "      <td>0</td>\n",
       "      <td>2</td>\n",
       "      <td>12</td>\n",
       "      <td>1</td>\n",
       "      <td>25</td>\n",
       "    </tr>\n",
       "    <tr>\n",
       "      <th>Europe</th>\n",
       "      <td>13</td>\n",
       "      <td>17</td>\n",
       "      <td>33</td>\n",
       "      <td>55</td>\n",
       "      <td>71</td>\n",
       "      <td>51</td>\n",
       "      <td>287</td>\n",
       "      <td>313</td>\n",
       "      <td>2</td>\n",
       "      <td>101</td>\n",
       "      <td>0</td>\n",
       "      <td>33</td>\n",
       "      <td>415</td>\n",
       "      <td>41</td>\n",
       "      <td>33</td>\n",
       "    </tr>\n",
       "    <tr>\n",
       "      <th>North America</th>\n",
       "      <td>0</td>\n",
       "      <td>7</td>\n",
       "      <td>26</td>\n",
       "      <td>4</td>\n",
       "      <td>59</td>\n",
       "      <td>51</td>\n",
       "      <td>166</td>\n",
       "      <td>53</td>\n",
       "      <td>4</td>\n",
       "      <td>15</td>\n",
       "      <td>0</td>\n",
       "      <td>18</td>\n",
       "      <td>183</td>\n",
       "      <td>5</td>\n",
       "      <td>28</td>\n",
       "    </tr>\n",
       "    <tr>\n",
       "      <th>South America</th>\n",
       "      <td>0</td>\n",
       "      <td>0</td>\n",
       "      <td>1</td>\n",
       "      <td>48</td>\n",
       "      <td>1</td>\n",
       "      <td>0</td>\n",
       "      <td>85</td>\n",
       "      <td>9</td>\n",
       "      <td>0</td>\n",
       "      <td>0</td>\n",
       "      <td>0</td>\n",
       "      <td>10</td>\n",
       "      <td>9</td>\n",
       "      <td>0</td>\n",
       "      <td>11</td>\n",
       "    </tr>\n",
       "  </tbody>\n",
       "</table>\n",
       "</div>"
      ],
      "text/plain": [
       "categoryMain   Art  Business_Studies  Citizenship  Countries  \\\n",
       "continent                                                      \n",
       "Africa           0                 1            4         52   \n",
       "Antarctica       0                 0            0          0   \n",
       "Asia             1                 6           15         55   \n",
       "Australia        0                 0            1         15   \n",
       "Europe          13                17           33         55   \n",
       "North America    0                 7           26          4   \n",
       "South America    0                 0            1         48   \n",
       "\n",
       "categoryMain   Design_and_Technology  Everyday_life  Geography  History  IT  \\\n",
       "continent                                                                     \n",
       "Africa                             4              2        143       30   0   \n",
       "Antarctica                         0              0          7        0   0   \n",
       "Asia                              11             19        169       53   0   \n",
       "Australia                          3              5         64       10   0   \n",
       "Europe                            71             51        287      313   2   \n",
       "North America                     59             51        166       53   4   \n",
       "South America                      1              0         85        9   0   \n",
       "\n",
       "categoryMain   Language_and_literature  Mathematics  Music  People  Religion  \\\n",
       "continent                                                                      \n",
       "Africa                               9            0      2      17         1   \n",
       "Antarctica                           0            0      0       0         0   \n",
       "Asia                                14            1      3      51        29   \n",
       "Australia                            1            0      2      12         1   \n",
       "Europe                             101            0     33     415        41   \n",
       "North America                       15            0     18     183         5   \n",
       "South America                        0            0     10       9         0   \n",
       "\n",
       "categoryMain   Science  \n",
       "continent               \n",
       "Africa              61  \n",
       "Antarctica           3  \n",
       "Asia                17  \n",
       "Australia           25  \n",
       "Europe              33  \n",
       "North America       28  \n",
       "South America       11  "
      ]
     },
     "metadata": {},
     "output_type": "display_data"
    },
    {
     "name": "stdout",
     "output_type": "stream",
     "text": [
      "Size: (7, 15)\n"
     ]
    }
   ],
   "source": [
    "df_continents_categories_counts = pd.crosstab(df_continents_categories[\"continent\"], df_continents_categories[\"categoryMain\"]).sort_index()\n",
    "\n",
    "display(df_continents_categories_counts)\n",
    "print(\"Size:\", df_continents_categories_counts.shape)"
   ]
  },
  {
   "cell_type": "markdown",
   "metadata": {},
   "source": [
    "We merge information about target and start articles with the paths data."
   ]
  },
  {
   "cell_type": "code",
   "execution_count": 41,
   "metadata": {},
   "outputs": [
    {
     "data": {
      "text/html": [
       "<div>\n",
       "<style scoped>\n",
       "    .dataframe tbody tr th:only-of-type {\n",
       "        vertical-align: middle;\n",
       "    }\n",
       "\n",
       "    .dataframe tbody tr th {\n",
       "        vertical-align: top;\n",
       "    }\n",
       "\n",
       "    .dataframe thead th {\n",
       "        text-align: right;\n",
       "    }\n",
       "</style>\n",
       "<table border=\"1\" class=\"dataframe\">\n",
       "  <thead>\n",
       "    <tr style=\"text-align: right;\">\n",
       "      <th></th>\n",
       "      <th>hashedIpAddress</th>\n",
       "      <th>timestamp</th>\n",
       "      <th>durationInSec</th>\n",
       "      <th>path</th>\n",
       "      <th>rating</th>\n",
       "      <th>backclicks</th>\n",
       "      <th>pathSteps</th>\n",
       "      <th>uniqueArticles</th>\n",
       "      <th>start</th>\n",
       "      <th>target</th>\n",
       "      <th>...</th>\n",
       "      <th>targetCategoryMain</th>\n",
       "      <th>targetCategory</th>\n",
       "      <th>targetLength</th>\n",
       "      <th>targetPageRank</th>\n",
       "      <th>startContinent</th>\n",
       "      <th>startCategoryMain</th>\n",
       "      <th>startCategory</th>\n",
       "      <th>startLength</th>\n",
       "      <th>startPageRank</th>\n",
       "      <th>isFinishedInt</th>\n",
       "    </tr>\n",
       "  </thead>\n",
       "  <tbody>\n",
       "    <tr>\n",
       "      <th>0</th>\n",
       "      <td>1a218aa161301e6e</td>\n",
       "      <td>1355086784</td>\n",
       "      <td>40</td>\n",
       "      <td>[James_Bond, United_Kingdom, Europe, Africa, A...</td>\n",
       "      <td>NaN</td>\n",
       "      <td>0</td>\n",
       "      <td>6</td>\n",
       "      <td>6</td>\n",
       "      <td>James_Bond</td>\n",
       "      <td>African_slave_trade</td>\n",
       "      <td>...</td>\n",
       "      <td>[History]</td>\n",
       "      <td>[subject.History.General_history]</td>\n",
       "      <td>2654</td>\n",
       "      <td>0.000055</td>\n",
       "      <td>Europe</td>\n",
       "      <td>[Everyday_life]</td>\n",
       "      <td>[subject.Everyday_life.Films]</td>\n",
       "      <td>7496</td>\n",
       "      <td>0.000186</td>\n",
       "      <td>1</td>\n",
       "    </tr>\n",
       "    <tr>\n",
       "      <th>1</th>\n",
       "      <td>1ad6fbd964102221</td>\n",
       "      <td>1332642329</td>\n",
       "      <td>144</td>\n",
       "      <td>[James_Bond, Star_Wars, Mythology, The_Lord_of...</td>\n",
       "      <td>NaN</td>\n",
       "      <td>5</td>\n",
       "      <td>11</td>\n",
       "      <td>6</td>\n",
       "      <td>James_Bond</td>\n",
       "      <td>Iron_Maiden</td>\n",
       "      <td>...</td>\n",
       "      <td>[Music]</td>\n",
       "      <td>[subject.Music.Performers_and_composers]</td>\n",
       "      <td>4047</td>\n",
       "      <td>0.000159</td>\n",
       "      <td>Europe</td>\n",
       "      <td>[Everyday_life]</td>\n",
       "      <td>[subject.Everyday_life.Films]</td>\n",
       "      <td>7496</td>\n",
       "      <td>0.000186</td>\n",
       "      <td>0</td>\n",
       "    </tr>\n",
       "    <tr>\n",
       "      <th>2</th>\n",
       "      <td>3e6b12634169fb72</td>\n",
       "      <td>1357250279</td>\n",
       "      <td>28</td>\n",
       "      <td>[James_Bond, Sean_Connery, Scotland, Scottish_...</td>\n",
       "      <td>NaN</td>\n",
       "      <td>0</td>\n",
       "      <td>4</td>\n",
       "      <td>4</td>\n",
       "      <td>James_Bond</td>\n",
       "      <td>Scottish_Gaelic_language</td>\n",
       "      <td>...</td>\n",
       "      <td>[Language_and_literature]</td>\n",
       "      <td>[subject.Language_and_literature.Languages]</td>\n",
       "      <td>4780</td>\n",
       "      <td>0.000243</td>\n",
       "      <td>Europe</td>\n",
       "      <td>[Everyday_life]</td>\n",
       "      <td>[subject.Everyday_life.Films]</td>\n",
       "      <td>7496</td>\n",
       "      <td>0.000186</td>\n",
       "      <td>1</td>\n",
       "    </tr>\n",
       "    <tr>\n",
       "      <th>3</th>\n",
       "      <td>2141997163054c23</td>\n",
       "      <td>1272956123</td>\n",
       "      <td>18</td>\n",
       "      <td>[James_Bond, United_States, Canada, Stephen_Ha...</td>\n",
       "      <td>NaN</td>\n",
       "      <td>0</td>\n",
       "      <td>4</td>\n",
       "      <td>4</td>\n",
       "      <td>James_Bond</td>\n",
       "      <td>Stephen_Harper</td>\n",
       "      <td>...</td>\n",
       "      <td>[People]</td>\n",
       "      <td>[subject.People.Political_People]</td>\n",
       "      <td>4801</td>\n",
       "      <td>0.000107</td>\n",
       "      <td>Europe</td>\n",
       "      <td>[Everyday_life]</td>\n",
       "      <td>[subject.Everyday_life.Films]</td>\n",
       "      <td>7496</td>\n",
       "      <td>0.000186</td>\n",
       "      <td>1</td>\n",
       "    </tr>\n",
       "    <tr>\n",
       "      <th>4</th>\n",
       "      <td>15945db656214ee5</td>\n",
       "      <td>1253827056</td>\n",
       "      <td>64</td>\n",
       "      <td>[James_Bond, Germany, Adolf_Hitler, Nazi_Germa...</td>\n",
       "      <td>NaN</td>\n",
       "      <td>0</td>\n",
       "      <td>5</td>\n",
       "      <td>5</td>\n",
       "      <td>James_Bond</td>\n",
       "      <td>Nazism</td>\n",
       "      <td>...</td>\n",
       "      <td>[History]</td>\n",
       "      <td>[subject.History.World_War_II]</td>\n",
       "      <td>7377</td>\n",
       "      <td>0.000706</td>\n",
       "      <td>Europe</td>\n",
       "      <td>[Everyday_life]</td>\n",
       "      <td>[subject.Everyday_life.Films]</td>\n",
       "      <td>7496</td>\n",
       "      <td>0.000186</td>\n",
       "      <td>1</td>\n",
       "    </tr>\n",
       "  </tbody>\n",
       "</table>\n",
       "<p>5 rows × 25 columns</p>\n",
       "</div>"
      ],
      "text/plain": [
       "    hashedIpAddress   timestamp  durationInSec  \\\n",
       "0  1a218aa161301e6e  1355086784             40   \n",
       "1  1ad6fbd964102221  1332642329            144   \n",
       "2  3e6b12634169fb72  1357250279             28   \n",
       "3  2141997163054c23  1272956123             18   \n",
       "4  15945db656214ee5  1253827056             64   \n",
       "\n",
       "                                                path  rating  backclicks  \\\n",
       "0  [James_Bond, United_Kingdom, Europe, Africa, A...     NaN           0   \n",
       "1  [James_Bond, Star_Wars, Mythology, The_Lord_of...     NaN           5   \n",
       "2  [James_Bond, Sean_Connery, Scotland, Scottish_...     NaN           0   \n",
       "3  [James_Bond, United_States, Canada, Stephen_Ha...     NaN           0   \n",
       "4  [James_Bond, Germany, Adolf_Hitler, Nazi_Germa...     NaN           0   \n",
       "\n",
       "   pathSteps  uniqueArticles       start                    target  ...  \\\n",
       "0          6               6  James_Bond       African_slave_trade  ...   \n",
       "1         11               6  James_Bond               Iron_Maiden  ...   \n",
       "2          4               4  James_Bond  Scottish_Gaelic_language  ...   \n",
       "3          4               4  James_Bond            Stephen_Harper  ...   \n",
       "4          5               5  James_Bond                    Nazism  ...   \n",
       "\n",
       "          targetCategoryMain                               targetCategory  \\\n",
       "0                  [History]            [subject.History.General_history]   \n",
       "1                    [Music]     [subject.Music.Performers_and_composers]   \n",
       "2  [Language_and_literature]  [subject.Language_and_literature.Languages]   \n",
       "3                   [People]            [subject.People.Political_People]   \n",
       "4                  [History]               [subject.History.World_War_II]   \n",
       "\n",
       "   targetLength  targetPageRank startContinent startCategoryMain  \\\n",
       "0          2654        0.000055         Europe   [Everyday_life]   \n",
       "1          4047        0.000159         Europe   [Everyday_life]   \n",
       "2          4780        0.000243         Europe   [Everyday_life]   \n",
       "3          4801        0.000107         Europe   [Everyday_life]   \n",
       "4          7377        0.000706         Europe   [Everyday_life]   \n",
       "\n",
       "                   startCategory  startLength  startPageRank isFinishedInt  \n",
       "0  [subject.Everyday_life.Films]         7496       0.000186             1  \n",
       "1  [subject.Everyday_life.Films]         7496       0.000186             0  \n",
       "2  [subject.Everyday_life.Films]         7496       0.000186             1  \n",
       "3  [subject.Everyday_life.Films]         7496       0.000186             1  \n",
       "4  [subject.Everyday_life.Films]         7496       0.000186             1  \n",
       "\n",
       "[5 rows x 25 columns]"
      ]
     },
     "metadata": {},
     "output_type": "display_data"
    },
    {
     "name": "stdout",
     "output_type": "stream",
     "text": [
      "Size: (19163, 25)\n"
     ]
    }
   ],
   "source": [
    "df_articles_target = df_articles.copy()\n",
    "df_articles_target.columns = [column[0].upper() + column[1:] for column in df_articles_target.columns]\n",
    "df_articles_target = df_articles_target.add_prefix(\"target\")\n",
    "\n",
    "df_paths_articles = pd.merge(df_paths, df_articles_target, left_on=\"target\", right_on=\"targetArticle\", suffixes=[\"\", ]).drop(columns=\"targetArticle\")\n",
    "\n",
    "df_start_articles = df_articles.copy()\n",
    "df_start_articles.columns = [column[0].upper() + column[1:] for column in df_start_articles.columns]\n",
    "df_start_articles = df_start_articles.add_prefix(\"start\")\n",
    "df_paths_articles = pd.merge(df_paths_articles, df_start_articles, left_on=\"start\", right_on=\"startArticle\", suffixes=[\"\", ]).drop(columns=\"startArticle\")\n",
    "\n",
    "df_paths_articles[\"isFinishedInt\"] = df_paths_articles[\"isFinished\"].astype(int)\n",
    "\n",
    "display(df_paths_articles.head())\n",
    "print(\"Size:\", df_paths_articles.shape)"
   ]
  },
  {
   "cell_type": "markdown",
   "metadata": {},
   "source": [
    "Finally, we perform an analysis of article path statistics. The resulting DataFrame, `df_article_path_stats`, contains information about the number of finished and unfinished paths for each article, along with percentages and relevant details. This exploration sets the stage for deeper insights into user interactions with articles in the Wikispeedia game."
   ]
  },
  {
   "cell_type": "code",
   "execution_count": 42,
   "metadata": {},
   "outputs": [
    {
     "data": {
      "text/html": [
       "<div>\n",
       "<style scoped>\n",
       "    .dataframe tbody tr th:only-of-type {\n",
       "        vertical-align: middle;\n",
       "    }\n",
       "\n",
       "    .dataframe tbody tr th {\n",
       "        vertical-align: top;\n",
       "    }\n",
       "\n",
       "    .dataframe thead th {\n",
       "        text-align: right;\n",
       "    }\n",
       "</style>\n",
       "<table border=\"1\" class=\"dataframe\">\n",
       "  <thead>\n",
       "    <tr style=\"text-align: right;\">\n",
       "      <th></th>\n",
       "      <th>article</th>\n",
       "      <th>continent</th>\n",
       "      <th>targetFinished</th>\n",
       "      <th>targetUnfinished</th>\n",
       "      <th>startFinished</th>\n",
       "      <th>startUnfinished</th>\n",
       "      <th>anyFinished</th>\n",
       "      <th>anyUnfinished</th>\n",
       "      <th>anyPercentage</th>\n",
       "    </tr>\n",
       "  </thead>\n",
       "  <tbody>\n",
       "    <tr>\n",
       "      <th>2563</th>\n",
       "      <td>United_States</td>\n",
       "      <td>North America</td>\n",
       "      <td>28.0</td>\n",
       "      <td>3.0</td>\n",
       "      <td>44.0</td>\n",
       "      <td>7.0</td>\n",
       "      <td>8896.0</td>\n",
       "      <td>3553.0</td>\n",
       "      <td>0.026149</td>\n",
       "    </tr>\n",
       "    <tr>\n",
       "      <th>827</th>\n",
       "      <td>Europe</td>\n",
       "      <td>Europe</td>\n",
       "      <td>17.0</td>\n",
       "      <td>2.0</td>\n",
       "      <td>26.0</td>\n",
       "      <td>15.0</td>\n",
       "      <td>4362.0</td>\n",
       "      <td>1249.0</td>\n",
       "      <td>0.011786</td>\n",
       "    </tr>\n",
       "    <tr>\n",
       "      <th>2560</th>\n",
       "      <td>United_Kingdom</td>\n",
       "      <td>Europe</td>\n",
       "      <td>28.0</td>\n",
       "      <td>0.0</td>\n",
       "      <td>16.0</td>\n",
       "      <td>6.0</td>\n",
       "      <td>3904.0</td>\n",
       "      <td>1424.0</td>\n",
       "      <td>0.011192</td>\n",
       "    </tr>\n",
       "    <tr>\n",
       "      <th>803</th>\n",
       "      <td>England</td>\n",
       "      <td>Europe</td>\n",
       "      <td>111.0</td>\n",
       "      <td>14.0</td>\n",
       "      <td>98.0</td>\n",
       "      <td>45.0</td>\n",
       "      <td>3332.0</td>\n",
       "      <td>1226.0</td>\n",
       "      <td>0.009574</td>\n",
       "    </tr>\n",
       "    <tr>\n",
       "      <th>62</th>\n",
       "      <td>Africa</td>\n",
       "      <td>Africa</td>\n",
       "      <td>28.0</td>\n",
       "      <td>5.0</td>\n",
       "      <td>75.0</td>\n",
       "      <td>23.0</td>\n",
       "      <td>2796.0</td>\n",
       "      <td>794.0</td>\n",
       "      <td>0.007541</td>\n",
       "    </tr>\n",
       "  </tbody>\n",
       "</table>\n",
       "</div>"
      ],
      "text/plain": [
       "             article      continent  targetFinished  targetUnfinished  \\\n",
       "2563   United_States  North America            28.0               3.0   \n",
       "827           Europe         Europe            17.0               2.0   \n",
       "2560  United_Kingdom         Europe            28.0               0.0   \n",
       "803          England         Europe           111.0              14.0   \n",
       "62            Africa         Africa            28.0               5.0   \n",
       "\n",
       "      startFinished  startUnfinished  anyFinished  anyUnfinished  \\\n",
       "2563           44.0              7.0       8896.0         3553.0   \n",
       "827            26.0             15.0       4362.0         1249.0   \n",
       "2560           16.0              6.0       3904.0         1424.0   \n",
       "803            98.0             45.0       3332.0         1226.0   \n",
       "62             75.0             23.0       2796.0          794.0   \n",
       "\n",
       "      anyPercentage  \n",
       "2563       0.026149  \n",
       "827        0.011786  \n",
       "2560       0.011192  \n",
       "803        0.009574  \n",
       "62         0.007541  "
      ]
     },
     "metadata": {},
     "output_type": "display_data"
    },
    {
     "name": "stdout",
     "output_type": "stream",
     "text": [
      "Size: (2734, 9)\n"
     ]
    }
   ],
   "source": [
    "df_article_path_stats = pd.DataFrame()\n",
    "\n",
    "df_article_path_stats[\"article\"] = df_articles[\"article\"]\n",
    "df_article_path_stats[\"continent\"] = df_articles[\"continent\"]\n",
    "df_article_path_stats[\"targetFinished\"] = df_articles[\"article\"].map(df_paths_finished[\"target\"].value_counts()).fillna(0)\n",
    "df_article_path_stats[\"targetUnfinished\"] = df_articles[\"article\"].map(df_paths_unfinished[\"target\"].value_counts()).fillna(0)\n",
    "\n",
    "df_article_path_stats[\"startFinished\"] = df_articles[\"article\"].map(df_paths_finished[\"start\"].value_counts()).fillna(0)\n",
    "df_article_path_stats[\"startUnfinished\"] = df_articles[\"article\"].map(df_paths_unfinished[\"start\"].value_counts()).fillna(0)\n",
    "\n",
    "paths_finished = pd.Series(np.concatenate(df_paths_finished.path.values))\n",
    "paths_unfinished = pd.Series(np.concatenate(df_paths_unfinished.path.values))\n",
    "\n",
    "df_article_path_stats[\"anyFinished\"] = df_articles[\"article\"].map(paths_finished.value_counts()).fillna(0)\n",
    "df_article_path_stats[\"anyUnfinished\"] = df_articles[\"article\"].map(paths_unfinished.value_counts()).fillna(0)\n",
    "df_article_path_stats[\"anyPercentage\"] = (df_article_path_stats[\"anyFinished\"] + df_article_path_stats[\"anyUnfinished\"]) / (len(paths_finished) + len(paths_unfinished))\n",
    "\n",
    "display(df_article_path_stats.sort_values(\"anyPercentage\", ascending=False).head())\n",
    "print(\"Size:\", df_article_path_stats.shape)"
   ]
  },
  {
   "cell_type": "markdown",
   "metadata": {},
   "source": [
    "# Naive Analysis\n",
    "\n",
    "We conduct a naive statistical analysis to identify potential differences between paths leading to articles related to Europe (treatment group) and paths leading to articles related to other continents (control group). The t-tests for metrics such as completion status, duration, path steps, and rating provide initial insights into potential disparities between the two groups."
   ]
  },
  {
   "cell_type": "code",
   "execution_count": 43,
   "metadata": {},
   "outputs": [
    {
     "name": "stdout",
     "output_type": "stream",
     "text": [
      "isFinishedInt 2.153208373839039 0.03131578545381225\n",
      "durationInMin -1.2669158094901722 0.205202333537421\n",
      "pathSteps -3.069419741398319 0.0021482721338009847\n"
     ]
    }
   ],
   "source": [
    "df_analysis = df_paths_articles.copy()\n",
    "df_analysis[\"treatment\"] = df_analysis.targetContinent == \"Europe\"\n",
    "\n",
    "for col in [\"isFinishedInt\", \"durationInMin\", \"pathSteps\"]:\n",
    "    print(col, *scipy.stats.ttest_ind(df_analysis[df_analysis.treatment][col], df_analysis[~df_analysis.treatment][col], equal_var=False))\n"
   ]
  },
  {
   "cell_type": "markdown",
   "metadata": {},
   "source": [
    "# Matching\n",
    "\n",
    "Matching is a crucial step in observational studies to control for confounding factors and ensure a fair comparison between the treatment and control groups. In our study, we propose matching based on the following factors:\n",
    "\n",
    "- Same category of the starting article\n",
    "- Shortest path\n",
    "- Same category of the target article\n",
    "\n",
    "Matching allows us to create more comparable groups, reducing bias and increasing the reliability of our analysis. By considering these factors, we aim to create balanced groups that are comparable in terms of key characteristics. "
   ]
  },
  {
   "cell_type": "code",
   "execution_count": 44,
   "metadata": {},
   "outputs": [
    {
     "data": {
      "text/html": [
       "<div>\n",
       "<style scoped>\n",
       "    .dataframe tbody tr th:only-of-type {\n",
       "        vertical-align: middle;\n",
       "    }\n",
       "\n",
       "    .dataframe tbody tr th {\n",
       "        vertical-align: top;\n",
       "    }\n",
       "\n",
       "    .dataframe thead th {\n",
       "        text-align: right;\n",
       "    }\n",
       "</style>\n",
       "<table border=\"1\" class=\"dataframe\">\n",
       "  <thead>\n",
       "    <tr style=\"text-align: right;\">\n",
       "      <th></th>\n",
       "      <th>hashedIpAddress</th>\n",
       "      <th>timestamp</th>\n",
       "      <th>durationInSec</th>\n",
       "      <th>path</th>\n",
       "      <th>rating</th>\n",
       "      <th>backclicks</th>\n",
       "      <th>pathSteps</th>\n",
       "      <th>uniqueArticles</th>\n",
       "      <th>start</th>\n",
       "      <th>target</th>\n",
       "      <th>...</th>\n",
       "      <th>targetCategory</th>\n",
       "      <th>targetLength</th>\n",
       "      <th>targetPageRank</th>\n",
       "      <th>startContinent</th>\n",
       "      <th>startCategoryMain</th>\n",
       "      <th>startCategory</th>\n",
       "      <th>startLength</th>\n",
       "      <th>startPageRank</th>\n",
       "      <th>isFinishedInt</th>\n",
       "      <th>treatment</th>\n",
       "    </tr>\n",
       "  </thead>\n",
       "  <tbody>\n",
       "    <tr>\n",
       "      <th>8201</th>\n",
       "      <td>2eb1aba256417389</td>\n",
       "      <td>1352179248</td>\n",
       "      <td>263</td>\n",
       "      <td>[Leaning_Tower_of_Pisa, Government, Democracy,...</td>\n",
       "      <td>3.0</td>\n",
       "      <td>0</td>\n",
       "      <td>7</td>\n",
       "      <td>7</td>\n",
       "      <td>Leaning_Tower_of_Pisa</td>\n",
       "      <td>Richard_Nixon</td>\n",
       "      <td>...</td>\n",
       "      <td>[subject.People.USA_Presidents]</td>\n",
       "      <td>8056</td>\n",
       "      <td>0.000403</td>\n",
       "      <td>Europe</td>\n",
       "      <td>[Design_and_Technology]</td>\n",
       "      <td>[subject.Design_and_Technology.Architecture]</td>\n",
       "      <td>1275</td>\n",
       "      <td>0.000040</td>\n",
       "      <td>1</td>\n",
       "      <td>False</td>\n",
       "    </tr>\n",
       "    <tr>\n",
       "      <th>18479</th>\n",
       "      <td>291cbcb573e79d58</td>\n",
       "      <td>1344681398</td>\n",
       "      <td>19</td>\n",
       "      <td>[Harlem_Globetrotters, Austria, Switzerland, Z...</td>\n",
       "      <td>NaN</td>\n",
       "      <td>0</td>\n",
       "      <td>4</td>\n",
       "      <td>4</td>\n",
       "      <td>Harlem_Globetrotters</td>\n",
       "      <td>Z%C3%BCrich</td>\n",
       "      <td>...</td>\n",
       "      <td>[subject.Geography.European_Geography]</td>\n",
       "      <td>3081</td>\n",
       "      <td>0.000177</td>\n",
       "      <td>North America</td>\n",
       "      <td>[Everyday_life]</td>\n",
       "      <td>[subject.Everyday_life.Sports_teams]</td>\n",
       "      <td>2053</td>\n",
       "      <td>0.000061</td>\n",
       "      <td>1</td>\n",
       "      <td>True</td>\n",
       "    </tr>\n",
       "    <tr>\n",
       "      <th>6101</th>\n",
       "      <td>28ed64876d7d2fcb</td>\n",
       "      <td>1330484711</td>\n",
       "      <td>65</td>\n",
       "      <td>[Pel%C3%A9, United_Nations, United_Kingdom, Sc...</td>\n",
       "      <td>1.0</td>\n",
       "      <td>0</td>\n",
       "      <td>4</td>\n",
       "      <td>4</td>\n",
       "      <td>Pel%C3%A9</td>\n",
       "      <td>Scotland</td>\n",
       "      <td>...</td>\n",
       "      <td>[subject.Geography.Geography_of_Great_Britain]</td>\n",
       "      <td>8044</td>\n",
       "      <td>0.002839</td>\n",
       "      <td>South America</td>\n",
       "      <td>[People]</td>\n",
       "      <td>[subject.People.Sports_and_games_people]</td>\n",
       "      <td>3465</td>\n",
       "      <td>0.000119</td>\n",
       "      <td>1</td>\n",
       "      <td>True</td>\n",
       "    </tr>\n",
       "    <tr>\n",
       "      <th>2719</th>\n",
       "      <td>6887a3157f124771</td>\n",
       "      <td>1350940289</td>\n",
       "      <td>175</td>\n",
       "      <td>[Niagara_Falls, English_Channel, United_Kingdo...</td>\n",
       "      <td>NaN</td>\n",
       "      <td>0</td>\n",
       "      <td>4</td>\n",
       "      <td>4</td>\n",
       "      <td>Niagara_Falls</td>\n",
       "      <td>Llywelyn_the_Great</td>\n",
       "      <td>...</td>\n",
       "      <td>[subject.History.British_History.British_Histo...</td>\n",
       "      <td>4967</td>\n",
       "      <td>0.000051</td>\n",
       "      <td>North America</td>\n",
       "      <td>[Geography]</td>\n",
       "      <td>[subject.Geography.North_American_Geography]</td>\n",
       "      <td>4556</td>\n",
       "      <td>0.000101</td>\n",
       "      <td>0</td>\n",
       "      <td>True</td>\n",
       "    </tr>\n",
       "    <tr>\n",
       "      <th>17321</th>\n",
       "      <td>0d57c8c57d75e2f5</td>\n",
       "      <td>1285771412</td>\n",
       "      <td>79</td>\n",
       "      <td>[Vladimir_Lenin, London, M25_motorway, M1_moto...</td>\n",
       "      <td>1.0</td>\n",
       "      <td>0</td>\n",
       "      <td>5</td>\n",
       "      <td>5</td>\n",
       "      <td>Vladimir_Lenin</td>\n",
       "      <td>M6_motorway</td>\n",
       "      <td>...</td>\n",
       "      <td>[subject.Geography.Geography_of_Great_Britain,...</td>\n",
       "      <td>2248</td>\n",
       "      <td>0.000053</td>\n",
       "      <td>Europe</td>\n",
       "      <td>[People]</td>\n",
       "      <td>[subject.People.Political_People]</td>\n",
       "      <td>4655</td>\n",
       "      <td>0.000299</td>\n",
       "      <td>1</td>\n",
       "      <td>True</td>\n",
       "    </tr>\n",
       "  </tbody>\n",
       "</table>\n",
       "<p>5 rows × 26 columns</p>\n",
       "</div>"
      ],
      "text/plain": [
       "        hashedIpAddress   timestamp  durationInSec  \\\n",
       "8201   2eb1aba256417389  1352179248            263   \n",
       "18479  291cbcb573e79d58  1344681398             19   \n",
       "6101   28ed64876d7d2fcb  1330484711             65   \n",
       "2719   6887a3157f124771  1350940289            175   \n",
       "17321  0d57c8c57d75e2f5  1285771412             79   \n",
       "\n",
       "                                                    path  rating  backclicks  \\\n",
       "8201   [Leaning_Tower_of_Pisa, Government, Democracy,...     3.0           0   \n",
       "18479  [Harlem_Globetrotters, Austria, Switzerland, Z...     NaN           0   \n",
       "6101   [Pel%C3%A9, United_Nations, United_Kingdom, Sc...     1.0           0   \n",
       "2719   [Niagara_Falls, English_Channel, United_Kingdo...     NaN           0   \n",
       "17321  [Vladimir_Lenin, London, M25_motorway, M1_moto...     1.0           0   \n",
       "\n",
       "       pathSteps  uniqueArticles                  start              target  \\\n",
       "8201           7               7  Leaning_Tower_of_Pisa       Richard_Nixon   \n",
       "18479          4               4   Harlem_Globetrotters         Z%C3%BCrich   \n",
       "6101           4               4              Pel%C3%A9            Scotland   \n",
       "2719           4               4          Niagara_Falls  Llywelyn_the_Great   \n",
       "17321          5               5         Vladimir_Lenin         M6_motorway   \n",
       "\n",
       "       ...                                     targetCategory targetLength  \\\n",
       "8201   ...                    [subject.People.USA_Presidents]         8056   \n",
       "18479  ...             [subject.Geography.European_Geography]         3081   \n",
       "6101   ...     [subject.Geography.Geography_of_Great_Britain]         8044   \n",
       "2719   ...  [subject.History.British_History.British_Histo...         4967   \n",
       "17321  ...  [subject.Geography.Geography_of_Great_Britain,...         2248   \n",
       "\n",
       "       targetPageRank  startContinent        startCategoryMain  \\\n",
       "8201         0.000403          Europe  [Design_and_Technology]   \n",
       "18479        0.000177   North America          [Everyday_life]   \n",
       "6101         0.002839   South America                 [People]   \n",
       "2719         0.000051   North America              [Geography]   \n",
       "17321        0.000053          Europe                 [People]   \n",
       "\n",
       "                                      startCategory startLength  \\\n",
       "8201   [subject.Design_and_Technology.Architecture]        1275   \n",
       "18479          [subject.Everyday_life.Sports_teams]        2053   \n",
       "6101       [subject.People.Sports_and_games_people]        3465   \n",
       "2719   [subject.Geography.North_American_Geography]        4556   \n",
       "17321             [subject.People.Political_People]        4655   \n",
       "\n",
       "       startPageRank  isFinishedInt treatment  \n",
       "8201        0.000040              1     False  \n",
       "18479       0.000061              1      True  \n",
       "6101        0.000119              1      True  \n",
       "2719        0.000101              0      True  \n",
       "17321       0.000299              1      True  \n",
       "\n",
       "[5 rows x 26 columns]"
      ]
     },
     "metadata": {},
     "output_type": "display_data"
    },
    {
     "name": "stdout",
     "output_type": "stream",
     "text": [
      "Size: (12342, 26)\n"
     ]
    }
   ],
   "source": [
    "with open(os.path.join(\"Data\", \"matching.pkl\"), \"rb\") as file:\n",
    "    matched_indices = pickle.load(file)\n",
    "\n",
    "matched_indices = [i[0] for i in list(matched_indices)] + [i[1] for i in list(matched_indices)]\n",
    "df_analysis_balanced = df_analysis.iloc[matched_indices]\n",
    "\n",
    "display(df_analysis_balanced.head())\n",
    "print(\"Size:\", df_analysis_balanced.shape)\n"
   ]
  },
  {
   "cell_type": "markdown",
   "metadata": {},
   "source": [
    "# Observation Study\n",
    "\n",
    "This study aims to uncover trends and patterns in the behavior of players when interacting with articles associated with Europe compared to other continents.\n",
    "\n",
    "The matched groups, created through the matching process, provide a controlled environment for analysis.\n",
    "\n",
    "By controlling for confounding factors through matching, we aim to derive meaningful and reliable conclusions about the influence of geographical factors on user experiences in the Wikispeedia game."
   ]
  },
  {
   "cell_type": "code",
   "execution_count": 45,
   "metadata": {},
   "outputs": [
    {
     "name": "stdout",
     "output_type": "stream",
     "text": [
      "isFinishedInt 0.18058607331224732 0.8566954535620267\n",
      "durationInMin -0.0915027657930923 0.9270945941633754\n",
      "pathSteps 1.3221557391528922 0.18614270027329563\n"
     ]
    }
   ],
   "source": [
    "for col in [\"isFinishedInt\", \"durationInMin\", \"pathSteps\"]:\n",
    "    print(col, *scipy.stats.ttest_ind(df_analysis_balanced[df_analysis_balanced.treatment][col], df_analysis_balanced[~df_analysis_balanced.treatment][col], equal_var=False))\n"
   ]
  },
  {
   "cell_type": "markdown",
   "metadata": {},
   "source": [
    "# Data Story Plots\n",
    "\n",
    "In preparation for the visual exploration of our data story, we generate a set of distinctive colors for each continent."
   ]
  },
  {
   "cell_type": "code",
   "execution_count": 46,
   "metadata": {},
   "outputs": [
    {
     "name": "stdout",
     "output_type": "stream",
     "text": [
      "{'Europe': (0.9677975592919913, 0.44127456009157356, 0.5358103155058701), 'North America': (0.7757319041862729, 0.5784925270759935, 0.19475566538551875), 'Australia': (0.5105309046900421, 0.6614299289084904, 0.1930849118538962), 'Asia': (0.20433460114757862, 0.6863857739476534, 0.5407103379425205), 'Africa': (0.21662978923073606, 0.6676586160122123, 0.7318695594345369), 'South America': (0.5049017849530067, 0.5909119231215284, 0.9584657252128558), 'Antarctica': (0.9587050080494409, 0.3662259565791742, 0.9231469575614251)}\n",
      "{'Europe': '#f67088', 'North America': '#c59331', 'Australia': '#82a831', 'Asia': '#34af89', 'Africa': '#37aaba', 'South America': '#8096f4', 'Antarctica': '#f45deb'}\n"
     ]
    }
   ],
   "source": [
    "continents = df_continents[\"continent\"].unique()\n",
    "random_colors = sns.color_palette(\"husl\", n_colors=len(continents))\n",
    "continents_colors = {}\n",
    "continents_colors_int = {}\n",
    "for i in range(len(continents)):\n",
    "    continents_colors[continents[i]] = random_colors[i]\n",
    "    continents_colors_int[continents[i]] = tuple(map(lambda x: int(255 * x), random_colors[i]))\n",
    "    continents_colors_int[continents[i]] = \"#{0:02x}{1:02x}{2:02x}\".format(*continents_colors_int[continents[i]])\n",
    "print(continents_colors)\n",
    "print(continents_colors_int)\n",
    "\n",
    "CONTINENTS_NUM = len(continents_colors)\n",
    "\n",
    "TREATMENT_LABEL = \"Europe\"\n",
    "CONTROL_LABEL = \"Other\""
   ]
  },
  {
   "cell_type": "markdown",
   "metadata": {},
   "source": [
    "## Plot 1: Number of Articles per Continent"
   ]
  },
  {
   "cell_type": "code",
   "execution_count": 47,
   "metadata": {},
   "outputs": [
    {
     "data": {
      "application/vnd.plotly.v1+json": {
       "config": {
        "plotlyServerURL": "https://plot.ly"
       },
       "data": [
        {
         "labels": [
          "Africa",
          "Antarctica",
          "Asia",
          "Australia",
          "Europe",
          "North America",
          "South America"
         ],
         "marker": {
          "colors": [
           "#37aaba",
           "#f45deb",
           "#34af89",
           "#82a831",
           "#f67088",
           "#c59331",
           "#8096f4"
          ]
         },
         "pull": [
          0,
          0,
          0,
          0,
          0.1,
          0,
          0
         ],
         "sort": false,
         "type": "pie",
         "values": [
          265,
          9,
          377,
          122,
          1245,
          593,
          123
         ]
        }
       ],
       "layout": {
        "height": 600,
        "template": {
         "data": {
          "bar": [
           {
            "error_x": {
             "color": "#2a3f5f"
            },
            "error_y": {
             "color": "#2a3f5f"
            },
            "marker": {
             "line": {
              "color": "#E5ECF6",
              "width": 0.5
             },
             "pattern": {
              "fillmode": "overlay",
              "size": 10,
              "solidity": 0.2
             }
            },
            "type": "bar"
           }
          ],
          "barpolar": [
           {
            "marker": {
             "line": {
              "color": "#E5ECF6",
              "width": 0.5
             },
             "pattern": {
              "fillmode": "overlay",
              "size": 10,
              "solidity": 0.2
             }
            },
            "type": "barpolar"
           }
          ],
          "carpet": [
           {
            "aaxis": {
             "endlinecolor": "#2a3f5f",
             "gridcolor": "white",
             "linecolor": "white",
             "minorgridcolor": "white",
             "startlinecolor": "#2a3f5f"
            },
            "baxis": {
             "endlinecolor": "#2a3f5f",
             "gridcolor": "white",
             "linecolor": "white",
             "minorgridcolor": "white",
             "startlinecolor": "#2a3f5f"
            },
            "type": "carpet"
           }
          ],
          "choropleth": [
           {
            "colorbar": {
             "outlinewidth": 0,
             "ticks": ""
            },
            "type": "choropleth"
           }
          ],
          "contour": [
           {
            "colorbar": {
             "outlinewidth": 0,
             "ticks": ""
            },
            "colorscale": [
             [
              0,
              "#0d0887"
             ],
             [
              0.1111111111111111,
              "#46039f"
             ],
             [
              0.2222222222222222,
              "#7201a8"
             ],
             [
              0.3333333333333333,
              "#9c179e"
             ],
             [
              0.4444444444444444,
              "#bd3786"
             ],
             [
              0.5555555555555556,
              "#d8576b"
             ],
             [
              0.6666666666666666,
              "#ed7953"
             ],
             [
              0.7777777777777778,
              "#fb9f3a"
             ],
             [
              0.8888888888888888,
              "#fdca26"
             ],
             [
              1,
              "#f0f921"
             ]
            ],
            "type": "contour"
           }
          ],
          "contourcarpet": [
           {
            "colorbar": {
             "outlinewidth": 0,
             "ticks": ""
            },
            "type": "contourcarpet"
           }
          ],
          "heatmap": [
           {
            "colorbar": {
             "outlinewidth": 0,
             "ticks": ""
            },
            "colorscale": [
             [
              0,
              "#0d0887"
             ],
             [
              0.1111111111111111,
              "#46039f"
             ],
             [
              0.2222222222222222,
              "#7201a8"
             ],
             [
              0.3333333333333333,
              "#9c179e"
             ],
             [
              0.4444444444444444,
              "#bd3786"
             ],
             [
              0.5555555555555556,
              "#d8576b"
             ],
             [
              0.6666666666666666,
              "#ed7953"
             ],
             [
              0.7777777777777778,
              "#fb9f3a"
             ],
             [
              0.8888888888888888,
              "#fdca26"
             ],
             [
              1,
              "#f0f921"
             ]
            ],
            "type": "heatmap"
           }
          ],
          "heatmapgl": [
           {
            "colorbar": {
             "outlinewidth": 0,
             "ticks": ""
            },
            "colorscale": [
             [
              0,
              "#0d0887"
             ],
             [
              0.1111111111111111,
              "#46039f"
             ],
             [
              0.2222222222222222,
              "#7201a8"
             ],
             [
              0.3333333333333333,
              "#9c179e"
             ],
             [
              0.4444444444444444,
              "#bd3786"
             ],
             [
              0.5555555555555556,
              "#d8576b"
             ],
             [
              0.6666666666666666,
              "#ed7953"
             ],
             [
              0.7777777777777778,
              "#fb9f3a"
             ],
             [
              0.8888888888888888,
              "#fdca26"
             ],
             [
              1,
              "#f0f921"
             ]
            ],
            "type": "heatmapgl"
           }
          ],
          "histogram": [
           {
            "marker": {
             "pattern": {
              "fillmode": "overlay",
              "size": 10,
              "solidity": 0.2
             }
            },
            "type": "histogram"
           }
          ],
          "histogram2d": [
           {
            "colorbar": {
             "outlinewidth": 0,
             "ticks": ""
            },
            "colorscale": [
             [
              0,
              "#0d0887"
             ],
             [
              0.1111111111111111,
              "#46039f"
             ],
             [
              0.2222222222222222,
              "#7201a8"
             ],
             [
              0.3333333333333333,
              "#9c179e"
             ],
             [
              0.4444444444444444,
              "#bd3786"
             ],
             [
              0.5555555555555556,
              "#d8576b"
             ],
             [
              0.6666666666666666,
              "#ed7953"
             ],
             [
              0.7777777777777778,
              "#fb9f3a"
             ],
             [
              0.8888888888888888,
              "#fdca26"
             ],
             [
              1,
              "#f0f921"
             ]
            ],
            "type": "histogram2d"
           }
          ],
          "histogram2dcontour": [
           {
            "colorbar": {
             "outlinewidth": 0,
             "ticks": ""
            },
            "colorscale": [
             [
              0,
              "#0d0887"
             ],
             [
              0.1111111111111111,
              "#46039f"
             ],
             [
              0.2222222222222222,
              "#7201a8"
             ],
             [
              0.3333333333333333,
              "#9c179e"
             ],
             [
              0.4444444444444444,
              "#bd3786"
             ],
             [
              0.5555555555555556,
              "#d8576b"
             ],
             [
              0.6666666666666666,
              "#ed7953"
             ],
             [
              0.7777777777777778,
              "#fb9f3a"
             ],
             [
              0.8888888888888888,
              "#fdca26"
             ],
             [
              1,
              "#f0f921"
             ]
            ],
            "type": "histogram2dcontour"
           }
          ],
          "mesh3d": [
           {
            "colorbar": {
             "outlinewidth": 0,
             "ticks": ""
            },
            "type": "mesh3d"
           }
          ],
          "parcoords": [
           {
            "line": {
             "colorbar": {
              "outlinewidth": 0,
              "ticks": ""
             }
            },
            "type": "parcoords"
           }
          ],
          "pie": [
           {
            "automargin": true,
            "type": "pie"
           }
          ],
          "scatter": [
           {
            "fillpattern": {
             "fillmode": "overlay",
             "size": 10,
             "solidity": 0.2
            },
            "type": "scatter"
           }
          ],
          "scatter3d": [
           {
            "line": {
             "colorbar": {
              "outlinewidth": 0,
              "ticks": ""
             }
            },
            "marker": {
             "colorbar": {
              "outlinewidth": 0,
              "ticks": ""
             }
            },
            "type": "scatter3d"
           }
          ],
          "scattercarpet": [
           {
            "marker": {
             "colorbar": {
              "outlinewidth": 0,
              "ticks": ""
             }
            },
            "type": "scattercarpet"
           }
          ],
          "scattergeo": [
           {
            "marker": {
             "colorbar": {
              "outlinewidth": 0,
              "ticks": ""
             }
            },
            "type": "scattergeo"
           }
          ],
          "scattergl": [
           {
            "marker": {
             "colorbar": {
              "outlinewidth": 0,
              "ticks": ""
             }
            },
            "type": "scattergl"
           }
          ],
          "scattermapbox": [
           {
            "marker": {
             "colorbar": {
              "outlinewidth": 0,
              "ticks": ""
             }
            },
            "type": "scattermapbox"
           }
          ],
          "scatterpolar": [
           {
            "marker": {
             "colorbar": {
              "outlinewidth": 0,
              "ticks": ""
             }
            },
            "type": "scatterpolar"
           }
          ],
          "scatterpolargl": [
           {
            "marker": {
             "colorbar": {
              "outlinewidth": 0,
              "ticks": ""
             }
            },
            "type": "scatterpolargl"
           }
          ],
          "scatterternary": [
           {
            "marker": {
             "colorbar": {
              "outlinewidth": 0,
              "ticks": ""
             }
            },
            "type": "scatterternary"
           }
          ],
          "surface": [
           {
            "colorbar": {
             "outlinewidth": 0,
             "ticks": ""
            },
            "colorscale": [
             [
              0,
              "#0d0887"
             ],
             [
              0.1111111111111111,
              "#46039f"
             ],
             [
              0.2222222222222222,
              "#7201a8"
             ],
             [
              0.3333333333333333,
              "#9c179e"
             ],
             [
              0.4444444444444444,
              "#bd3786"
             ],
             [
              0.5555555555555556,
              "#d8576b"
             ],
             [
              0.6666666666666666,
              "#ed7953"
             ],
             [
              0.7777777777777778,
              "#fb9f3a"
             ],
             [
              0.8888888888888888,
              "#fdca26"
             ],
             [
              1,
              "#f0f921"
             ]
            ],
            "type": "surface"
           }
          ],
          "table": [
           {
            "cells": {
             "fill": {
              "color": "#EBF0F8"
             },
             "line": {
              "color": "white"
             }
            },
            "header": {
             "fill": {
              "color": "#C8D4E3"
             },
             "line": {
              "color": "white"
             }
            },
            "type": "table"
           }
          ]
         },
         "layout": {
          "annotationdefaults": {
           "arrowcolor": "#2a3f5f",
           "arrowhead": 0,
           "arrowwidth": 1
          },
          "autotypenumbers": "strict",
          "coloraxis": {
           "colorbar": {
            "outlinewidth": 0,
            "ticks": ""
           }
          },
          "colorscale": {
           "diverging": [
            [
             0,
             "#8e0152"
            ],
            [
             0.1,
             "#c51b7d"
            ],
            [
             0.2,
             "#de77ae"
            ],
            [
             0.3,
             "#f1b6da"
            ],
            [
             0.4,
             "#fde0ef"
            ],
            [
             0.5,
             "#f7f7f7"
            ],
            [
             0.6,
             "#e6f5d0"
            ],
            [
             0.7,
             "#b8e186"
            ],
            [
             0.8,
             "#7fbc41"
            ],
            [
             0.9,
             "#4d9221"
            ],
            [
             1,
             "#276419"
            ]
           ],
           "sequential": [
            [
             0,
             "#0d0887"
            ],
            [
             0.1111111111111111,
             "#46039f"
            ],
            [
             0.2222222222222222,
             "#7201a8"
            ],
            [
             0.3333333333333333,
             "#9c179e"
            ],
            [
             0.4444444444444444,
             "#bd3786"
            ],
            [
             0.5555555555555556,
             "#d8576b"
            ],
            [
             0.6666666666666666,
             "#ed7953"
            ],
            [
             0.7777777777777778,
             "#fb9f3a"
            ],
            [
             0.8888888888888888,
             "#fdca26"
            ],
            [
             1,
             "#f0f921"
            ]
           ],
           "sequentialminus": [
            [
             0,
             "#0d0887"
            ],
            [
             0.1111111111111111,
             "#46039f"
            ],
            [
             0.2222222222222222,
             "#7201a8"
            ],
            [
             0.3333333333333333,
             "#9c179e"
            ],
            [
             0.4444444444444444,
             "#bd3786"
            ],
            [
             0.5555555555555556,
             "#d8576b"
            ],
            [
             0.6666666666666666,
             "#ed7953"
            ],
            [
             0.7777777777777778,
             "#fb9f3a"
            ],
            [
             0.8888888888888888,
             "#fdca26"
            ],
            [
             1,
             "#f0f921"
            ]
           ]
          },
          "colorway": [
           "#636efa",
           "#EF553B",
           "#00cc96",
           "#ab63fa",
           "#FFA15A",
           "#19d3f3",
           "#FF6692",
           "#B6E880",
           "#FF97FF",
           "#FECB52"
          ],
          "font": {
           "color": "#2a3f5f"
          },
          "geo": {
           "bgcolor": "white",
           "lakecolor": "white",
           "landcolor": "#E5ECF6",
           "showlakes": true,
           "showland": true,
           "subunitcolor": "white"
          },
          "hoverlabel": {
           "align": "left"
          },
          "hovermode": "closest",
          "mapbox": {
           "style": "light"
          },
          "paper_bgcolor": "white",
          "plot_bgcolor": "#E5ECF6",
          "polar": {
           "angularaxis": {
            "gridcolor": "white",
            "linecolor": "white",
            "ticks": ""
           },
           "bgcolor": "#E5ECF6",
           "radialaxis": {
            "gridcolor": "white",
            "linecolor": "white",
            "ticks": ""
           }
          },
          "scene": {
           "xaxis": {
            "backgroundcolor": "#E5ECF6",
            "gridcolor": "white",
            "gridwidth": 2,
            "linecolor": "white",
            "showbackground": true,
            "ticks": "",
            "zerolinecolor": "white"
           },
           "yaxis": {
            "backgroundcolor": "#E5ECF6",
            "gridcolor": "white",
            "gridwidth": 2,
            "linecolor": "white",
            "showbackground": true,
            "ticks": "",
            "zerolinecolor": "white"
           },
           "zaxis": {
            "backgroundcolor": "#E5ECF6",
            "gridcolor": "white",
            "gridwidth": 2,
            "linecolor": "white",
            "showbackground": true,
            "ticks": "",
            "zerolinecolor": "white"
           }
          },
          "shapedefaults": {
           "line": {
            "color": "#2a3f5f"
           }
          },
          "ternary": {
           "aaxis": {
            "gridcolor": "white",
            "linecolor": "white",
            "ticks": ""
           },
           "baxis": {
            "gridcolor": "white",
            "linecolor": "white",
            "ticks": ""
           },
           "bgcolor": "#E5ECF6",
           "caxis": {
            "gridcolor": "white",
            "linecolor": "white",
            "ticks": ""
           }
          },
          "title": {
           "x": 0.05
          },
          "xaxis": {
           "automargin": true,
           "gridcolor": "white",
           "linecolor": "white",
           "ticks": "",
           "title": {
            "standoff": 15
           },
           "zerolinecolor": "white",
           "zerolinewidth": 2
          },
          "yaxis": {
           "automargin": true,
           "gridcolor": "white",
           "linecolor": "white",
           "ticks": "",
           "title": {
            "standoff": 15
           },
           "zerolinecolor": "white",
           "zerolinewidth": 2
          }
         }
        },
        "title": {
         "text": "Number of articles per Continent",
         "x": 0.5
        },
        "width": 800
       }
      }
     },
     "metadata": {},
     "output_type": "display_data"
    }
   ],
   "source": [
    "fig_name = \"articles_count_per_continent\"\n",
    "fig_title = \"Number of articles per Continent\"\n",
    "fig_ylabel = \"Count\"\n",
    "fig_xlabel = \"Continent\"\n",
    "\n",
    "\n",
    "# fig = px.bar(\n",
    "#     x=article_count_per_continent.index,\n",
    "#     y=article_count_per_continent.values,\n",
    "#     color=[continents_colors_int[continent] for continent in article_count_per_continent.index],\n",
    "#     color_discrete_map=\"identity\",\n",
    "#     labels={\"index\": fig_ylabel, \"value\": fig_xlabel},\n",
    "\n",
    "# )\n",
    "# fig.update_layout(\n",
    "#     title_text=fig_title,\n",
    "#     title_x=0.5,\n",
    "#     #xaxis=dict(tickangle=-45),\n",
    "#     width=FIGURE_WIDTH,\n",
    "#     height=FIGURE_HEIGHT,\n",
    "# )\n",
    "\n",
    "# fig.update_xaxes(title_text=\"Continent\")\n",
    "# fig.update_yaxes(title_text=\"Count\")\n",
    "\n",
    "# fig.write_image(os.path.join(PLOTS_PATH_PX, f\"{fig_name}_bar.pdf\"))\n",
    "# fig.write_html(os.path.join(PLOTS_PATH_HTML, f\"{fig_name}_bar.html\"))\n",
    "# fig.show()\n",
    "\n",
    "pull = np.zeros_like(article_count_per_continent.index) + 0.1 * (article_count_per_continent.index == EUROPE_LABEL)\n",
    "fig = go.Figure(data=[go.Pie(\n",
    "    values=article_count_per_continent.values,\n",
    "    labels=article_count_per_continent.index.tolist(),\n",
    "    pull=pull.tolist(),\n",
    "    marker_colors=[continents_colors_int[continent] for continent in article_count_per_continent.index],\n",
    "    sort=False\n",
    ")])\n",
    "\n",
    "fig.update_layout(\n",
    "    title_text=fig_title,\n",
    "    title_x=0.5,\n",
    "    width=FIGURE_WIDTH,\n",
    "    height=FIGURE_HEIGHT,\n",
    ")\n",
    "fig.write_image(os.path.join(PLOTS_PATH_PX, f\"{fig_name}_pie.pdf\"))\n",
    "fig.write_html(os.path.join(PLOTS_PATH_HTML, f\"{fig_name}_pie.html\"))\n",
    "fig.show()\n"
   ]
  },
  {
   "cell_type": "markdown",
   "metadata": {},
   "source": [
    "## Plot 2: Continent Distribution per Category\n",
    "\n",
    "This visualization explores the distribution of articles across different continents within various categories. The bar chart provides an overview of the article count per category, while the interactive pie chart allows users to select specific categories."
   ]
  },
  {
   "cell_type": "code",
   "execution_count": 48,
   "metadata": {},
   "outputs": [
    {
     "data": {
      "application/vnd.plotly.v1+json": {
       "config": {
        "plotlyServerURL": "https://plot.ly"
       },
       "data": [
        {
         "alignmentgroup": "True",
         "hovertemplate": "continent=Africa<br>value=%{x}<br>categoryMain=%{y}<extra></extra>",
         "legendgroup": "Africa",
         "marker": {
          "color": "#37aaba",
          "pattern": {
           "shape": ""
          }
         },
         "name": "Africa",
         "offsetgroup": "Africa",
         "orientation": "h",
         "showlegend": true,
         "textposition": "auto",
         "type": "bar",
         "x": [
          0,
          0,
          0,
          1,
          2,
          1,
          4,
          2,
          9,
          4,
          61,
          52,
          30,
          17,
          143
         ],
         "xaxis": "x",
         "y": [
          "Mathematics",
          "IT",
          "Art",
          "Business_Studies",
          "Music",
          "Religion",
          "Citizenship",
          "Everyday_life",
          "Language_and_literature",
          "Design_and_Technology",
          "Science",
          "Countries",
          "History",
          "People",
          "Geography"
         ],
         "yaxis": "y"
        },
        {
         "alignmentgroup": "True",
         "hovertemplate": "continent=Antarctica<br>value=%{x}<br>categoryMain=%{y}<extra></extra>",
         "legendgroup": "Antarctica",
         "marker": {
          "color": "#f45deb",
          "pattern": {
           "shape": ""
          }
         },
         "name": "Antarctica",
         "offsetgroup": "Antarctica",
         "orientation": "h",
         "showlegend": true,
         "textposition": "auto",
         "type": "bar",
         "x": [
          0,
          0,
          0,
          0,
          0,
          0,
          0,
          0,
          0,
          0,
          3,
          0,
          0,
          0,
          7
         ],
         "xaxis": "x",
         "y": [
          "Mathematics",
          "IT",
          "Art",
          "Business_Studies",
          "Music",
          "Religion",
          "Citizenship",
          "Everyday_life",
          "Language_and_literature",
          "Design_and_Technology",
          "Science",
          "Countries",
          "History",
          "People",
          "Geography"
         ],
         "yaxis": "y"
        },
        {
         "alignmentgroup": "True",
         "hovertemplate": "continent=Asia<br>value=%{x}<br>categoryMain=%{y}<extra></extra>",
         "legendgroup": "Asia",
         "marker": {
          "color": "#34af89",
          "pattern": {
           "shape": ""
          }
         },
         "name": "Asia",
         "offsetgroup": "Asia",
         "orientation": "h",
         "showlegend": true,
         "textposition": "auto",
         "type": "bar",
         "x": [
          1,
          0,
          1,
          6,
          3,
          29,
          15,
          19,
          14,
          11,
          17,
          55,
          53,
          51,
          169
         ],
         "xaxis": "x",
         "y": [
          "Mathematics",
          "IT",
          "Art",
          "Business_Studies",
          "Music",
          "Religion",
          "Citizenship",
          "Everyday_life",
          "Language_and_literature",
          "Design_and_Technology",
          "Science",
          "Countries",
          "History",
          "People",
          "Geography"
         ],
         "yaxis": "y"
        },
        {
         "alignmentgroup": "True",
         "hovertemplate": "continent=Australia<br>value=%{x}<br>categoryMain=%{y}<extra></extra>",
         "legendgroup": "Australia",
         "marker": {
          "color": "#82a831",
          "pattern": {
           "shape": ""
          }
         },
         "name": "Australia",
         "offsetgroup": "Australia",
         "orientation": "h",
         "showlegend": true,
         "textposition": "auto",
         "type": "bar",
         "x": [
          0,
          0,
          0,
          0,
          2,
          1,
          1,
          5,
          1,
          3,
          25,
          15,
          10,
          12,
          64
         ],
         "xaxis": "x",
         "y": [
          "Mathematics",
          "IT",
          "Art",
          "Business_Studies",
          "Music",
          "Religion",
          "Citizenship",
          "Everyday_life",
          "Language_and_literature",
          "Design_and_Technology",
          "Science",
          "Countries",
          "History",
          "People",
          "Geography"
         ],
         "yaxis": "y"
        },
        {
         "alignmentgroup": "True",
         "hovertemplate": "continent=Europe<br>value=%{x}<br>categoryMain=%{y}<extra></extra>",
         "legendgroup": "Europe",
         "marker": {
          "color": "#f67088",
          "pattern": {
           "shape": ""
          }
         },
         "name": "Europe",
         "offsetgroup": "Europe",
         "orientation": "h",
         "showlegend": true,
         "textposition": "auto",
         "type": "bar",
         "x": [
          0,
          2,
          13,
          17,
          33,
          41,
          33,
          51,
          101,
          71,
          33,
          55,
          313,
          415,
          287
         ],
         "xaxis": "x",
         "y": [
          "Mathematics",
          "IT",
          "Art",
          "Business_Studies",
          "Music",
          "Religion",
          "Citizenship",
          "Everyday_life",
          "Language_and_literature",
          "Design_and_Technology",
          "Science",
          "Countries",
          "History",
          "People",
          "Geography"
         ],
         "yaxis": "y"
        },
        {
         "alignmentgroup": "True",
         "hovertemplate": "continent=North America<br>value=%{x}<br>categoryMain=%{y}<extra></extra>",
         "legendgroup": "North America",
         "marker": {
          "color": "#c59331",
          "pattern": {
           "shape": ""
          }
         },
         "name": "North America",
         "offsetgroup": "North America",
         "orientation": "h",
         "showlegend": true,
         "textposition": "auto",
         "type": "bar",
         "x": [
          0,
          4,
          0,
          7,
          18,
          5,
          26,
          51,
          15,
          59,
          28,
          4,
          53,
          183,
          166
         ],
         "xaxis": "x",
         "y": [
          "Mathematics",
          "IT",
          "Art",
          "Business_Studies",
          "Music",
          "Religion",
          "Citizenship",
          "Everyday_life",
          "Language_and_literature",
          "Design_and_Technology",
          "Science",
          "Countries",
          "History",
          "People",
          "Geography"
         ],
         "yaxis": "y"
        },
        {
         "alignmentgroup": "True",
         "hovertemplate": "continent=South America<br>value=%{x}<br>categoryMain=%{y}<extra></extra>",
         "legendgroup": "South America",
         "marker": {
          "color": "#8096f4",
          "pattern": {
           "shape": ""
          }
         },
         "name": "South America",
         "offsetgroup": "South America",
         "orientation": "h",
         "showlegend": true,
         "textposition": "auto",
         "type": "bar",
         "x": [
          0,
          0,
          0,
          0,
          10,
          0,
          1,
          0,
          0,
          1,
          11,
          48,
          9,
          9,
          85
         ],
         "xaxis": "x",
         "y": [
          "Mathematics",
          "IT",
          "Art",
          "Business_Studies",
          "Music",
          "Religion",
          "Citizenship",
          "Everyday_life",
          "Language_and_literature",
          "Design_and_Technology",
          "Science",
          "Countries",
          "History",
          "People",
          "Geography"
         ],
         "yaxis": "y"
        }
       ],
       "layout": {
        "barmode": "relative",
        "height": 600,
        "legend": {
         "title": {
          "text": ""
         },
         "tracegroupgap": 0
        },
        "template": {
         "data": {
          "bar": [
           {
            "error_x": {
             "color": "#2a3f5f"
            },
            "error_y": {
             "color": "#2a3f5f"
            },
            "marker": {
             "line": {
              "color": "#E5ECF6",
              "width": 0.5
             },
             "pattern": {
              "fillmode": "overlay",
              "size": 10,
              "solidity": 0.2
             }
            },
            "type": "bar"
           }
          ],
          "barpolar": [
           {
            "marker": {
             "line": {
              "color": "#E5ECF6",
              "width": 0.5
             },
             "pattern": {
              "fillmode": "overlay",
              "size": 10,
              "solidity": 0.2
             }
            },
            "type": "barpolar"
           }
          ],
          "carpet": [
           {
            "aaxis": {
             "endlinecolor": "#2a3f5f",
             "gridcolor": "white",
             "linecolor": "white",
             "minorgridcolor": "white",
             "startlinecolor": "#2a3f5f"
            },
            "baxis": {
             "endlinecolor": "#2a3f5f",
             "gridcolor": "white",
             "linecolor": "white",
             "minorgridcolor": "white",
             "startlinecolor": "#2a3f5f"
            },
            "type": "carpet"
           }
          ],
          "choropleth": [
           {
            "colorbar": {
             "outlinewidth": 0,
             "ticks": ""
            },
            "type": "choropleth"
           }
          ],
          "contour": [
           {
            "colorbar": {
             "outlinewidth": 0,
             "ticks": ""
            },
            "colorscale": [
             [
              0,
              "#0d0887"
             ],
             [
              0.1111111111111111,
              "#46039f"
             ],
             [
              0.2222222222222222,
              "#7201a8"
             ],
             [
              0.3333333333333333,
              "#9c179e"
             ],
             [
              0.4444444444444444,
              "#bd3786"
             ],
             [
              0.5555555555555556,
              "#d8576b"
             ],
             [
              0.6666666666666666,
              "#ed7953"
             ],
             [
              0.7777777777777778,
              "#fb9f3a"
             ],
             [
              0.8888888888888888,
              "#fdca26"
             ],
             [
              1,
              "#f0f921"
             ]
            ],
            "type": "contour"
           }
          ],
          "contourcarpet": [
           {
            "colorbar": {
             "outlinewidth": 0,
             "ticks": ""
            },
            "type": "contourcarpet"
           }
          ],
          "heatmap": [
           {
            "colorbar": {
             "outlinewidth": 0,
             "ticks": ""
            },
            "colorscale": [
             [
              0,
              "#0d0887"
             ],
             [
              0.1111111111111111,
              "#46039f"
             ],
             [
              0.2222222222222222,
              "#7201a8"
             ],
             [
              0.3333333333333333,
              "#9c179e"
             ],
             [
              0.4444444444444444,
              "#bd3786"
             ],
             [
              0.5555555555555556,
              "#d8576b"
             ],
             [
              0.6666666666666666,
              "#ed7953"
             ],
             [
              0.7777777777777778,
              "#fb9f3a"
             ],
             [
              0.8888888888888888,
              "#fdca26"
             ],
             [
              1,
              "#f0f921"
             ]
            ],
            "type": "heatmap"
           }
          ],
          "heatmapgl": [
           {
            "colorbar": {
             "outlinewidth": 0,
             "ticks": ""
            },
            "colorscale": [
             [
              0,
              "#0d0887"
             ],
             [
              0.1111111111111111,
              "#46039f"
             ],
             [
              0.2222222222222222,
              "#7201a8"
             ],
             [
              0.3333333333333333,
              "#9c179e"
             ],
             [
              0.4444444444444444,
              "#bd3786"
             ],
             [
              0.5555555555555556,
              "#d8576b"
             ],
             [
              0.6666666666666666,
              "#ed7953"
             ],
             [
              0.7777777777777778,
              "#fb9f3a"
             ],
             [
              0.8888888888888888,
              "#fdca26"
             ],
             [
              1,
              "#f0f921"
             ]
            ],
            "type": "heatmapgl"
           }
          ],
          "histogram": [
           {
            "marker": {
             "pattern": {
              "fillmode": "overlay",
              "size": 10,
              "solidity": 0.2
             }
            },
            "type": "histogram"
           }
          ],
          "histogram2d": [
           {
            "colorbar": {
             "outlinewidth": 0,
             "ticks": ""
            },
            "colorscale": [
             [
              0,
              "#0d0887"
             ],
             [
              0.1111111111111111,
              "#46039f"
             ],
             [
              0.2222222222222222,
              "#7201a8"
             ],
             [
              0.3333333333333333,
              "#9c179e"
             ],
             [
              0.4444444444444444,
              "#bd3786"
             ],
             [
              0.5555555555555556,
              "#d8576b"
             ],
             [
              0.6666666666666666,
              "#ed7953"
             ],
             [
              0.7777777777777778,
              "#fb9f3a"
             ],
             [
              0.8888888888888888,
              "#fdca26"
             ],
             [
              1,
              "#f0f921"
             ]
            ],
            "type": "histogram2d"
           }
          ],
          "histogram2dcontour": [
           {
            "colorbar": {
             "outlinewidth": 0,
             "ticks": ""
            },
            "colorscale": [
             [
              0,
              "#0d0887"
             ],
             [
              0.1111111111111111,
              "#46039f"
             ],
             [
              0.2222222222222222,
              "#7201a8"
             ],
             [
              0.3333333333333333,
              "#9c179e"
             ],
             [
              0.4444444444444444,
              "#bd3786"
             ],
             [
              0.5555555555555556,
              "#d8576b"
             ],
             [
              0.6666666666666666,
              "#ed7953"
             ],
             [
              0.7777777777777778,
              "#fb9f3a"
             ],
             [
              0.8888888888888888,
              "#fdca26"
             ],
             [
              1,
              "#f0f921"
             ]
            ],
            "type": "histogram2dcontour"
           }
          ],
          "mesh3d": [
           {
            "colorbar": {
             "outlinewidth": 0,
             "ticks": ""
            },
            "type": "mesh3d"
           }
          ],
          "parcoords": [
           {
            "line": {
             "colorbar": {
              "outlinewidth": 0,
              "ticks": ""
             }
            },
            "type": "parcoords"
           }
          ],
          "pie": [
           {
            "automargin": true,
            "type": "pie"
           }
          ],
          "scatter": [
           {
            "fillpattern": {
             "fillmode": "overlay",
             "size": 10,
             "solidity": 0.2
            },
            "type": "scatter"
           }
          ],
          "scatter3d": [
           {
            "line": {
             "colorbar": {
              "outlinewidth": 0,
              "ticks": ""
             }
            },
            "marker": {
             "colorbar": {
              "outlinewidth": 0,
              "ticks": ""
             }
            },
            "type": "scatter3d"
           }
          ],
          "scattercarpet": [
           {
            "marker": {
             "colorbar": {
              "outlinewidth": 0,
              "ticks": ""
             }
            },
            "type": "scattercarpet"
           }
          ],
          "scattergeo": [
           {
            "marker": {
             "colorbar": {
              "outlinewidth": 0,
              "ticks": ""
             }
            },
            "type": "scattergeo"
           }
          ],
          "scattergl": [
           {
            "marker": {
             "colorbar": {
              "outlinewidth": 0,
              "ticks": ""
             }
            },
            "type": "scattergl"
           }
          ],
          "scattermapbox": [
           {
            "marker": {
             "colorbar": {
              "outlinewidth": 0,
              "ticks": ""
             }
            },
            "type": "scattermapbox"
           }
          ],
          "scatterpolar": [
           {
            "marker": {
             "colorbar": {
              "outlinewidth": 0,
              "ticks": ""
             }
            },
            "type": "scatterpolar"
           }
          ],
          "scatterpolargl": [
           {
            "marker": {
             "colorbar": {
              "outlinewidth": 0,
              "ticks": ""
             }
            },
            "type": "scatterpolargl"
           }
          ],
          "scatterternary": [
           {
            "marker": {
             "colorbar": {
              "outlinewidth": 0,
              "ticks": ""
             }
            },
            "type": "scatterternary"
           }
          ],
          "surface": [
           {
            "colorbar": {
             "outlinewidth": 0,
             "ticks": ""
            },
            "colorscale": [
             [
              0,
              "#0d0887"
             ],
             [
              0.1111111111111111,
              "#46039f"
             ],
             [
              0.2222222222222222,
              "#7201a8"
             ],
             [
              0.3333333333333333,
              "#9c179e"
             ],
             [
              0.4444444444444444,
              "#bd3786"
             ],
             [
              0.5555555555555556,
              "#d8576b"
             ],
             [
              0.6666666666666666,
              "#ed7953"
             ],
             [
              0.7777777777777778,
              "#fb9f3a"
             ],
             [
              0.8888888888888888,
              "#fdca26"
             ],
             [
              1,
              "#f0f921"
             ]
            ],
            "type": "surface"
           }
          ],
          "table": [
           {
            "cells": {
             "fill": {
              "color": "#EBF0F8"
             },
             "line": {
              "color": "white"
             }
            },
            "header": {
             "fill": {
              "color": "#C8D4E3"
             },
             "line": {
              "color": "white"
             }
            },
            "type": "table"
           }
          ]
         },
         "layout": {
          "annotationdefaults": {
           "arrowcolor": "#2a3f5f",
           "arrowhead": 0,
           "arrowwidth": 1
          },
          "autotypenumbers": "strict",
          "coloraxis": {
           "colorbar": {
            "outlinewidth": 0,
            "ticks": ""
           }
          },
          "colorscale": {
           "diverging": [
            [
             0,
             "#8e0152"
            ],
            [
             0.1,
             "#c51b7d"
            ],
            [
             0.2,
             "#de77ae"
            ],
            [
             0.3,
             "#f1b6da"
            ],
            [
             0.4,
             "#fde0ef"
            ],
            [
             0.5,
             "#f7f7f7"
            ],
            [
             0.6,
             "#e6f5d0"
            ],
            [
             0.7,
             "#b8e186"
            ],
            [
             0.8,
             "#7fbc41"
            ],
            [
             0.9,
             "#4d9221"
            ],
            [
             1,
             "#276419"
            ]
           ],
           "sequential": [
            [
             0,
             "#0d0887"
            ],
            [
             0.1111111111111111,
             "#46039f"
            ],
            [
             0.2222222222222222,
             "#7201a8"
            ],
            [
             0.3333333333333333,
             "#9c179e"
            ],
            [
             0.4444444444444444,
             "#bd3786"
            ],
            [
             0.5555555555555556,
             "#d8576b"
            ],
            [
             0.6666666666666666,
             "#ed7953"
            ],
            [
             0.7777777777777778,
             "#fb9f3a"
            ],
            [
             0.8888888888888888,
             "#fdca26"
            ],
            [
             1,
             "#f0f921"
            ]
           ],
           "sequentialminus": [
            [
             0,
             "#0d0887"
            ],
            [
             0.1111111111111111,
             "#46039f"
            ],
            [
             0.2222222222222222,
             "#7201a8"
            ],
            [
             0.3333333333333333,
             "#9c179e"
            ],
            [
             0.4444444444444444,
             "#bd3786"
            ],
            [
             0.5555555555555556,
             "#d8576b"
            ],
            [
             0.6666666666666666,
             "#ed7953"
            ],
            [
             0.7777777777777778,
             "#fb9f3a"
            ],
            [
             0.8888888888888888,
             "#fdca26"
            ],
            [
             1,
             "#f0f921"
            ]
           ]
          },
          "colorway": [
           "#636efa",
           "#EF553B",
           "#00cc96",
           "#ab63fa",
           "#FFA15A",
           "#19d3f3",
           "#FF6692",
           "#B6E880",
           "#FF97FF",
           "#FECB52"
          ],
          "font": {
           "color": "#2a3f5f"
          },
          "geo": {
           "bgcolor": "white",
           "lakecolor": "white",
           "landcolor": "#E5ECF6",
           "showlakes": true,
           "showland": true,
           "subunitcolor": "white"
          },
          "hoverlabel": {
           "align": "left"
          },
          "hovermode": "closest",
          "mapbox": {
           "style": "light"
          },
          "paper_bgcolor": "white",
          "plot_bgcolor": "#E5ECF6",
          "polar": {
           "angularaxis": {
            "gridcolor": "white",
            "linecolor": "white",
            "ticks": ""
           },
           "bgcolor": "#E5ECF6",
           "radialaxis": {
            "gridcolor": "white",
            "linecolor": "white",
            "ticks": ""
           }
          },
          "scene": {
           "xaxis": {
            "backgroundcolor": "#E5ECF6",
            "gridcolor": "white",
            "gridwidth": 2,
            "linecolor": "white",
            "showbackground": true,
            "ticks": "",
            "zerolinecolor": "white"
           },
           "yaxis": {
            "backgroundcolor": "#E5ECF6",
            "gridcolor": "white",
            "gridwidth": 2,
            "linecolor": "white",
            "showbackground": true,
            "ticks": "",
            "zerolinecolor": "white"
           },
           "zaxis": {
            "backgroundcolor": "#E5ECF6",
            "gridcolor": "white",
            "gridwidth": 2,
            "linecolor": "white",
            "showbackground": true,
            "ticks": "",
            "zerolinecolor": "white"
           }
          },
          "shapedefaults": {
           "line": {
            "color": "#2a3f5f"
           }
          },
          "ternary": {
           "aaxis": {
            "gridcolor": "white",
            "linecolor": "white",
            "ticks": ""
           },
           "baxis": {
            "gridcolor": "white",
            "linecolor": "white",
            "ticks": ""
           },
           "bgcolor": "#E5ECF6",
           "caxis": {
            "gridcolor": "white",
            "linecolor": "white",
            "ticks": ""
           }
          },
          "title": {
           "x": 0.05
          },
          "xaxis": {
           "automargin": true,
           "gridcolor": "white",
           "linecolor": "white",
           "ticks": "",
           "title": {
            "standoff": 15
           },
           "zerolinecolor": "white",
           "zerolinewidth": 2
          },
          "yaxis": {
           "automargin": true,
           "gridcolor": "white",
           "linecolor": "white",
           "ticks": "",
           "title": {
            "standoff": 15
           },
           "zerolinecolor": "white",
           "zerolinewidth": 2
          }
         }
        },
        "title": {
         "text": "Continent distribution per Category",
         "x": 0.5
        },
        "width": 800,
        "xaxis": {
         "anchor": "y",
         "domain": [
          0,
          1
         ],
         "title": {
          "text": "Count"
         }
        },
        "yaxis": {
         "anchor": "x",
         "domain": [
          0,
          1
         ],
         "title": {
          "text": "Category"
         }
        }
       }
      }
     },
     "metadata": {},
     "output_type": "display_data"
    },
    {
     "data": {
      "application/vnd.plotly.v1+json": {
       "config": {
        "plotlyServerURL": "https://plot.ly"
       },
       "data": [
        {
         "labels": [
          "Africa       ",
          "Antarctica   ",
          "Asia         ",
          "Australia    ",
          "Europe       ",
          "North America",
          "South America"
         ],
         "marker": {
          "colors": [
           "#37aaba",
           "#f45deb",
           "#34af89",
           "#82a831",
           "#f67088",
           "#c59331",
           "#8096f4"
          ]
         },
         "name": "Geography",
         "pull": [
          0,
          0,
          0,
          0,
          0.1,
          0,
          0
         ],
         "sort": false,
         "type": "pie",
         "values": [
          143,
          7,
          169,
          64,
          287,
          166,
          85
         ],
         "visible": true
        },
        {
         "labels": [
          "Africa       ",
          "Asia         ",
          "Australia    ",
          "Europe       ",
          "North America",
          "South America"
         ],
         "marker": {
          "colors": [
           "#37aaba",
           "#34af89",
           "#82a831",
           "#f67088",
           "#c59331",
           "#8096f4"
          ]
         },
         "name": "People",
         "pull": [
          0,
          0,
          0,
          0.1,
          0,
          0
         ],
         "sort": false,
         "type": "pie",
         "values": [
          17,
          51,
          12,
          415,
          183,
          9
         ],
         "visible": false
        },
        {
         "labels": [
          "Africa       ",
          "Asia         ",
          "Australia    ",
          "Europe       ",
          "North America",
          "South America"
         ],
         "marker": {
          "colors": [
           "#37aaba",
           "#34af89",
           "#82a831",
           "#f67088",
           "#c59331",
           "#8096f4"
          ]
         },
         "name": "History",
         "pull": [
          0,
          0,
          0,
          0.1,
          0,
          0
         ],
         "sort": false,
         "type": "pie",
         "values": [
          30,
          53,
          10,
          313,
          53,
          9
         ],
         "visible": false
        },
        {
         "labels": [
          "Africa       ",
          "Asia         ",
          "Australia    ",
          "Europe       ",
          "North America",
          "South America"
         ],
         "marker": {
          "colors": [
           "#37aaba",
           "#34af89",
           "#82a831",
           "#f67088",
           "#c59331",
           "#8096f4"
          ]
         },
         "name": "Countries",
         "pull": [
          0,
          0,
          0,
          0.1,
          0,
          0
         ],
         "sort": false,
         "type": "pie",
         "values": [
          52,
          55,
          15,
          55,
          4,
          48
         ],
         "visible": false
        },
        {
         "labels": [
          "Africa       ",
          "Antarctica   ",
          "Asia         ",
          "Australia    ",
          "Europe       ",
          "North America",
          "South America"
         ],
         "marker": {
          "colors": [
           "#37aaba",
           "#f45deb",
           "#34af89",
           "#82a831",
           "#f67088",
           "#c59331",
           "#8096f4"
          ]
         },
         "name": "Science",
         "pull": [
          0,
          0,
          0,
          0,
          0.1,
          0,
          0
         ],
         "sort": false,
         "type": "pie",
         "values": [
          61,
          3,
          17,
          25,
          33,
          28,
          11
         ],
         "visible": false
        },
        {
         "labels": [
          "Africa       ",
          "Asia         ",
          "Australia    ",
          "Europe       ",
          "North America",
          "South America"
         ],
         "marker": {
          "colors": [
           "#37aaba",
           "#34af89",
           "#82a831",
           "#f67088",
           "#c59331",
           "#8096f4"
          ]
         },
         "name": "Design and Technology",
         "pull": [
          0,
          0,
          0,
          0.1,
          0,
          0
         ],
         "sort": false,
         "type": "pie",
         "values": [
          4,
          11,
          3,
          71,
          59,
          1
         ],
         "visible": false
        },
        {
         "labels": [
          "Africa       ",
          "Asia         ",
          "Australia    ",
          "Europe       ",
          "North America"
         ],
         "marker": {
          "colors": [
           "#37aaba",
           "#34af89",
           "#82a831",
           "#f67088",
           "#c59331"
          ]
         },
         "name": "Language and literature",
         "pull": [
          0,
          0,
          0,
          0.1,
          0
         ],
         "sort": false,
         "type": "pie",
         "values": [
          9,
          14,
          1,
          101,
          15
         ],
         "visible": false
        },
        {
         "labels": [
          "Africa       ",
          "Asia         ",
          "Australia    ",
          "Europe       ",
          "North America"
         ],
         "marker": {
          "colors": [
           "#37aaba",
           "#34af89",
           "#82a831",
           "#f67088",
           "#c59331"
          ]
         },
         "name": "Everyday life",
         "pull": [
          0,
          0,
          0,
          0.1,
          0
         ],
         "sort": false,
         "type": "pie",
         "values": [
          2,
          19,
          5,
          51,
          51
         ],
         "visible": false
        },
        {
         "labels": [
          "Africa       ",
          "Asia         ",
          "Australia    ",
          "Europe       ",
          "North America",
          "South America"
         ],
         "marker": {
          "colors": [
           "#37aaba",
           "#34af89",
           "#82a831",
           "#f67088",
           "#c59331",
           "#8096f4"
          ]
         },
         "name": "Citizenship",
         "pull": [
          0,
          0,
          0,
          0.1,
          0,
          0
         ],
         "sort": false,
         "type": "pie",
         "values": [
          4,
          15,
          1,
          33,
          26,
          1
         ],
         "visible": false
        },
        {
         "labels": [
          "Africa       ",
          "Asia         ",
          "Australia    ",
          "Europe       ",
          "North America"
         ],
         "marker": {
          "colors": [
           "#37aaba",
           "#34af89",
           "#82a831",
           "#f67088",
           "#c59331"
          ]
         },
         "name": "Religion",
         "pull": [
          0,
          0,
          0,
          0.1,
          0
         ],
         "sort": false,
         "type": "pie",
         "values": [
          1,
          29,
          1,
          41,
          5
         ],
         "visible": false
        },
        {
         "labels": [
          "Africa       ",
          "Asia         ",
          "Australia    ",
          "Europe       ",
          "North America",
          "South America"
         ],
         "marker": {
          "colors": [
           "#37aaba",
           "#34af89",
           "#82a831",
           "#f67088",
           "#c59331",
           "#8096f4"
          ]
         },
         "name": "Music",
         "pull": [
          0,
          0,
          0,
          0.1,
          0,
          0
         ],
         "sort": false,
         "type": "pie",
         "values": [
          2,
          3,
          2,
          33,
          18,
          10
         ],
         "visible": false
        },
        {
         "labels": [
          "Africa       ",
          "Asia         ",
          "Europe       ",
          "North America"
         ],
         "marker": {
          "colors": [
           "#37aaba",
           "#34af89",
           "#f67088",
           "#c59331"
          ]
         },
         "name": "Business Studies",
         "pull": [
          0,
          0,
          0.1,
          0
         ],
         "sort": false,
         "type": "pie",
         "values": [
          1,
          6,
          17,
          7
         ],
         "visible": false
        },
        {
         "labels": [
          "Asia         ",
          "Europe       "
         ],
         "marker": {
          "colors": [
           "#34af89",
           "#f67088"
          ]
         },
         "name": "Art",
         "pull": [
          0,
          0.1
         ],
         "sort": false,
         "type": "pie",
         "values": [
          1,
          13
         ],
         "visible": false
        },
        {
         "labels": [
          "Europe       ",
          "North America"
         ],
         "marker": {
          "colors": [
           "#f67088",
           "#c59331"
          ]
         },
         "name": "IT",
         "pull": [
          0.1,
          0
         ],
         "sort": false,
         "type": "pie",
         "values": [
          2,
          4
         ],
         "visible": false
        },
        {
         "labels": [
          "Asia         "
         ],
         "marker": {
          "colors": [
           "#34af89"
          ]
         },
         "name": "Mathematics",
         "pull": [
          0
         ],
         "sort": false,
         "type": "pie",
         "values": [
          1
         ],
         "visible": false
        }
       ],
       "layout": {
        "annotations": [
         {
          "showarrow": false,
          "text": "Category: Geography",
          "x": -0.3,
          "xanchor": "left",
          "y": 0.05
         }
        ],
        "height": 600,
        "legend": {
         "x": -0.3,
         "y": 0.1
        },
        "template": {
         "data": {
          "bar": [
           {
            "error_x": {
             "color": "#2a3f5f"
            },
            "error_y": {
             "color": "#2a3f5f"
            },
            "marker": {
             "line": {
              "color": "#E5ECF6",
              "width": 0.5
             },
             "pattern": {
              "fillmode": "overlay",
              "size": 10,
              "solidity": 0.2
             }
            },
            "type": "bar"
           }
          ],
          "barpolar": [
           {
            "marker": {
             "line": {
              "color": "#E5ECF6",
              "width": 0.5
             },
             "pattern": {
              "fillmode": "overlay",
              "size": 10,
              "solidity": 0.2
             }
            },
            "type": "barpolar"
           }
          ],
          "carpet": [
           {
            "aaxis": {
             "endlinecolor": "#2a3f5f",
             "gridcolor": "white",
             "linecolor": "white",
             "minorgridcolor": "white",
             "startlinecolor": "#2a3f5f"
            },
            "baxis": {
             "endlinecolor": "#2a3f5f",
             "gridcolor": "white",
             "linecolor": "white",
             "minorgridcolor": "white",
             "startlinecolor": "#2a3f5f"
            },
            "type": "carpet"
           }
          ],
          "choropleth": [
           {
            "colorbar": {
             "outlinewidth": 0,
             "ticks": ""
            },
            "type": "choropleth"
           }
          ],
          "contour": [
           {
            "colorbar": {
             "outlinewidth": 0,
             "ticks": ""
            },
            "colorscale": [
             [
              0,
              "#0d0887"
             ],
             [
              0.1111111111111111,
              "#46039f"
             ],
             [
              0.2222222222222222,
              "#7201a8"
             ],
             [
              0.3333333333333333,
              "#9c179e"
             ],
             [
              0.4444444444444444,
              "#bd3786"
             ],
             [
              0.5555555555555556,
              "#d8576b"
             ],
             [
              0.6666666666666666,
              "#ed7953"
             ],
             [
              0.7777777777777778,
              "#fb9f3a"
             ],
             [
              0.8888888888888888,
              "#fdca26"
             ],
             [
              1,
              "#f0f921"
             ]
            ],
            "type": "contour"
           }
          ],
          "contourcarpet": [
           {
            "colorbar": {
             "outlinewidth": 0,
             "ticks": ""
            },
            "type": "contourcarpet"
           }
          ],
          "heatmap": [
           {
            "colorbar": {
             "outlinewidth": 0,
             "ticks": ""
            },
            "colorscale": [
             [
              0,
              "#0d0887"
             ],
             [
              0.1111111111111111,
              "#46039f"
             ],
             [
              0.2222222222222222,
              "#7201a8"
             ],
             [
              0.3333333333333333,
              "#9c179e"
             ],
             [
              0.4444444444444444,
              "#bd3786"
             ],
             [
              0.5555555555555556,
              "#d8576b"
             ],
             [
              0.6666666666666666,
              "#ed7953"
             ],
             [
              0.7777777777777778,
              "#fb9f3a"
             ],
             [
              0.8888888888888888,
              "#fdca26"
             ],
             [
              1,
              "#f0f921"
             ]
            ],
            "type": "heatmap"
           }
          ],
          "heatmapgl": [
           {
            "colorbar": {
             "outlinewidth": 0,
             "ticks": ""
            },
            "colorscale": [
             [
              0,
              "#0d0887"
             ],
             [
              0.1111111111111111,
              "#46039f"
             ],
             [
              0.2222222222222222,
              "#7201a8"
             ],
             [
              0.3333333333333333,
              "#9c179e"
             ],
             [
              0.4444444444444444,
              "#bd3786"
             ],
             [
              0.5555555555555556,
              "#d8576b"
             ],
             [
              0.6666666666666666,
              "#ed7953"
             ],
             [
              0.7777777777777778,
              "#fb9f3a"
             ],
             [
              0.8888888888888888,
              "#fdca26"
             ],
             [
              1,
              "#f0f921"
             ]
            ],
            "type": "heatmapgl"
           }
          ],
          "histogram": [
           {
            "marker": {
             "pattern": {
              "fillmode": "overlay",
              "size": 10,
              "solidity": 0.2
             }
            },
            "type": "histogram"
           }
          ],
          "histogram2d": [
           {
            "colorbar": {
             "outlinewidth": 0,
             "ticks": ""
            },
            "colorscale": [
             [
              0,
              "#0d0887"
             ],
             [
              0.1111111111111111,
              "#46039f"
             ],
             [
              0.2222222222222222,
              "#7201a8"
             ],
             [
              0.3333333333333333,
              "#9c179e"
             ],
             [
              0.4444444444444444,
              "#bd3786"
             ],
             [
              0.5555555555555556,
              "#d8576b"
             ],
             [
              0.6666666666666666,
              "#ed7953"
             ],
             [
              0.7777777777777778,
              "#fb9f3a"
             ],
             [
              0.8888888888888888,
              "#fdca26"
             ],
             [
              1,
              "#f0f921"
             ]
            ],
            "type": "histogram2d"
           }
          ],
          "histogram2dcontour": [
           {
            "colorbar": {
             "outlinewidth": 0,
             "ticks": ""
            },
            "colorscale": [
             [
              0,
              "#0d0887"
             ],
             [
              0.1111111111111111,
              "#46039f"
             ],
             [
              0.2222222222222222,
              "#7201a8"
             ],
             [
              0.3333333333333333,
              "#9c179e"
             ],
             [
              0.4444444444444444,
              "#bd3786"
             ],
             [
              0.5555555555555556,
              "#d8576b"
             ],
             [
              0.6666666666666666,
              "#ed7953"
             ],
             [
              0.7777777777777778,
              "#fb9f3a"
             ],
             [
              0.8888888888888888,
              "#fdca26"
             ],
             [
              1,
              "#f0f921"
             ]
            ],
            "type": "histogram2dcontour"
           }
          ],
          "mesh3d": [
           {
            "colorbar": {
             "outlinewidth": 0,
             "ticks": ""
            },
            "type": "mesh3d"
           }
          ],
          "parcoords": [
           {
            "line": {
             "colorbar": {
              "outlinewidth": 0,
              "ticks": ""
             }
            },
            "type": "parcoords"
           }
          ],
          "pie": [
           {
            "automargin": true,
            "type": "pie"
           }
          ],
          "scatter": [
           {
            "fillpattern": {
             "fillmode": "overlay",
             "size": 10,
             "solidity": 0.2
            },
            "type": "scatter"
           }
          ],
          "scatter3d": [
           {
            "line": {
             "colorbar": {
              "outlinewidth": 0,
              "ticks": ""
             }
            },
            "marker": {
             "colorbar": {
              "outlinewidth": 0,
              "ticks": ""
             }
            },
            "type": "scatter3d"
           }
          ],
          "scattercarpet": [
           {
            "marker": {
             "colorbar": {
              "outlinewidth": 0,
              "ticks": ""
             }
            },
            "type": "scattercarpet"
           }
          ],
          "scattergeo": [
           {
            "marker": {
             "colorbar": {
              "outlinewidth": 0,
              "ticks": ""
             }
            },
            "type": "scattergeo"
           }
          ],
          "scattergl": [
           {
            "marker": {
             "colorbar": {
              "outlinewidth": 0,
              "ticks": ""
             }
            },
            "type": "scattergl"
           }
          ],
          "scattermapbox": [
           {
            "marker": {
             "colorbar": {
              "outlinewidth": 0,
              "ticks": ""
             }
            },
            "type": "scattermapbox"
           }
          ],
          "scatterpolar": [
           {
            "marker": {
             "colorbar": {
              "outlinewidth": 0,
              "ticks": ""
             }
            },
            "type": "scatterpolar"
           }
          ],
          "scatterpolargl": [
           {
            "marker": {
             "colorbar": {
              "outlinewidth": 0,
              "ticks": ""
             }
            },
            "type": "scatterpolargl"
           }
          ],
          "scatterternary": [
           {
            "marker": {
             "colorbar": {
              "outlinewidth": 0,
              "ticks": ""
             }
            },
            "type": "scatterternary"
           }
          ],
          "surface": [
           {
            "colorbar": {
             "outlinewidth": 0,
             "ticks": ""
            },
            "colorscale": [
             [
              0,
              "#0d0887"
             ],
             [
              0.1111111111111111,
              "#46039f"
             ],
             [
              0.2222222222222222,
              "#7201a8"
             ],
             [
              0.3333333333333333,
              "#9c179e"
             ],
             [
              0.4444444444444444,
              "#bd3786"
             ],
             [
              0.5555555555555556,
              "#d8576b"
             ],
             [
              0.6666666666666666,
              "#ed7953"
             ],
             [
              0.7777777777777778,
              "#fb9f3a"
             ],
             [
              0.8888888888888888,
              "#fdca26"
             ],
             [
              1,
              "#f0f921"
             ]
            ],
            "type": "surface"
           }
          ],
          "table": [
           {
            "cells": {
             "fill": {
              "color": "#EBF0F8"
             },
             "line": {
              "color": "white"
             }
            },
            "header": {
             "fill": {
              "color": "#C8D4E3"
             },
             "line": {
              "color": "white"
             }
            },
            "type": "table"
           }
          ]
         },
         "layout": {
          "annotationdefaults": {
           "arrowcolor": "#2a3f5f",
           "arrowhead": 0,
           "arrowwidth": 1
          },
          "autotypenumbers": "strict",
          "coloraxis": {
           "colorbar": {
            "outlinewidth": 0,
            "ticks": ""
           }
          },
          "colorscale": {
           "diverging": [
            [
             0,
             "#8e0152"
            ],
            [
             0.1,
             "#c51b7d"
            ],
            [
             0.2,
             "#de77ae"
            ],
            [
             0.3,
             "#f1b6da"
            ],
            [
             0.4,
             "#fde0ef"
            ],
            [
             0.5,
             "#f7f7f7"
            ],
            [
             0.6,
             "#e6f5d0"
            ],
            [
             0.7,
             "#b8e186"
            ],
            [
             0.8,
             "#7fbc41"
            ],
            [
             0.9,
             "#4d9221"
            ],
            [
             1,
             "#276419"
            ]
           ],
           "sequential": [
            [
             0,
             "#0d0887"
            ],
            [
             0.1111111111111111,
             "#46039f"
            ],
            [
             0.2222222222222222,
             "#7201a8"
            ],
            [
             0.3333333333333333,
             "#9c179e"
            ],
            [
             0.4444444444444444,
             "#bd3786"
            ],
            [
             0.5555555555555556,
             "#d8576b"
            ],
            [
             0.6666666666666666,
             "#ed7953"
            ],
            [
             0.7777777777777778,
             "#fb9f3a"
            ],
            [
             0.8888888888888888,
             "#fdca26"
            ],
            [
             1,
             "#f0f921"
            ]
           ],
           "sequentialminus": [
            [
             0,
             "#0d0887"
            ],
            [
             0.1111111111111111,
             "#46039f"
            ],
            [
             0.2222222222222222,
             "#7201a8"
            ],
            [
             0.3333333333333333,
             "#9c179e"
            ],
            [
             0.4444444444444444,
             "#bd3786"
            ],
            [
             0.5555555555555556,
             "#d8576b"
            ],
            [
             0.6666666666666666,
             "#ed7953"
            ],
            [
             0.7777777777777778,
             "#fb9f3a"
            ],
            [
             0.8888888888888888,
             "#fdca26"
            ],
            [
             1,
             "#f0f921"
            ]
           ]
          },
          "colorway": [
           "#636efa",
           "#EF553B",
           "#00cc96",
           "#ab63fa",
           "#FFA15A",
           "#19d3f3",
           "#FF6692",
           "#B6E880",
           "#FF97FF",
           "#FECB52"
          ],
          "font": {
           "color": "#2a3f5f"
          },
          "geo": {
           "bgcolor": "white",
           "lakecolor": "white",
           "landcolor": "#E5ECF6",
           "showlakes": true,
           "showland": true,
           "subunitcolor": "white"
          },
          "hoverlabel": {
           "align": "left"
          },
          "hovermode": "closest",
          "mapbox": {
           "style": "light"
          },
          "paper_bgcolor": "white",
          "plot_bgcolor": "#E5ECF6",
          "polar": {
           "angularaxis": {
            "gridcolor": "white",
            "linecolor": "white",
            "ticks": ""
           },
           "bgcolor": "#E5ECF6",
           "radialaxis": {
            "gridcolor": "white",
            "linecolor": "white",
            "ticks": ""
           }
          },
          "scene": {
           "xaxis": {
            "backgroundcolor": "#E5ECF6",
            "gridcolor": "white",
            "gridwidth": 2,
            "linecolor": "white",
            "showbackground": true,
            "ticks": "",
            "zerolinecolor": "white"
           },
           "yaxis": {
            "backgroundcolor": "#E5ECF6",
            "gridcolor": "white",
            "gridwidth": 2,
            "linecolor": "white",
            "showbackground": true,
            "ticks": "",
            "zerolinecolor": "white"
           },
           "zaxis": {
            "backgroundcolor": "#E5ECF6",
            "gridcolor": "white",
            "gridwidth": 2,
            "linecolor": "white",
            "showbackground": true,
            "ticks": "",
            "zerolinecolor": "white"
           }
          },
          "shapedefaults": {
           "line": {
            "color": "#2a3f5f"
           }
          },
          "ternary": {
           "aaxis": {
            "gridcolor": "white",
            "linecolor": "white",
            "ticks": ""
           },
           "baxis": {
            "gridcolor": "white",
            "linecolor": "white",
            "ticks": ""
           },
           "bgcolor": "#E5ECF6",
           "caxis": {
            "gridcolor": "white",
            "linecolor": "white",
            "ticks": ""
           }
          },
          "title": {
           "x": 0.05
          },
          "xaxis": {
           "automargin": true,
           "gridcolor": "white",
           "linecolor": "white",
           "ticks": "",
           "title": {
            "standoff": 15
           },
           "zerolinecolor": "white",
           "zerolinewidth": 2
          },
          "yaxis": {
           "automargin": true,
           "gridcolor": "white",
           "linecolor": "white",
           "ticks": "",
           "title": {
            "standoff": 15
           },
           "zerolinecolor": "white",
           "zerolinewidth": 2
          }
         }
        },
        "title": {
         "text": "Continent distribution per Category",
         "x": 0.7
        },
        "updatemenus": [
         {
          "active": 0,
          "buttons": [
           {
            "args": [
             {
              "visible": [
               true,
               false,
               false,
               false,
               false,
               false,
               false,
               false,
               false,
               false,
               false,
               false,
               false,
               false,
               false
              ]
             },
             {
              "annotations": [
               {
                "showarrow": false,
                "text": "Category: Geography",
                "x": -0.3,
                "xanchor": "left",
                "y": 0.05
               }
              ],
              "title": "Continent distribution per Category"
             }
            ],
            "label": "Geography",
            "method": "update"
           },
           {
            "args": [
             {
              "visible": [
               false,
               true,
               false,
               false,
               false,
               false,
               false,
               false,
               false,
               false,
               false,
               false,
               false,
               false,
               false
              ]
             },
             {
              "annotations": [
               {
                "showarrow": false,
                "text": "Category: People",
                "x": -0.3,
                "xanchor": "left",
                "y": 0.05
               }
              ],
              "title": "Continent distribution per Category"
             }
            ],
            "label": "People",
            "method": "update"
           },
           {
            "args": [
             {
              "visible": [
               false,
               false,
               true,
               false,
               false,
               false,
               false,
               false,
               false,
               false,
               false,
               false,
               false,
               false,
               false
              ]
             },
             {
              "annotations": [
               {
                "showarrow": false,
                "text": "Category: History",
                "x": -0.3,
                "xanchor": "left",
                "y": 0.05
               }
              ],
              "title": "Continent distribution per Category"
             }
            ],
            "label": "History",
            "method": "update"
           },
           {
            "args": [
             {
              "visible": [
               false,
               false,
               false,
               true,
               false,
               false,
               false,
               false,
               false,
               false,
               false,
               false,
               false,
               false,
               false
              ]
             },
             {
              "annotations": [
               {
                "showarrow": false,
                "text": "Category: Countries",
                "x": -0.3,
                "xanchor": "left",
                "y": 0.05
               }
              ],
              "title": "Continent distribution per Category"
             }
            ],
            "label": "Countries",
            "method": "update"
           },
           {
            "args": [
             {
              "visible": [
               false,
               false,
               false,
               false,
               true,
               false,
               false,
               false,
               false,
               false,
               false,
               false,
               false,
               false,
               false
              ]
             },
             {
              "annotations": [
               {
                "showarrow": false,
                "text": "Category: Science",
                "x": -0.3,
                "xanchor": "left",
                "y": 0.05
               }
              ],
              "title": "Continent distribution per Category"
             }
            ],
            "label": "Science",
            "method": "update"
           },
           {
            "args": [
             {
              "visible": [
               false,
               false,
               false,
               false,
               false,
               true,
               false,
               false,
               false,
               false,
               false,
               false,
               false,
               false,
               false
              ]
             },
             {
              "annotations": [
               {
                "showarrow": false,
                "text": "Category: Design and Technology",
                "x": -0.3,
                "xanchor": "left",
                "y": 0.05
               }
              ],
              "title": "Continent distribution per Category"
             }
            ],
            "label": "Design and Technology",
            "method": "update"
           },
           {
            "args": [
             {
              "visible": [
               false,
               false,
               false,
               false,
               false,
               false,
               true,
               false,
               false,
               false,
               false,
               false,
               false,
               false,
               false
              ]
             },
             {
              "annotations": [
               {
                "showarrow": false,
                "text": "Category: Language and literature",
                "x": -0.3,
                "xanchor": "left",
                "y": 0.05
               }
              ],
              "title": "Continent distribution per Category"
             }
            ],
            "label": "Language and literature",
            "method": "update"
           },
           {
            "args": [
             {
              "visible": [
               false,
               false,
               false,
               false,
               false,
               false,
               false,
               true,
               false,
               false,
               false,
               false,
               false,
               false,
               false
              ]
             },
             {
              "annotations": [
               {
                "showarrow": false,
                "text": "Category: Everyday life",
                "x": -0.3,
                "xanchor": "left",
                "y": 0.05
               }
              ],
              "title": "Continent distribution per Category"
             }
            ],
            "label": "Everyday life",
            "method": "update"
           },
           {
            "args": [
             {
              "visible": [
               false,
               false,
               false,
               false,
               false,
               false,
               false,
               false,
               true,
               false,
               false,
               false,
               false,
               false,
               false
              ]
             },
             {
              "annotations": [
               {
                "showarrow": false,
                "text": "Category: Citizenship",
                "x": -0.3,
                "xanchor": "left",
                "y": 0.05
               }
              ],
              "title": "Continent distribution per Category"
             }
            ],
            "label": "Citizenship",
            "method": "update"
           },
           {
            "args": [
             {
              "visible": [
               false,
               false,
               false,
               false,
               false,
               false,
               false,
               false,
               false,
               true,
               false,
               false,
               false,
               false,
               false
              ]
             },
             {
              "annotations": [
               {
                "showarrow": false,
                "text": "Category: Religion",
                "x": -0.3,
                "xanchor": "left",
                "y": 0.05
               }
              ],
              "title": "Continent distribution per Category"
             }
            ],
            "label": "Religion",
            "method": "update"
           },
           {
            "args": [
             {
              "visible": [
               false,
               false,
               false,
               false,
               false,
               false,
               false,
               false,
               false,
               false,
               true,
               false,
               false,
               false,
               false
              ]
             },
             {
              "annotations": [
               {
                "showarrow": false,
                "text": "Category: Music",
                "x": -0.3,
                "xanchor": "left",
                "y": 0.05
               }
              ],
              "title": "Continent distribution per Category"
             }
            ],
            "label": "Music",
            "method": "update"
           },
           {
            "args": [
             {
              "visible": [
               false,
               false,
               false,
               false,
               false,
               false,
               false,
               false,
               false,
               false,
               false,
               true,
               false,
               false,
               false
              ]
             },
             {
              "annotations": [
               {
                "showarrow": false,
                "text": "Category: Business Studies",
                "x": -0.3,
                "xanchor": "left",
                "y": 0.05
               }
              ],
              "title": "Continent distribution per Category"
             }
            ],
            "label": "Business Studies",
            "method": "update"
           },
           {
            "args": [
             {
              "visible": [
               false,
               false,
               false,
               false,
               false,
               false,
               false,
               false,
               false,
               false,
               false,
               false,
               true,
               false,
               false
              ]
             },
             {
              "annotations": [
               {
                "showarrow": false,
                "text": "Category: Art",
                "x": -0.3,
                "xanchor": "left",
                "y": 0.05
               }
              ],
              "title": "Continent distribution per Category"
             }
            ],
            "label": "Art",
            "method": "update"
           },
           {
            "args": [
             {
              "visible": [
               false,
               false,
               false,
               false,
               false,
               false,
               false,
               false,
               false,
               false,
               false,
               false,
               false,
               true,
               false
              ]
             },
             {
              "annotations": [
               {
                "showarrow": false,
                "text": "Category: IT",
                "x": -0.3,
                "xanchor": "left",
                "y": 0.05
               }
              ],
              "title": "Continent distribution per Category"
             }
            ],
            "label": "IT",
            "method": "update"
           },
           {
            "args": [
             {
              "visible": [
               false,
               false,
               false,
               false,
               false,
               false,
               false,
               false,
               false,
               false,
               false,
               false,
               false,
               false,
               true
              ]
             },
             {
              "annotations": [
               {
                "showarrow": false,
                "text": "Category: Mathematics",
                "x": -0.3,
                "xanchor": "left",
                "y": 0.05
               }
              ],
              "title": "Continent distribution per Category"
             }
            ],
            "label": "Mathematics",
            "method": "update"
           }
          ]
         }
        ],
        "width": 800
       }
      }
     },
     "metadata": {},
     "output_type": "display_data"
    }
   ],
   "source": [
    "fig_name = \"articles_count_per_category\"\n",
    "fig_title = \"Continent distribution per Category\"\n",
    "fig_xlabel = \"Article Count\"\n",
    "fig_ylabel = \"Category\"\n",
    "\n",
    "\n",
    "categories_sorted = df_continents_categories_counts.sum(axis=\"index\").sort_values().index\n",
    "\n",
    "fig = px.bar(\n",
    "    df_continents_categories_counts.T.loc[categories_sorted],\n",
    "    orientation =\"h\",\n",
    "    title=fig_title,\n",
    "    color_discrete_sequence=[continents_colors_int[continent] for continent in df_continents_categories_counts.index],\n",
    ")\n",
    "\n",
    "fig.update_xaxes(title_text=\"Count\")\n",
    "fig.update_yaxes(title_text=\"Category\")\n",
    "\n",
    "fig.update_layout(\n",
    "    legend_title_text=\"\",\n",
    "    title_x=0.5,\n",
    "    width=FIGURE_WIDTH,\n",
    "    height=FIGURE_HEIGHT    \n",
    ")\n",
    "fig.write_html(os.path.join(PLOTS_PATH_HTML, f\"{fig_name}_bar.html\"))\n",
    "fig.write_image(os.path.join(PLOTS_PATH_PX, f\"{fig_name}_bar.pdf\"))\n",
    "fig.show()\n",
    "\n",
    "\n",
    "fig = go.Figure()\n",
    "\n",
    "annotations = {}\n",
    "buttons = []\n",
    "visible = True\n",
    "mask = [False] * len(categories_sorted)\n",
    "max_name_len = max(len(name) for name in continents)\n",
    "for category_idx, category in enumerate(reversed(categories_sorted)):\n",
    "    category_data = df_continents_categories_counts[category]\n",
    "    category_data = category_data[category_data > 0]\n",
    "\n",
    "    category_name = category.replace(\"_\", \" \")\n",
    "    labels = [f\"{name : <{max_name_len}}\" for name in category_data.index]\n",
    "\n",
    "    pull = np.zeros_like(category_data.index) + 0.1 * (category_data.index == EUROPE_LABEL)\n",
    "    fig.add_trace(go.Pie(\n",
    "        labels=labels,\n",
    "        values=category_data.values,\n",
    "        pull=pull.tolist(),\n",
    "        marker_colors=[continents_colors_int[continent] for continent in category_data.index],\n",
    "        visible=visible,\n",
    "        name=category_name,\n",
    "        sort=False\n",
    "    ))\n",
    "\n",
    "    annotation = dict(\n",
    "        text=f\"Category: {category_name}\",\n",
    "        x=-0.3,\n",
    "        y=0.05,\n",
    "        xanchor=\"left\",\n",
    "        showarrow=False\n",
    "    )\n",
    "    if visible:\n",
    "        fig.add_annotation(annotation)\n",
    "\n",
    "    mask[category_idx] = True\n",
    "    buttons.append(dict(\n",
    "        label=category_name,\n",
    "        method=\"update\",\n",
    "        args=[\n",
    "            {\"visible\": list(mask)},\n",
    "            {\"title\": fig_title, \"annotations\": [annotation]}\n",
    "        ]\n",
    "    ))\n",
    "    mask[category_idx] = False\n",
    "    visible=False\n",
    "\n",
    "fig.update_layout(\n",
    "    title_text=fig_title,\n",
    "    title_x=0.7,\n",
    "    width=FIGURE_WIDTH,\n",
    "    height=FIGURE_HEIGHT,\n",
    "    legend=dict(\n",
    "        x=-0.3,\n",
    "        y=0.1\n",
    "    )\n",
    ")\n",
    "\n",
    "\n",
    "fig.update_layout(\n",
    "    updatemenus=[\n",
    "        dict(\n",
    "            active=0,\n",
    "            buttons=buttons\n",
    "        )\n",
    "    ]\n",
    ")\n",
    "\n",
    "fig.write_html(os.path.join(PLOTS_PATH_HTML, f\"{fig_name}_pie.html\"))\n",
    "fig.write_image(os.path.join(PLOTS_PATH_PX, f\"{fig_name}_pie.pdf\"))\n",
    "fig.show()"
   ]
  },
  {
   "cell_type": "markdown",
   "metadata": {},
   "source": [
    "## Plot 3"
   ]
  },
  {
   "cell_type": "code",
   "execution_count": 49,
   "metadata": {},
   "outputs": [
    {
     "data": {
      "application/vnd.plotly.v1+json": {
       "config": {
        "plotlyServerURL": "https://plot.ly"
       },
       "data": [
        {
         "hovertemplate": "0.032",
         "marker": {
          "color": "#8096f4"
         },
         "name": "South America",
         "type": "bar",
         "visible": true,
         "x": [
          "Other"
         ],
         "y": [
          0.03188436048635391
         ]
        },
        {
         "hovertemplate": "0.165",
         "marker": {
          "color": "#c59331"
         },
         "name": "North America",
         "type": "bar",
         "visible": true,
         "x": [
          "Other"
         ],
         "y": [
          0.16469237593278716
         ]
        },
        {
         "hovertemplate": "0.304",
         "marker": {
          "color": "#f67088"
         },
         "name": "Europe",
         "type": "bar",
         "visible": true,
         "x": [
          "Europe"
         ],
         "y": [
          0.3040755622814799
         ]
        },
        {
         "hovertemplate": "0.028",
         "marker": {
          "color": "#82a831"
         },
         "name": "Australia",
         "type": "bar",
         "visible": true,
         "x": [
          "Other"
         ],
         "y": [
          0.02807493607472734
         ]
        },
        {
         "hovertemplate": "0.105",
         "marker": {
          "color": "#34af89"
         },
         "name": "Asia",
         "type": "bar",
         "visible": true,
         "x": [
          "Other"
         ],
         "y": [
          0.10468089547565622
         ]
        },
        {
         "hovertemplate": "0.003",
         "marker": {
          "color": "#f45deb"
         },
         "name": "Antarctica",
         "type": "bar",
         "visible": true,
         "x": [
          "Other"
         ],
         "y": [
          0.0033919532432291396
         ]
        },
        {
         "hovertemplate": "0.072",
         "marker": {
          "color": "#37aaba"
         },
         "name": "Africa",
         "type": "bar",
         "visible": true,
         "x": [
          "Other"
         ],
         "y": [
          0.07159630538015968
         ]
        },
        {
         "hovertemplate": "0.038",
         "marker": {
          "color": "#8096f4"
         },
         "name": "South America",
         "type": "bar",
         "visible": false,
         "x": [
          "Other"
         ],
         "y": [
          0.03819861190836508
         ]
        },
        {
         "hovertemplate": "0.144",
         "marker": {
          "color": "#c59331"
         },
         "name": "North America",
         "type": "bar",
         "visible": false,
         "x": [
          "Other"
         ],
         "y": [
          0.14418410478526328
         ]
        },
        {
         "hovertemplate": "0.305",
         "marker": {
          "color": "#f67088"
         },
         "name": "Europe",
         "type": "bar",
         "visible": false,
         "x": [
          "Europe"
         ],
         "y": [
          0.30454521734592704
         ]
        },
        {
         "hovertemplate": "0.024",
         "marker": {
          "color": "#82a831"
         },
         "name": "Australia",
         "type": "bar",
         "visible": false,
         "x": [
          "Other"
         ],
         "y": [
          0.02358712101445494
         ]
        },
        {
         "hovertemplate": "0.120",
         "marker": {
          "color": "#34af89"
         },
         "name": "Asia",
         "type": "bar",
         "visible": false,
         "x": [
          "Other"
         ],
         "y": [
          0.12012732870636121
         ]
        },
        {
         "hovertemplate": "0.005",
         "marker": {
          "color": "#f45deb"
         },
         "name": "Antarctica",
         "type": "bar",
         "visible": false,
         "x": [
          "Other"
         ],
         "y": [
          0.004539998956322079
         ]
        },
        {
         "hovertemplate": "0.073",
         "marker": {
          "color": "#37aaba"
         },
         "name": "Africa",
         "type": "bar",
         "visible": false,
         "x": [
          "Other"
         ],
         "y": [
          0.07321400615769974
         ]
        }
       ],
       "layout": {
        "barmode": "stack",
        "height": 600,
        "template": {
         "data": {
          "bar": [
           {
            "error_x": {
             "color": "#2a3f5f"
            },
            "error_y": {
             "color": "#2a3f5f"
            },
            "marker": {
             "line": {
              "color": "#E5ECF6",
              "width": 0.5
             },
             "pattern": {
              "fillmode": "overlay",
              "size": 10,
              "solidity": 0.2
             }
            },
            "type": "bar"
           }
          ],
          "barpolar": [
           {
            "marker": {
             "line": {
              "color": "#E5ECF6",
              "width": 0.5
             },
             "pattern": {
              "fillmode": "overlay",
              "size": 10,
              "solidity": 0.2
             }
            },
            "type": "barpolar"
           }
          ],
          "carpet": [
           {
            "aaxis": {
             "endlinecolor": "#2a3f5f",
             "gridcolor": "white",
             "linecolor": "white",
             "minorgridcolor": "white",
             "startlinecolor": "#2a3f5f"
            },
            "baxis": {
             "endlinecolor": "#2a3f5f",
             "gridcolor": "white",
             "linecolor": "white",
             "minorgridcolor": "white",
             "startlinecolor": "#2a3f5f"
            },
            "type": "carpet"
           }
          ],
          "choropleth": [
           {
            "colorbar": {
             "outlinewidth": 0,
             "ticks": ""
            },
            "type": "choropleth"
           }
          ],
          "contour": [
           {
            "colorbar": {
             "outlinewidth": 0,
             "ticks": ""
            },
            "colorscale": [
             [
              0,
              "#0d0887"
             ],
             [
              0.1111111111111111,
              "#46039f"
             ],
             [
              0.2222222222222222,
              "#7201a8"
             ],
             [
              0.3333333333333333,
              "#9c179e"
             ],
             [
              0.4444444444444444,
              "#bd3786"
             ],
             [
              0.5555555555555556,
              "#d8576b"
             ],
             [
              0.6666666666666666,
              "#ed7953"
             ],
             [
              0.7777777777777778,
              "#fb9f3a"
             ],
             [
              0.8888888888888888,
              "#fdca26"
             ],
             [
              1,
              "#f0f921"
             ]
            ],
            "type": "contour"
           }
          ],
          "contourcarpet": [
           {
            "colorbar": {
             "outlinewidth": 0,
             "ticks": ""
            },
            "type": "contourcarpet"
           }
          ],
          "heatmap": [
           {
            "colorbar": {
             "outlinewidth": 0,
             "ticks": ""
            },
            "colorscale": [
             [
              0,
              "#0d0887"
             ],
             [
              0.1111111111111111,
              "#46039f"
             ],
             [
              0.2222222222222222,
              "#7201a8"
             ],
             [
              0.3333333333333333,
              "#9c179e"
             ],
             [
              0.4444444444444444,
              "#bd3786"
             ],
             [
              0.5555555555555556,
              "#d8576b"
             ],
             [
              0.6666666666666666,
              "#ed7953"
             ],
             [
              0.7777777777777778,
              "#fb9f3a"
             ],
             [
              0.8888888888888888,
              "#fdca26"
             ],
             [
              1,
              "#f0f921"
             ]
            ],
            "type": "heatmap"
           }
          ],
          "heatmapgl": [
           {
            "colorbar": {
             "outlinewidth": 0,
             "ticks": ""
            },
            "colorscale": [
             [
              0,
              "#0d0887"
             ],
             [
              0.1111111111111111,
              "#46039f"
             ],
             [
              0.2222222222222222,
              "#7201a8"
             ],
             [
              0.3333333333333333,
              "#9c179e"
             ],
             [
              0.4444444444444444,
              "#bd3786"
             ],
             [
              0.5555555555555556,
              "#d8576b"
             ],
             [
              0.6666666666666666,
              "#ed7953"
             ],
             [
              0.7777777777777778,
              "#fb9f3a"
             ],
             [
              0.8888888888888888,
              "#fdca26"
             ],
             [
              1,
              "#f0f921"
             ]
            ],
            "type": "heatmapgl"
           }
          ],
          "histogram": [
           {
            "marker": {
             "pattern": {
              "fillmode": "overlay",
              "size": 10,
              "solidity": 0.2
             }
            },
            "type": "histogram"
           }
          ],
          "histogram2d": [
           {
            "colorbar": {
             "outlinewidth": 0,
             "ticks": ""
            },
            "colorscale": [
             [
              0,
              "#0d0887"
             ],
             [
              0.1111111111111111,
              "#46039f"
             ],
             [
              0.2222222222222222,
              "#7201a8"
             ],
             [
              0.3333333333333333,
              "#9c179e"
             ],
             [
              0.4444444444444444,
              "#bd3786"
             ],
             [
              0.5555555555555556,
              "#d8576b"
             ],
             [
              0.6666666666666666,
              "#ed7953"
             ],
             [
              0.7777777777777778,
              "#fb9f3a"
             ],
             [
              0.8888888888888888,
              "#fdca26"
             ],
             [
              1,
              "#f0f921"
             ]
            ],
            "type": "histogram2d"
           }
          ],
          "histogram2dcontour": [
           {
            "colorbar": {
             "outlinewidth": 0,
             "ticks": ""
            },
            "colorscale": [
             [
              0,
              "#0d0887"
             ],
             [
              0.1111111111111111,
              "#46039f"
             ],
             [
              0.2222222222222222,
              "#7201a8"
             ],
             [
              0.3333333333333333,
              "#9c179e"
             ],
             [
              0.4444444444444444,
              "#bd3786"
             ],
             [
              0.5555555555555556,
              "#d8576b"
             ],
             [
              0.6666666666666666,
              "#ed7953"
             ],
             [
              0.7777777777777778,
              "#fb9f3a"
             ],
             [
              0.8888888888888888,
              "#fdca26"
             ],
             [
              1,
              "#f0f921"
             ]
            ],
            "type": "histogram2dcontour"
           }
          ],
          "mesh3d": [
           {
            "colorbar": {
             "outlinewidth": 0,
             "ticks": ""
            },
            "type": "mesh3d"
           }
          ],
          "parcoords": [
           {
            "line": {
             "colorbar": {
              "outlinewidth": 0,
              "ticks": ""
             }
            },
            "type": "parcoords"
           }
          ],
          "pie": [
           {
            "automargin": true,
            "type": "pie"
           }
          ],
          "scatter": [
           {
            "fillpattern": {
             "fillmode": "overlay",
             "size": 10,
             "solidity": 0.2
            },
            "type": "scatter"
           }
          ],
          "scatter3d": [
           {
            "line": {
             "colorbar": {
              "outlinewidth": 0,
              "ticks": ""
             }
            },
            "marker": {
             "colorbar": {
              "outlinewidth": 0,
              "ticks": ""
             }
            },
            "type": "scatter3d"
           }
          ],
          "scattercarpet": [
           {
            "marker": {
             "colorbar": {
              "outlinewidth": 0,
              "ticks": ""
             }
            },
            "type": "scattercarpet"
           }
          ],
          "scattergeo": [
           {
            "marker": {
             "colorbar": {
              "outlinewidth": 0,
              "ticks": ""
             }
            },
            "type": "scattergeo"
           }
          ],
          "scattergl": [
           {
            "marker": {
             "colorbar": {
              "outlinewidth": 0,
              "ticks": ""
             }
            },
            "type": "scattergl"
           }
          ],
          "scattermapbox": [
           {
            "marker": {
             "colorbar": {
              "outlinewidth": 0,
              "ticks": ""
             }
            },
            "type": "scattermapbox"
           }
          ],
          "scatterpolar": [
           {
            "marker": {
             "colorbar": {
              "outlinewidth": 0,
              "ticks": ""
             }
            },
            "type": "scatterpolar"
           }
          ],
          "scatterpolargl": [
           {
            "marker": {
             "colorbar": {
              "outlinewidth": 0,
              "ticks": ""
             }
            },
            "type": "scatterpolargl"
           }
          ],
          "scatterternary": [
           {
            "marker": {
             "colorbar": {
              "outlinewidth": 0,
              "ticks": ""
             }
            },
            "type": "scatterternary"
           }
          ],
          "surface": [
           {
            "colorbar": {
             "outlinewidth": 0,
             "ticks": ""
            },
            "colorscale": [
             [
              0,
              "#0d0887"
             ],
             [
              0.1111111111111111,
              "#46039f"
             ],
             [
              0.2222222222222222,
              "#7201a8"
             ],
             [
              0.3333333333333333,
              "#9c179e"
             ],
             [
              0.4444444444444444,
              "#bd3786"
             ],
             [
              0.5555555555555556,
              "#d8576b"
             ],
             [
              0.6666666666666666,
              "#ed7953"
             ],
             [
              0.7777777777777778,
              "#fb9f3a"
             ],
             [
              0.8888888888888888,
              "#fdca26"
             ],
             [
              1,
              "#f0f921"
             ]
            ],
            "type": "surface"
           }
          ],
          "table": [
           {
            "cells": {
             "fill": {
              "color": "#EBF0F8"
             },
             "line": {
              "color": "white"
             }
            },
            "header": {
             "fill": {
              "color": "#C8D4E3"
             },
             "line": {
              "color": "white"
             }
            },
            "type": "table"
           }
          ]
         },
         "layout": {
          "annotationdefaults": {
           "arrowcolor": "#2a3f5f",
           "arrowhead": 0,
           "arrowwidth": 1
          },
          "autotypenumbers": "strict",
          "coloraxis": {
           "colorbar": {
            "outlinewidth": 0,
            "ticks": ""
           }
          },
          "colorscale": {
           "diverging": [
            [
             0,
             "#8e0152"
            ],
            [
             0.1,
             "#c51b7d"
            ],
            [
             0.2,
             "#de77ae"
            ],
            [
             0.3,
             "#f1b6da"
            ],
            [
             0.4,
             "#fde0ef"
            ],
            [
             0.5,
             "#f7f7f7"
            ],
            [
             0.6,
             "#e6f5d0"
            ],
            [
             0.7,
             "#b8e186"
            ],
            [
             0.8,
             "#7fbc41"
            ],
            [
             0.9,
             "#4d9221"
            ],
            [
             1,
             "#276419"
            ]
           ],
           "sequential": [
            [
             0,
             "#0d0887"
            ],
            [
             0.1111111111111111,
             "#46039f"
            ],
            [
             0.2222222222222222,
             "#7201a8"
            ],
            [
             0.3333333333333333,
             "#9c179e"
            ],
            [
             0.4444444444444444,
             "#bd3786"
            ],
            [
             0.5555555555555556,
             "#d8576b"
            ],
            [
             0.6666666666666666,
             "#ed7953"
            ],
            [
             0.7777777777777778,
             "#fb9f3a"
            ],
            [
             0.8888888888888888,
             "#fdca26"
            ],
            [
             1,
             "#f0f921"
            ]
           ],
           "sequentialminus": [
            [
             0,
             "#0d0887"
            ],
            [
             0.1111111111111111,
             "#46039f"
            ],
            [
             0.2222222222222222,
             "#7201a8"
            ],
            [
             0.3333333333333333,
             "#9c179e"
            ],
            [
             0.4444444444444444,
             "#bd3786"
            ],
            [
             0.5555555555555556,
             "#d8576b"
            ],
            [
             0.6666666666666666,
             "#ed7953"
            ],
            [
             0.7777777777777778,
             "#fb9f3a"
            ],
            [
             0.8888888888888888,
             "#fdca26"
            ],
            [
             1,
             "#f0f921"
            ]
           ]
          },
          "colorway": [
           "#636efa",
           "#EF553B",
           "#00cc96",
           "#ab63fa",
           "#FFA15A",
           "#19d3f3",
           "#FF6692",
           "#B6E880",
           "#FF97FF",
           "#FECB52"
          ],
          "font": {
           "color": "#2a3f5f"
          },
          "geo": {
           "bgcolor": "white",
           "lakecolor": "white",
           "landcolor": "#E5ECF6",
           "showlakes": true,
           "showland": true,
           "subunitcolor": "white"
          },
          "hoverlabel": {
           "align": "left"
          },
          "hovermode": "closest",
          "mapbox": {
           "style": "light"
          },
          "paper_bgcolor": "white",
          "plot_bgcolor": "#E5ECF6",
          "polar": {
           "angularaxis": {
            "gridcolor": "white",
            "linecolor": "white",
            "ticks": ""
           },
           "bgcolor": "#E5ECF6",
           "radialaxis": {
            "gridcolor": "white",
            "linecolor": "white",
            "ticks": ""
           }
          },
          "scene": {
           "xaxis": {
            "backgroundcolor": "#E5ECF6",
            "gridcolor": "white",
            "gridwidth": 2,
            "linecolor": "white",
            "showbackground": true,
            "ticks": "",
            "zerolinecolor": "white"
           },
           "yaxis": {
            "backgroundcolor": "#E5ECF6",
            "gridcolor": "white",
            "gridwidth": 2,
            "linecolor": "white",
            "showbackground": true,
            "ticks": "",
            "zerolinecolor": "white"
           },
           "zaxis": {
            "backgroundcolor": "#E5ECF6",
            "gridcolor": "white",
            "gridwidth": 2,
            "linecolor": "white",
            "showbackground": true,
            "ticks": "",
            "zerolinecolor": "white"
           }
          },
          "shapedefaults": {
           "line": {
            "color": "#2a3f5f"
           }
          },
          "ternary": {
           "aaxis": {
            "gridcolor": "white",
            "linecolor": "white",
            "ticks": ""
           },
           "baxis": {
            "gridcolor": "white",
            "linecolor": "white",
            "ticks": ""
           },
           "bgcolor": "#E5ECF6",
           "caxis": {
            "gridcolor": "white",
            "linecolor": "white",
            "ticks": ""
           }
          },
          "title": {
           "x": 0.05
          },
          "xaxis": {
           "automargin": true,
           "gridcolor": "white",
           "linecolor": "white",
           "ticks": "",
           "title": {
            "standoff": 15
           },
           "zerolinecolor": "white",
           "zerolinewidth": 2
          },
          "yaxis": {
           "automargin": true,
           "gridcolor": "white",
           "linecolor": "white",
           "ticks": "",
           "title": {
            "standoff": 15
           },
           "zerolinecolor": "white",
           "zerolinewidth": 2
          }
         }
        },
        "title": {
         "text": "Percentage of Finished Paths by Start Article Continent",
         "x": 0.5
        },
        "updatemenus": [
         {
          "active": 0,
          "buttons": [
           {
            "args": [
             {
              "visible": [
               true,
               true,
               true,
               true,
               true,
               true,
               true,
               false,
               false,
               false,
               false,
               false,
               false,
               false
              ]
             },
             {
              "annotations": [],
              "title": "Percentage of Finished Paths by Start Article Continent"
             }
            ],
            "label": "Start Articles",
            "method": "update"
           },
           {
            "args": [
             {
              "visible": [
               false,
               false,
               false,
               false,
               false,
               false,
               false,
               true,
               true,
               true,
               true,
               true,
               true,
               true
              ]
             },
             {
              "annotations": [],
              "title": "Percentage of Finished Paths by Target Article Continent"
             }
            ],
            "label": "Target Articles",
            "method": "update"
           }
          ],
          "x": 0,
          "xanchor": "left",
          "y": 1.1,
          "yanchor": "top"
         }
        ],
        "width": 800,
        "xaxis": {
         "title": {
          "text": "Continent"
         }
        },
        "yaxis": {
         "title": {
          "text": "Percentage"
         }
        }
       }
      }
     },
     "metadata": {},
     "output_type": "display_data"
    }
   ],
   "source": [
    "fig_name = \"finished_path_percentage_per_article_continent\"\n",
    "fig_title = \"Percentage of Finished Paths by {} Article Continent\"\n",
    "fig_ylabel = \"Percentage\"\n",
    "fig_xlabel = \"Continent\"\n",
    "\n",
    "\n",
    "finished_paths_per_start_article_continent = df_analysis.groupby(\"startContinent\")[\"isFinished\"].sum() / len(df_analysis)\n",
    "finished_paths_per_start_article_continent = finished_paths_per_start_article_continent.reset_index()\n",
    "finished_paths_per_start_article_continent[\"treatment\"] = finished_paths_per_start_article_continent[\"startContinent\"] == EUROPE_LABEL\n",
    "finished_paths_per_start_article_continent[\"labels\"] = finished_paths_per_start_article_continent[\"treatment\"].map({True: TREATMENT_LABEL, False: CONTROL_LABEL})\n",
    "finished_paths_per_start_article_continent = finished_paths_per_start_article_continent.sort_values(\"startContinent\", ascending=False)\n",
    "\n",
    "finished_paths_per_target_article_continent = df_analysis.groupby(\"targetContinent\")[\"isFinished\"].sum() / len(df_analysis)\n",
    "finished_paths_per_target_article_continent = finished_paths_per_target_article_continent.reset_index()\n",
    "finished_paths_per_target_article_continent[\"treatment\"] = finished_paths_per_target_article_continent[\"targetContinent\"] == EUROPE_LABEL\n",
    "finished_paths_per_target_article_continent[\"labels\"] = finished_paths_per_target_article_continent[\"treatment\"].map({True: TREATMENT_LABEL, False: CONTROL_LABEL})\n",
    "finished_paths_per_target_article_continent = finished_paths_per_target_article_continent.sort_values(\"targetContinent\", ascending=False)\n",
    "\n",
    "fig = go.Figure()\n",
    "\n",
    "for _, row in finished_paths_per_start_article_continent.iterrows():\n",
    "    fig.add_trace(go.Bar(\n",
    "        x=(row[\"labels\"],),\n",
    "        y=(row[\"isFinished\"],),\n",
    "        name=row[\"startContinent\"],\n",
    "        hovertemplate=f\"{row['isFinished'] :.3f}\",\n",
    "        marker_color=continents_colors_int[row[\"startContinent\"]],\n",
    "        visible=True\n",
    "    ))\n",
    "\n",
    "for _, row in finished_paths_per_target_article_continent.iterrows():\n",
    "    fig.add_trace(go.Bar(\n",
    "        x=(row[\"labels\"],),\n",
    "        y=(row[\"isFinished\"],),\n",
    "        name=row[\"targetContinent\"],\n",
    "        hovertemplate=f\"{row['isFinished'] :.3f}\",\n",
    "        marker_color=continents_colors_int[row[\"targetContinent\"]],\n",
    "        visible=False\n",
    "    ))\n",
    "\n",
    "continents_num = len(finished_paths_per_start_article_continent)\n",
    "buttons = [\n",
    "    dict(\n",
    "        label=\"Start Articles\",\n",
    "        method=\"update\",\n",
    "        args=[\n",
    "            {\"visible\": [True] * continents_num + [False] * continents_num},\n",
    "            {\"title\": fig_title.format(\"Start\"), \"annotations\": []}\n",
    "        ]\n",
    "    ),\n",
    "    dict(\n",
    "        label=\"Target Articles\",\n",
    "        method=\"update\",\n",
    "        args=[\n",
    "            {\"visible\": [False] * continents_num + [True] * continents_num},\n",
    "            {\"title\": fig_title.format(\"Target\"), \"annotations\": []}\n",
    "        ]\n",
    "    )\n",
    "]\n",
    "\n",
    "fig.update_layout(\n",
    "    updatemenus=[\n",
    "        dict(\n",
    "            active=0,\n",
    "            buttons=buttons,\n",
    "            x=0.,\n",
    "            xanchor=\"left\",\n",
    "            y=1.1,\n",
    "            yanchor=\"top\"\n",
    "        ),\n",
    "    ]\n",
    ")\n",
    "\n",
    "fig.update_layout(\n",
    "    title=fig_title.format(\"Start\"),\n",
    "    title_x=0.5,\n",
    "    yaxis_title=fig_ylabel,\n",
    "    xaxis_title=fig_xlabel,\n",
    "    barmode=\"stack\",\n",
    "    width=FIGURE_WIDTH,\n",
    "    height=FIGURE_HEIGHT,\n",
    ")\n",
    "\n",
    "fig.write_html(os.path.join(PLOTS_PATH_HTML, f\"{fig_name}_bar.html\"))\n",
    "fig.write_image(os.path.join(PLOTS_PATH_PX, f\"{fig_name}_bar.pdf\"))\n",
    "fig.show()"
   ]
  },
  {
   "cell_type": "markdown",
   "metadata": {},
   "source": [
    "## Plot 4"
   ]
  },
  {
   "cell_type": "code",
   "execution_count": 67,
   "metadata": {},
   "outputs": [
    {
     "data": {
      "application/vnd.plotly.v1+json": {
       "config": {
        "plotlyServerURL": "https://plot.ly"
       },
       "data": [
        {
         "colorscale": [
          [
           0,
           "rgb(247,251,255)"
          ],
          [
           0.125,
           "rgb(222,235,247)"
          ],
          [
           0.25,
           "rgb(198,219,239)"
          ],
          [
           0.375,
           "rgb(158,202,225)"
          ],
          [
           0.5,
           "rgb(107,174,214)"
          ],
          [
           0.625,
           "rgb(66,146,198)"
          ],
          [
           0.75,
           "rgb(33,113,181)"
          ],
          [
           0.875,
           "rgb(8,81,156)"
          ],
          [
           1,
           "rgb(8,48,107)"
          ]
         ],
         "reversescale": false,
         "showscale": false,
         "type": "heatmap",
         "x": [
          "Finished",
          "Unfinished"
         ],
         "y": [
          "Europe",
          "Other"
         ],
         "z": [
          [
           2308,
           5836
          ],
          [
           3280,
           7739
          ]
         ]
        }
       ],
       "layout": {
        "annotations": [
         {
          "font": {
           "color": "#000000"
          },
          "showarrow": false,
          "text": "2308",
          "x": "Finished",
          "xref": "x",
          "y": "Europe",
          "yref": "y"
         },
         {
          "font": {
           "color": "#FFFFFF"
          },
          "showarrow": false,
          "text": "5836",
          "x": "Unfinished",
          "xref": "x",
          "y": "Europe",
          "yref": "y"
         },
         {
          "font": {
           "color": "#000000"
          },
          "showarrow": false,
          "text": "3280",
          "x": "Finished",
          "xref": "x",
          "y": "Other",
          "yref": "y"
         },
         {
          "font": {
           "color": "#FFFFFF"
          },
          "showarrow": false,
          "text": "7739",
          "x": "Unfinished",
          "xref": "x",
          "y": "Other",
          "yref": "y"
         }
        ],
        "height": 600,
        "margin": {
         "t": 100
        },
        "template": {
         "data": {
          "bar": [
           {
            "error_x": {
             "color": "#2a3f5f"
            },
            "error_y": {
             "color": "#2a3f5f"
            },
            "marker": {
             "line": {
              "color": "#E5ECF6",
              "width": 0.5
             },
             "pattern": {
              "fillmode": "overlay",
              "size": 10,
              "solidity": 0.2
             }
            },
            "type": "bar"
           }
          ],
          "barpolar": [
           {
            "marker": {
             "line": {
              "color": "#E5ECF6",
              "width": 0.5
             },
             "pattern": {
              "fillmode": "overlay",
              "size": 10,
              "solidity": 0.2
             }
            },
            "type": "barpolar"
           }
          ],
          "carpet": [
           {
            "aaxis": {
             "endlinecolor": "#2a3f5f",
             "gridcolor": "white",
             "linecolor": "white",
             "minorgridcolor": "white",
             "startlinecolor": "#2a3f5f"
            },
            "baxis": {
             "endlinecolor": "#2a3f5f",
             "gridcolor": "white",
             "linecolor": "white",
             "minorgridcolor": "white",
             "startlinecolor": "#2a3f5f"
            },
            "type": "carpet"
           }
          ],
          "choropleth": [
           {
            "colorbar": {
             "outlinewidth": 0,
             "ticks": ""
            },
            "type": "choropleth"
           }
          ],
          "contour": [
           {
            "colorbar": {
             "outlinewidth": 0,
             "ticks": ""
            },
            "colorscale": [
             [
              0,
              "#0d0887"
             ],
             [
              0.1111111111111111,
              "#46039f"
             ],
             [
              0.2222222222222222,
              "#7201a8"
             ],
             [
              0.3333333333333333,
              "#9c179e"
             ],
             [
              0.4444444444444444,
              "#bd3786"
             ],
             [
              0.5555555555555556,
              "#d8576b"
             ],
             [
              0.6666666666666666,
              "#ed7953"
             ],
             [
              0.7777777777777778,
              "#fb9f3a"
             ],
             [
              0.8888888888888888,
              "#fdca26"
             ],
             [
              1,
              "#f0f921"
             ]
            ],
            "type": "contour"
           }
          ],
          "contourcarpet": [
           {
            "colorbar": {
             "outlinewidth": 0,
             "ticks": ""
            },
            "type": "contourcarpet"
           }
          ],
          "heatmap": [
           {
            "colorbar": {
             "outlinewidth": 0,
             "ticks": ""
            },
            "colorscale": [
             [
              0,
              "#0d0887"
             ],
             [
              0.1111111111111111,
              "#46039f"
             ],
             [
              0.2222222222222222,
              "#7201a8"
             ],
             [
              0.3333333333333333,
              "#9c179e"
             ],
             [
              0.4444444444444444,
              "#bd3786"
             ],
             [
              0.5555555555555556,
              "#d8576b"
             ],
             [
              0.6666666666666666,
              "#ed7953"
             ],
             [
              0.7777777777777778,
              "#fb9f3a"
             ],
             [
              0.8888888888888888,
              "#fdca26"
             ],
             [
              1,
              "#f0f921"
             ]
            ],
            "type": "heatmap"
           }
          ],
          "heatmapgl": [
           {
            "colorbar": {
             "outlinewidth": 0,
             "ticks": ""
            },
            "colorscale": [
             [
              0,
              "#0d0887"
             ],
             [
              0.1111111111111111,
              "#46039f"
             ],
             [
              0.2222222222222222,
              "#7201a8"
             ],
             [
              0.3333333333333333,
              "#9c179e"
             ],
             [
              0.4444444444444444,
              "#bd3786"
             ],
             [
              0.5555555555555556,
              "#d8576b"
             ],
             [
              0.6666666666666666,
              "#ed7953"
             ],
             [
              0.7777777777777778,
              "#fb9f3a"
             ],
             [
              0.8888888888888888,
              "#fdca26"
             ],
             [
              1,
              "#f0f921"
             ]
            ],
            "type": "heatmapgl"
           }
          ],
          "histogram": [
           {
            "marker": {
             "pattern": {
              "fillmode": "overlay",
              "size": 10,
              "solidity": 0.2
             }
            },
            "type": "histogram"
           }
          ],
          "histogram2d": [
           {
            "colorbar": {
             "outlinewidth": 0,
             "ticks": ""
            },
            "colorscale": [
             [
              0,
              "#0d0887"
             ],
             [
              0.1111111111111111,
              "#46039f"
             ],
             [
              0.2222222222222222,
              "#7201a8"
             ],
             [
              0.3333333333333333,
              "#9c179e"
             ],
             [
              0.4444444444444444,
              "#bd3786"
             ],
             [
              0.5555555555555556,
              "#d8576b"
             ],
             [
              0.6666666666666666,
              "#ed7953"
             ],
             [
              0.7777777777777778,
              "#fb9f3a"
             ],
             [
              0.8888888888888888,
              "#fdca26"
             ],
             [
              1,
              "#f0f921"
             ]
            ],
            "type": "histogram2d"
           }
          ],
          "histogram2dcontour": [
           {
            "colorbar": {
             "outlinewidth": 0,
             "ticks": ""
            },
            "colorscale": [
             [
              0,
              "#0d0887"
             ],
             [
              0.1111111111111111,
              "#46039f"
             ],
             [
              0.2222222222222222,
              "#7201a8"
             ],
             [
              0.3333333333333333,
              "#9c179e"
             ],
             [
              0.4444444444444444,
              "#bd3786"
             ],
             [
              0.5555555555555556,
              "#d8576b"
             ],
             [
              0.6666666666666666,
              "#ed7953"
             ],
             [
              0.7777777777777778,
              "#fb9f3a"
             ],
             [
              0.8888888888888888,
              "#fdca26"
             ],
             [
              1,
              "#f0f921"
             ]
            ],
            "type": "histogram2dcontour"
           }
          ],
          "mesh3d": [
           {
            "colorbar": {
             "outlinewidth": 0,
             "ticks": ""
            },
            "type": "mesh3d"
           }
          ],
          "parcoords": [
           {
            "line": {
             "colorbar": {
              "outlinewidth": 0,
              "ticks": ""
             }
            },
            "type": "parcoords"
           }
          ],
          "pie": [
           {
            "automargin": true,
            "type": "pie"
           }
          ],
          "scatter": [
           {
            "fillpattern": {
             "fillmode": "overlay",
             "size": 10,
             "solidity": 0.2
            },
            "type": "scatter"
           }
          ],
          "scatter3d": [
           {
            "line": {
             "colorbar": {
              "outlinewidth": 0,
              "ticks": ""
             }
            },
            "marker": {
             "colorbar": {
              "outlinewidth": 0,
              "ticks": ""
             }
            },
            "type": "scatter3d"
           }
          ],
          "scattercarpet": [
           {
            "marker": {
             "colorbar": {
              "outlinewidth": 0,
              "ticks": ""
             }
            },
            "type": "scattercarpet"
           }
          ],
          "scattergeo": [
           {
            "marker": {
             "colorbar": {
              "outlinewidth": 0,
              "ticks": ""
             }
            },
            "type": "scattergeo"
           }
          ],
          "scattergl": [
           {
            "marker": {
             "colorbar": {
              "outlinewidth": 0,
              "ticks": ""
             }
            },
            "type": "scattergl"
           }
          ],
          "scattermapbox": [
           {
            "marker": {
             "colorbar": {
              "outlinewidth": 0,
              "ticks": ""
             }
            },
            "type": "scattermapbox"
           }
          ],
          "scatterpolar": [
           {
            "marker": {
             "colorbar": {
              "outlinewidth": 0,
              "ticks": ""
             }
            },
            "type": "scatterpolar"
           }
          ],
          "scatterpolargl": [
           {
            "marker": {
             "colorbar": {
              "outlinewidth": 0,
              "ticks": ""
             }
            },
            "type": "scatterpolargl"
           }
          ],
          "scatterternary": [
           {
            "marker": {
             "colorbar": {
              "outlinewidth": 0,
              "ticks": ""
             }
            },
            "type": "scatterternary"
           }
          ],
          "surface": [
           {
            "colorbar": {
             "outlinewidth": 0,
             "ticks": ""
            },
            "colorscale": [
             [
              0,
              "#0d0887"
             ],
             [
              0.1111111111111111,
              "#46039f"
             ],
             [
              0.2222222222222222,
              "#7201a8"
             ],
             [
              0.3333333333333333,
              "#9c179e"
             ],
             [
              0.4444444444444444,
              "#bd3786"
             ],
             [
              0.5555555555555556,
              "#d8576b"
             ],
             [
              0.6666666666666666,
              "#ed7953"
             ],
             [
              0.7777777777777778,
              "#fb9f3a"
             ],
             [
              0.8888888888888888,
              "#fdca26"
             ],
             [
              1,
              "#f0f921"
             ]
            ],
            "type": "surface"
           }
          ],
          "table": [
           {
            "cells": {
             "fill": {
              "color": "#EBF0F8"
             },
             "line": {
              "color": "white"
             }
            },
            "header": {
             "fill": {
              "color": "#C8D4E3"
             },
             "line": {
              "color": "white"
             }
            },
            "type": "table"
           }
          ]
         },
         "layout": {
          "annotationdefaults": {
           "arrowcolor": "#2a3f5f",
           "arrowhead": 0,
           "arrowwidth": 1
          },
          "autotypenumbers": "strict",
          "coloraxis": {
           "colorbar": {
            "outlinewidth": 0,
            "ticks": ""
           }
          },
          "colorscale": {
           "diverging": [
            [
             0,
             "#8e0152"
            ],
            [
             0.1,
             "#c51b7d"
            ],
            [
             0.2,
             "#de77ae"
            ],
            [
             0.3,
             "#f1b6da"
            ],
            [
             0.4,
             "#fde0ef"
            ],
            [
             0.5,
             "#f7f7f7"
            ],
            [
             0.6,
             "#e6f5d0"
            ],
            [
             0.7,
             "#b8e186"
            ],
            [
             0.8,
             "#7fbc41"
            ],
            [
             0.9,
             "#4d9221"
            ],
            [
             1,
             "#276419"
            ]
           ],
           "sequential": [
            [
             0,
             "#0d0887"
            ],
            [
             0.1111111111111111,
             "#46039f"
            ],
            [
             0.2222222222222222,
             "#7201a8"
            ],
            [
             0.3333333333333333,
             "#9c179e"
            ],
            [
             0.4444444444444444,
             "#bd3786"
            ],
            [
             0.5555555555555556,
             "#d8576b"
            ],
            [
             0.6666666666666666,
             "#ed7953"
            ],
            [
             0.7777777777777778,
             "#fb9f3a"
            ],
            [
             0.8888888888888888,
             "#fdca26"
            ],
            [
             1,
             "#f0f921"
            ]
           ],
           "sequentialminus": [
            [
             0,
             "#0d0887"
            ],
            [
             0.1111111111111111,
             "#46039f"
            ],
            [
             0.2222222222222222,
             "#7201a8"
            ],
            [
             0.3333333333333333,
             "#9c179e"
            ],
            [
             0.4444444444444444,
             "#bd3786"
            ],
            [
             0.5555555555555556,
             "#d8576b"
            ],
            [
             0.6666666666666666,
             "#ed7953"
            ],
            [
             0.7777777777777778,
             "#fb9f3a"
            ],
            [
             0.8888888888888888,
             "#fdca26"
            ],
            [
             1,
             "#f0f921"
            ]
           ]
          },
          "colorway": [
           "#636efa",
           "#EF553B",
           "#00cc96",
           "#ab63fa",
           "#FFA15A",
           "#19d3f3",
           "#FF6692",
           "#B6E880",
           "#FF97FF",
           "#FECB52"
          ],
          "font": {
           "color": "#2a3f5f"
          },
          "geo": {
           "bgcolor": "white",
           "lakecolor": "white",
           "landcolor": "#E5ECF6",
           "showlakes": true,
           "showland": true,
           "subunitcolor": "white"
          },
          "hoverlabel": {
           "align": "left"
          },
          "hovermode": "closest",
          "mapbox": {
           "style": "light"
          },
          "paper_bgcolor": "white",
          "plot_bgcolor": "#E5ECF6",
          "polar": {
           "angularaxis": {
            "gridcolor": "white",
            "linecolor": "white",
            "ticks": ""
           },
           "bgcolor": "#E5ECF6",
           "radialaxis": {
            "gridcolor": "white",
            "linecolor": "white",
            "ticks": ""
           }
          },
          "scene": {
           "xaxis": {
            "backgroundcolor": "#E5ECF6",
            "gridcolor": "white",
            "gridwidth": 2,
            "linecolor": "white",
            "showbackground": true,
            "ticks": "",
            "zerolinecolor": "white"
           },
           "yaxis": {
            "backgroundcolor": "#E5ECF6",
            "gridcolor": "white",
            "gridwidth": 2,
            "linecolor": "white",
            "showbackground": true,
            "ticks": "",
            "zerolinecolor": "white"
           },
           "zaxis": {
            "backgroundcolor": "#E5ECF6",
            "gridcolor": "white",
            "gridwidth": 2,
            "linecolor": "white",
            "showbackground": true,
            "ticks": "",
            "zerolinecolor": "white"
           }
          },
          "shapedefaults": {
           "line": {
            "color": "#2a3f5f"
           }
          },
          "ternary": {
           "aaxis": {
            "gridcolor": "white",
            "linecolor": "white",
            "ticks": ""
           },
           "baxis": {
            "gridcolor": "white",
            "linecolor": "white",
            "ticks": ""
           },
           "bgcolor": "#E5ECF6",
           "caxis": {
            "gridcolor": "white",
            "linecolor": "white",
            "ticks": ""
           }
          },
          "title": {
           "x": 0.05
          },
          "xaxis": {
           "automargin": true,
           "gridcolor": "white",
           "linecolor": "white",
           "ticks": "",
           "title": {
            "standoff": 15
           },
           "zerolinecolor": "white",
           "zerolinewidth": 2
          },
          "yaxis": {
           "automargin": true,
           "gridcolor": "white",
           "linecolor": "white",
           "ticks": "",
           "title": {
            "standoff": 15
           },
           "zerolinecolor": "white",
           "zerolinewidth": 2
          }
         }
        },
        "title": {
         "text": "Number of played games",
         "x": 0.5,
         "y": 0.95
        },
        "updatemenus": [
         {
          "buttons": [
           {
            "args": [
             {},
             {
              "annotations": [
               {
                "font": {
                 "color": "#000000"
                },
                "showarrow": false,
                "text": "2308",
                "x": "Finished",
                "xref": "x",
                "y": "Europe",
                "yref": "y"
               },
               {
                "font": {
                 "color": "#FFFFFF"
                },
                "showarrow": false,
                "text": "5836",
                "x": "Unfinished",
                "xref": "x",
                "y": "Europe",
                "yref": "y"
               },
               {
                "font": {
                 "color": "#000000"
                },
                "showarrow": false,
                "text": "3280",
                "x": "Finished",
                "xref": "x",
                "y": "Other",
                "yref": "y"
               },
               {
                "font": {
                 "color": "#FFFFFF"
                },
                "showarrow": false,
                "text": "7739",
                "x": "Unfinished",
                "xref": "x",
                "y": "Other",
                "yref": "y"
               }
              ],
              "title": "Number of played games"
             }
            ],
            "label": "Count",
            "method": "update"
           },
           {
            "args": [
             {},
             {
              "annotations": [
               {
                "font": {
                 "color": "#000000"
                },
                "showarrow": false,
                "text": "41.30 %",
                "x": "Finished",
                "xref": "x",
                "y": "Europe",
                "yref": "y"
               },
               {
                "font": {
                 "color": "#FFFFFF"
                },
                "showarrow": false,
                "text": "42.99 %",
                "x": "Unfinished",
                "xref": "x",
                "y": "Europe",
                "yref": "y"
               },
               {
                "font": {
                 "color": "#000000"
                },
                "showarrow": false,
                "text": "58.70 %",
                "x": "Finished",
                "xref": "x",
                "y": "Other",
                "yref": "y"
               },
               {
                "font": {
                 "color": "#FFFFFF"
                },
                "showarrow": false,
                "text": "57.01 %",
                "x": "Unfinished",
                "xref": "x",
                "y": "Other",
                "yref": "y"
               }
              ],
              "title": "Percentage of played games"
             }
            ],
            "label": "Percentage",
            "method": "update"
           }
          ],
          "direction": "right",
          "showactive": true,
          "type": "buttons",
          "x": 0,
          "xanchor": "left",
          "y": 1.1,
          "yanchor": "top"
         }
        ],
        "width": 800,
        "xaxis": {
         "dtick": 1,
         "gridcolor": "rgb(0, 0, 0)",
         "side": "bottom",
         "ticks": "",
         "title": {
          "text": "Games"
         }
        },
        "yaxis": {
         "dtick": 1,
         "ticks": "",
         "ticksuffix": "  ",
         "title": {
          "text": "Continent"
         }
        }
       }
      }
     },
     "metadata": {},
     "output_type": "display_data"
    }
   ],
   "source": [
    "fig_name = \"paths_count_naive\"\n",
    "fig_title = \"{} of played games\"\n",
    "fig_ylabel = \"Continent\"\n",
    "fig_xlabel = \"Games\"\n",
    "\n",
    "\n",
    "count = pd.crosstab(df_analysis[\"treatment\"], df_analysis[\"isFinished\"]).sort_index(ascending=False)\n",
    "percentage = pd.crosstab(df_analysis[\"treatment\"], df_analysis[\"isFinished\"], normalize=\"columns\").sort_index(ascending=False)\n",
    "percentage = np.char.mod(\"%0.2f\", percentage.values * 100)\n",
    "percentage = np.core.defchararray.add(percentage, np.full(percentage.shape, \" %\", dtype='2U'))\n",
    "\n",
    "test_results = scipy.stats.chi2_contingency(count)\n",
    "\n",
    "fig = ff.create_annotated_heatmap(\n",
    "    count.values,\n",
    "    annotation_text=count.values,\n",
    "    colorscale=\"Blues\",\n",
    "    x=[\"Finished\", \"Unfinished\"],\n",
    "    y=[TREATMENT_LABEL, CONTROL_LABEL]\n",
    ")\n",
    "\n",
    "count_annotations = fig.to_dict()[\"layout\"][\"annotations\"]\n",
    "percentage_annotations = []\n",
    "for count_annot, percentage_annot in zip(count_annotations, percentage.flatten()):\n",
    "    tmp_annot = copy.deepcopy(count_annot)\n",
    "    tmp_annot[\"text\"] = percentage_annot\n",
    "    percentage_annotations.append(copy.deepcopy(tmp_annot))\n",
    "\n",
    "buttons = [\n",
    "    dict(label=\"Count\", method=\"update\", args=[{}, {\"annotations\": count_annotations, \"title\": fig_title.format(\"Number\")}]),\n",
    "    dict(label=\"Percentage\", method=\"update\", args=[{}, {\"annotations\": percentage_annotations, \"title\": fig_title.format(\"Percentage\")}]),\n",
    "]\n",
    "\n",
    "fig.update_layout(\n",
    "    title=fig_title.format(\"Number\"),\n",
    "    title_x=0.5,\n",
    "    title_y=.95,\n",
    "    yaxis_title=fig_ylabel,\n",
    "    xaxis_title=fig_xlabel,\n",
    "    xaxis_side=\"bottom\",\n",
    "    width=FIGURE_WIDTH,\n",
    "    height=FIGURE_HEIGHT,\n",
    "    updatemenus=[dict(type=\"buttons\", showactive=True, buttons=buttons, x=0, xanchor=\"left\", y=1.1, yanchor=\"top\", direction=\"right\")],\n",
    "    margin=dict(t=100),\n",
    ")\n",
    "\n",
    "fig.write_html(os.path.join(PLOTS_PATH_HTML, f\"{fig_name}_map.html\"))\n",
    "fig.write_image(os.path.join(PLOTS_PATH_PX, f\"{fig_name}_map.pdf\"))\n",
    "fig.show()\n"
   ]
  },
  {
   "cell_type": "markdown",
   "metadata": {},
   "source": [
    "## Plot 5"
   ]
  },
  {
   "cell_type": "code",
   "execution_count": 51,
   "metadata": {},
   "outputs": [
    {
     "data": {
      "application/vnd.plotly.v1+json": {
       "config": {
        "plotlyServerURL": "https://plot.ly"
       },
       "data": [
        {
         "colorscale": [
          [
           0,
           "rgb(247,251,255)"
          ],
          [
           0.125,
           "rgb(222,235,247)"
          ],
          [
           0.25,
           "rgb(198,219,239)"
          ],
          [
           0.375,
           "rgb(158,202,225)"
          ],
          [
           0.5,
           "rgb(107,174,214)"
          ],
          [
           0.625,
           "rgb(66,146,198)"
          ],
          [
           0.75,
           "rgb(33,113,181)"
          ],
          [
           0.875,
           "rgb(8,81,156)"
          ],
          [
           1,
           "rgb(8,48,107)"
          ]
         ],
         "reversescale": false,
         "showscale": false,
         "type": "heatmap",
         "x": [
          "Finished",
          "Unfinished"
         ],
         "y": [
          "Europe",
          "Other"
         ],
         "z": [
          [
           1718,
           4453
          ],
          [
           1727,
           4444
          ]
         ]
        }
       ],
       "layout": {
        "annotations": [
         {
          "font": {
           "color": "#000000"
          },
          "showarrow": false,
          "text": "1718",
          "x": "Finished",
          "xref": "x",
          "y": "Europe",
          "yref": "y"
         },
         {
          "font": {
           "color": "#FFFFFF"
          },
          "showarrow": false,
          "text": "4453",
          "x": "Unfinished",
          "xref": "x",
          "y": "Europe",
          "yref": "y"
         },
         {
          "font": {
           "color": "#000000"
          },
          "showarrow": false,
          "text": "1727",
          "x": "Finished",
          "xref": "x",
          "y": "Other",
          "yref": "y"
         },
         {
          "font": {
           "color": "#FFFFFF"
          },
          "showarrow": false,
          "text": "4444",
          "x": "Unfinished",
          "xref": "x",
          "y": "Other",
          "yref": "y"
         }
        ],
        "height": 600,
        "margin": {
         "t": 100
        },
        "template": {
         "data": {
          "bar": [
           {
            "error_x": {
             "color": "#2a3f5f"
            },
            "error_y": {
             "color": "#2a3f5f"
            },
            "marker": {
             "line": {
              "color": "#E5ECF6",
              "width": 0.5
             },
             "pattern": {
              "fillmode": "overlay",
              "size": 10,
              "solidity": 0.2
             }
            },
            "type": "bar"
           }
          ],
          "barpolar": [
           {
            "marker": {
             "line": {
              "color": "#E5ECF6",
              "width": 0.5
             },
             "pattern": {
              "fillmode": "overlay",
              "size": 10,
              "solidity": 0.2
             }
            },
            "type": "barpolar"
           }
          ],
          "carpet": [
           {
            "aaxis": {
             "endlinecolor": "#2a3f5f",
             "gridcolor": "white",
             "linecolor": "white",
             "minorgridcolor": "white",
             "startlinecolor": "#2a3f5f"
            },
            "baxis": {
             "endlinecolor": "#2a3f5f",
             "gridcolor": "white",
             "linecolor": "white",
             "minorgridcolor": "white",
             "startlinecolor": "#2a3f5f"
            },
            "type": "carpet"
           }
          ],
          "choropleth": [
           {
            "colorbar": {
             "outlinewidth": 0,
             "ticks": ""
            },
            "type": "choropleth"
           }
          ],
          "contour": [
           {
            "colorbar": {
             "outlinewidth": 0,
             "ticks": ""
            },
            "colorscale": [
             [
              0,
              "#0d0887"
             ],
             [
              0.1111111111111111,
              "#46039f"
             ],
             [
              0.2222222222222222,
              "#7201a8"
             ],
             [
              0.3333333333333333,
              "#9c179e"
             ],
             [
              0.4444444444444444,
              "#bd3786"
             ],
             [
              0.5555555555555556,
              "#d8576b"
             ],
             [
              0.6666666666666666,
              "#ed7953"
             ],
             [
              0.7777777777777778,
              "#fb9f3a"
             ],
             [
              0.8888888888888888,
              "#fdca26"
             ],
             [
              1,
              "#f0f921"
             ]
            ],
            "type": "contour"
           }
          ],
          "contourcarpet": [
           {
            "colorbar": {
             "outlinewidth": 0,
             "ticks": ""
            },
            "type": "contourcarpet"
           }
          ],
          "heatmap": [
           {
            "colorbar": {
             "outlinewidth": 0,
             "ticks": ""
            },
            "colorscale": [
             [
              0,
              "#0d0887"
             ],
             [
              0.1111111111111111,
              "#46039f"
             ],
             [
              0.2222222222222222,
              "#7201a8"
             ],
             [
              0.3333333333333333,
              "#9c179e"
             ],
             [
              0.4444444444444444,
              "#bd3786"
             ],
             [
              0.5555555555555556,
              "#d8576b"
             ],
             [
              0.6666666666666666,
              "#ed7953"
             ],
             [
              0.7777777777777778,
              "#fb9f3a"
             ],
             [
              0.8888888888888888,
              "#fdca26"
             ],
             [
              1,
              "#f0f921"
             ]
            ],
            "type": "heatmap"
           }
          ],
          "heatmapgl": [
           {
            "colorbar": {
             "outlinewidth": 0,
             "ticks": ""
            },
            "colorscale": [
             [
              0,
              "#0d0887"
             ],
             [
              0.1111111111111111,
              "#46039f"
             ],
             [
              0.2222222222222222,
              "#7201a8"
             ],
             [
              0.3333333333333333,
              "#9c179e"
             ],
             [
              0.4444444444444444,
              "#bd3786"
             ],
             [
              0.5555555555555556,
              "#d8576b"
             ],
             [
              0.6666666666666666,
              "#ed7953"
             ],
             [
              0.7777777777777778,
              "#fb9f3a"
             ],
             [
              0.8888888888888888,
              "#fdca26"
             ],
             [
              1,
              "#f0f921"
             ]
            ],
            "type": "heatmapgl"
           }
          ],
          "histogram": [
           {
            "marker": {
             "pattern": {
              "fillmode": "overlay",
              "size": 10,
              "solidity": 0.2
             }
            },
            "type": "histogram"
           }
          ],
          "histogram2d": [
           {
            "colorbar": {
             "outlinewidth": 0,
             "ticks": ""
            },
            "colorscale": [
             [
              0,
              "#0d0887"
             ],
             [
              0.1111111111111111,
              "#46039f"
             ],
             [
              0.2222222222222222,
              "#7201a8"
             ],
             [
              0.3333333333333333,
              "#9c179e"
             ],
             [
              0.4444444444444444,
              "#bd3786"
             ],
             [
              0.5555555555555556,
              "#d8576b"
             ],
             [
              0.6666666666666666,
              "#ed7953"
             ],
             [
              0.7777777777777778,
              "#fb9f3a"
             ],
             [
              0.8888888888888888,
              "#fdca26"
             ],
             [
              1,
              "#f0f921"
             ]
            ],
            "type": "histogram2d"
           }
          ],
          "histogram2dcontour": [
           {
            "colorbar": {
             "outlinewidth": 0,
             "ticks": ""
            },
            "colorscale": [
             [
              0,
              "#0d0887"
             ],
             [
              0.1111111111111111,
              "#46039f"
             ],
             [
              0.2222222222222222,
              "#7201a8"
             ],
             [
              0.3333333333333333,
              "#9c179e"
             ],
             [
              0.4444444444444444,
              "#bd3786"
             ],
             [
              0.5555555555555556,
              "#d8576b"
             ],
             [
              0.6666666666666666,
              "#ed7953"
             ],
             [
              0.7777777777777778,
              "#fb9f3a"
             ],
             [
              0.8888888888888888,
              "#fdca26"
             ],
             [
              1,
              "#f0f921"
             ]
            ],
            "type": "histogram2dcontour"
           }
          ],
          "mesh3d": [
           {
            "colorbar": {
             "outlinewidth": 0,
             "ticks": ""
            },
            "type": "mesh3d"
           }
          ],
          "parcoords": [
           {
            "line": {
             "colorbar": {
              "outlinewidth": 0,
              "ticks": ""
             }
            },
            "type": "parcoords"
           }
          ],
          "pie": [
           {
            "automargin": true,
            "type": "pie"
           }
          ],
          "scatter": [
           {
            "fillpattern": {
             "fillmode": "overlay",
             "size": 10,
             "solidity": 0.2
            },
            "type": "scatter"
           }
          ],
          "scatter3d": [
           {
            "line": {
             "colorbar": {
              "outlinewidth": 0,
              "ticks": ""
             }
            },
            "marker": {
             "colorbar": {
              "outlinewidth": 0,
              "ticks": ""
             }
            },
            "type": "scatter3d"
           }
          ],
          "scattercarpet": [
           {
            "marker": {
             "colorbar": {
              "outlinewidth": 0,
              "ticks": ""
             }
            },
            "type": "scattercarpet"
           }
          ],
          "scattergeo": [
           {
            "marker": {
             "colorbar": {
              "outlinewidth": 0,
              "ticks": ""
             }
            },
            "type": "scattergeo"
           }
          ],
          "scattergl": [
           {
            "marker": {
             "colorbar": {
              "outlinewidth": 0,
              "ticks": ""
             }
            },
            "type": "scattergl"
           }
          ],
          "scattermapbox": [
           {
            "marker": {
             "colorbar": {
              "outlinewidth": 0,
              "ticks": ""
             }
            },
            "type": "scattermapbox"
           }
          ],
          "scatterpolar": [
           {
            "marker": {
             "colorbar": {
              "outlinewidth": 0,
              "ticks": ""
             }
            },
            "type": "scatterpolar"
           }
          ],
          "scatterpolargl": [
           {
            "marker": {
             "colorbar": {
              "outlinewidth": 0,
              "ticks": ""
             }
            },
            "type": "scatterpolargl"
           }
          ],
          "scatterternary": [
           {
            "marker": {
             "colorbar": {
              "outlinewidth": 0,
              "ticks": ""
             }
            },
            "type": "scatterternary"
           }
          ],
          "surface": [
           {
            "colorbar": {
             "outlinewidth": 0,
             "ticks": ""
            },
            "colorscale": [
             [
              0,
              "#0d0887"
             ],
             [
              0.1111111111111111,
              "#46039f"
             ],
             [
              0.2222222222222222,
              "#7201a8"
             ],
             [
              0.3333333333333333,
              "#9c179e"
             ],
             [
              0.4444444444444444,
              "#bd3786"
             ],
             [
              0.5555555555555556,
              "#d8576b"
             ],
             [
              0.6666666666666666,
              "#ed7953"
             ],
             [
              0.7777777777777778,
              "#fb9f3a"
             ],
             [
              0.8888888888888888,
              "#fdca26"
             ],
             [
              1,
              "#f0f921"
             ]
            ],
            "type": "surface"
           }
          ],
          "table": [
           {
            "cells": {
             "fill": {
              "color": "#EBF0F8"
             },
             "line": {
              "color": "white"
             }
            },
            "header": {
             "fill": {
              "color": "#C8D4E3"
             },
             "line": {
              "color": "white"
             }
            },
            "type": "table"
           }
          ]
         },
         "layout": {
          "annotationdefaults": {
           "arrowcolor": "#2a3f5f",
           "arrowhead": 0,
           "arrowwidth": 1
          },
          "autotypenumbers": "strict",
          "coloraxis": {
           "colorbar": {
            "outlinewidth": 0,
            "ticks": ""
           }
          },
          "colorscale": {
           "diverging": [
            [
             0,
             "#8e0152"
            ],
            [
             0.1,
             "#c51b7d"
            ],
            [
             0.2,
             "#de77ae"
            ],
            [
             0.3,
             "#f1b6da"
            ],
            [
             0.4,
             "#fde0ef"
            ],
            [
             0.5,
             "#f7f7f7"
            ],
            [
             0.6,
             "#e6f5d0"
            ],
            [
             0.7,
             "#b8e186"
            ],
            [
             0.8,
             "#7fbc41"
            ],
            [
             0.9,
             "#4d9221"
            ],
            [
             1,
             "#276419"
            ]
           ],
           "sequential": [
            [
             0,
             "#0d0887"
            ],
            [
             0.1111111111111111,
             "#46039f"
            ],
            [
             0.2222222222222222,
             "#7201a8"
            ],
            [
             0.3333333333333333,
             "#9c179e"
            ],
            [
             0.4444444444444444,
             "#bd3786"
            ],
            [
             0.5555555555555556,
             "#d8576b"
            ],
            [
             0.6666666666666666,
             "#ed7953"
            ],
            [
             0.7777777777777778,
             "#fb9f3a"
            ],
            [
             0.8888888888888888,
             "#fdca26"
            ],
            [
             1,
             "#f0f921"
            ]
           ],
           "sequentialminus": [
            [
             0,
             "#0d0887"
            ],
            [
             0.1111111111111111,
             "#46039f"
            ],
            [
             0.2222222222222222,
             "#7201a8"
            ],
            [
             0.3333333333333333,
             "#9c179e"
            ],
            [
             0.4444444444444444,
             "#bd3786"
            ],
            [
             0.5555555555555556,
             "#d8576b"
            ],
            [
             0.6666666666666666,
             "#ed7953"
            ],
            [
             0.7777777777777778,
             "#fb9f3a"
            ],
            [
             0.8888888888888888,
             "#fdca26"
            ],
            [
             1,
             "#f0f921"
            ]
           ]
          },
          "colorway": [
           "#636efa",
           "#EF553B",
           "#00cc96",
           "#ab63fa",
           "#FFA15A",
           "#19d3f3",
           "#FF6692",
           "#B6E880",
           "#FF97FF",
           "#FECB52"
          ],
          "font": {
           "color": "#2a3f5f"
          },
          "geo": {
           "bgcolor": "white",
           "lakecolor": "white",
           "landcolor": "#E5ECF6",
           "showlakes": true,
           "showland": true,
           "subunitcolor": "white"
          },
          "hoverlabel": {
           "align": "left"
          },
          "hovermode": "closest",
          "mapbox": {
           "style": "light"
          },
          "paper_bgcolor": "white",
          "plot_bgcolor": "#E5ECF6",
          "polar": {
           "angularaxis": {
            "gridcolor": "white",
            "linecolor": "white",
            "ticks": ""
           },
           "bgcolor": "#E5ECF6",
           "radialaxis": {
            "gridcolor": "white",
            "linecolor": "white",
            "ticks": ""
           }
          },
          "scene": {
           "xaxis": {
            "backgroundcolor": "#E5ECF6",
            "gridcolor": "white",
            "gridwidth": 2,
            "linecolor": "white",
            "showbackground": true,
            "ticks": "",
            "zerolinecolor": "white"
           },
           "yaxis": {
            "backgroundcolor": "#E5ECF6",
            "gridcolor": "white",
            "gridwidth": 2,
            "linecolor": "white",
            "showbackground": true,
            "ticks": "",
            "zerolinecolor": "white"
           },
           "zaxis": {
            "backgroundcolor": "#E5ECF6",
            "gridcolor": "white",
            "gridwidth": 2,
            "linecolor": "white",
            "showbackground": true,
            "ticks": "",
            "zerolinecolor": "white"
           }
          },
          "shapedefaults": {
           "line": {
            "color": "#2a3f5f"
           }
          },
          "ternary": {
           "aaxis": {
            "gridcolor": "white",
            "linecolor": "white",
            "ticks": ""
           },
           "baxis": {
            "gridcolor": "white",
            "linecolor": "white",
            "ticks": ""
           },
           "bgcolor": "#E5ECF6",
           "caxis": {
            "gridcolor": "white",
            "linecolor": "white",
            "ticks": ""
           }
          },
          "title": {
           "x": 0.05
          },
          "xaxis": {
           "automargin": true,
           "gridcolor": "white",
           "linecolor": "white",
           "ticks": "",
           "title": {
            "standoff": 15
           },
           "zerolinecolor": "white",
           "zerolinewidth": 2
          },
          "yaxis": {
           "automargin": true,
           "gridcolor": "white",
           "linecolor": "white",
           "ticks": "",
           "title": {
            "standoff": 15
           },
           "zerolinecolor": "white",
           "zerolinewidth": 2
          }
         }
        },
        "title": {
         "text": "Number of played games",
         "x": 0.5,
         "y": 0.95
        },
        "updatemenus": [
         {
          "buttons": [
           {
            "args": [
             {},
             {
              "annotations": [
               {
                "font": {
                 "color": "#000000"
                },
                "showarrow": false,
                "text": "1718",
                "x": "Finished",
                "xref": "x",
                "y": "Europe",
                "yref": "y"
               },
               {
                "font": {
                 "color": "#FFFFFF"
                },
                "showarrow": false,
                "text": "4453",
                "x": "Unfinished",
                "xref": "x",
                "y": "Europe",
                "yref": "y"
               },
               {
                "font": {
                 "color": "#000000"
                },
                "showarrow": false,
                "text": "1727",
                "x": "Finished",
                "xref": "x",
                "y": "Other",
                "yref": "y"
               },
               {
                "font": {
                 "color": "#FFFFFF"
                },
                "showarrow": false,
                "text": "4444",
                "x": "Unfinished",
                "xref": "x",
                "y": "Other",
                "yref": "y"
               }
              ],
              "title": "Number of played games"
             }
            ],
            "label": "Count",
            "method": "update"
           },
           {
            "args": [
             {},
             {
              "annotations": [
               {
                "font": {
                 "color": "#000000"
                },
                "showarrow": false,
                "text": "49.87 %",
                "x": "Finished",
                "xref": "x",
                "y": "Europe",
                "yref": "y"
               },
               {
                "font": {
                 "color": "#FFFFFF"
                },
                "showarrow": false,
                "text": "50.05 %",
                "x": "Unfinished",
                "xref": "x",
                "y": "Europe",
                "yref": "y"
               },
               {
                "font": {
                 "color": "#000000"
                },
                "showarrow": false,
                "text": "50.13 %",
                "x": "Finished",
                "xref": "x",
                "y": "Other",
                "yref": "y"
               },
               {
                "font": {
                 "color": "#FFFFFF"
                },
                "showarrow": false,
                "text": "49.95 %",
                "x": "Unfinished",
                "xref": "x",
                "y": "Other",
                "yref": "y"
               }
              ],
              "title": "Percentage of played games"
             }
            ],
            "label": "Percentage",
            "method": "update"
           }
          ],
          "direction": "right",
          "showactive": true,
          "type": "buttons",
          "x": 0,
          "xanchor": "left",
          "y": 1.1,
          "yanchor": "top"
         }
        ],
        "width": 800,
        "xaxis": {
         "dtick": 1,
         "gridcolor": "rgb(0, 0, 0)",
         "side": "bottom",
         "ticks": "",
         "title": {
          "text": "Games"
         }
        },
        "yaxis": {
         "dtick": 1,
         "ticks": "",
         "ticksuffix": "  ",
         "title": {
          "text": "Continent"
         }
        }
       }
      }
     },
     "metadata": {},
     "output_type": "display_data"
    }
   ],
   "source": [
    "fig_name = \"paths_count_observe\"\n",
    "fig_title = \"{} of played games\"\n",
    "fig_ylabel = \"Continent\"\n",
    "fig_xlabel = \"Games\"\n",
    "\n",
    "\n",
    "count = pd.crosstab(df_analysis_balanced[\"treatment\"], df_analysis_balanced[\"isFinished\"]).sort_index(ascending=False)\n",
    "percentage = pd.crosstab(df_analysis_balanced[\"treatment\"], df_analysis_balanced[\"isFinished\"], normalize=\"columns\").sort_index(ascending=False)\n",
    "percentage = np.char.mod(\"%0.2f\", percentage.values * 100)\n",
    "percentage = np.core.defchararray.add(percentage, np.full(percentage.shape, \" %\", dtype='2U'))\n",
    "\n",
    "fig = ff.create_annotated_heatmap(\n",
    "    count.values,\n",
    "    annotation_text=count.values,\n",
    "    colorscale=\"Blues\",\n",
    "    x=[\"Finished\", \"Unfinished\"],\n",
    "    y=[TREATMENT_LABEL, CONTROL_LABEL]\n",
    ")\n",
    "\n",
    "count_annotations = fig.to_dict()[\"layout\"][\"annotations\"]\n",
    "percentage_annotations = []\n",
    "for count_annot, percentage_annot in zip(count_annotations, percentage.flatten()):\n",
    "    tmp_annot = copy.deepcopy(count_annot)\n",
    "    tmp_annot[\"text\"] = percentage_annot\n",
    "    percentage_annotations.append(copy.deepcopy(tmp_annot))\n",
    "\n",
    "buttons = [\n",
    "    dict(label=\"Count\", method=\"update\", args=[{}, {\"annotations\": count_annotations, \"title\": fig_title.format(\"Number\")}]),\n",
    "    dict(label=\"Percentage\", method=\"update\", args=[{}, {\"annotations\": percentage_annotations, \"title\": fig_title.format(\"Percentage\")}]),\n",
    "]\n",
    "\n",
    "fig.update_layout(\n",
    "    title=fig_title.format(\"Number\"),\n",
    "    title_x=0.5,\n",
    "    title_y=.95,\n",
    "    yaxis_title=fig_ylabel,\n",
    "    xaxis_title=fig_xlabel,\n",
    "    xaxis_side=\"bottom\",\n",
    "    width=FIGURE_WIDTH,\n",
    "    height=FIGURE_HEIGHT,\n",
    "    updatemenus=[dict(type=\"buttons\", showactive=True, buttons=buttons, x=0, xanchor=\"left\", y=1.1, yanchor=\"top\", direction=\"right\")],\n",
    "    margin=dict(t=100)\n",
    ")\n",
    "\n",
    "fig.write_html(os.path.join(PLOTS_PATH_HTML, f\"{fig_name}_map.html\"))\n",
    "fig.write_image(os.path.join(PLOTS_PATH_PX, f\"{fig_name}_map.pdf\"))\n",
    "fig.show()\n"
   ]
  }
 ],
 "metadata": {
  "kernelspec": {
   "display_name": "base",
   "language": "python",
   "name": "python3"
  },
  "language_info": {
   "codemirror_mode": {
    "name": "ipython",
    "version": 3
   },
   "file_extension": ".py",
   "mimetype": "text/x-python",
   "name": "python",
   "nbconvert_exporter": "python",
   "pygments_lexer": "ipython3",
   "version": "3.11.3"
  }
 },
 "nbformat": 4,
 "nbformat_minor": 2
}
